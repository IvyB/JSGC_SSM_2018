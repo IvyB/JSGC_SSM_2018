{
 "cells": [
  {
   "cell_type": "code",
   "execution_count": 35,
   "metadata": {},
   "outputs": [],
   "source": [
    "import redis\n",
    "import torndb\n",
    "import simplejson as json\n",
    "import random\n",
    "\n",
    "\n",
    "def date_handler(obj):\n",
    "    if hasattr(obj, 'isoformat'):\n",
    "        return obj.isoformat()\n",
    "    else:\n",
    "        raise TypeError\n",
    "\n",
    "# pool = redis.ConnectionPool(host='192.168.55.121', port=6379, password='foobar', decode_responses=True)\n",
    "pool = redis.ConnectionPool(host='123.206.254.42', port=6379, password='#q0AakIO8u*MIG*e', decode_responses=True)\n",
    "\n",
    "\n",
    "db = torndb.Connection(\"123.206.254.42:3306\", \"jinshenxiangmu\",\n",
    "                       user=\"tong\", password=\"DeepDarkM\")\n",
    "# torndb.pytorndb.py\n",
    "r = redis.Redis(connection_pool=pool)\n",
    "\n",
    "\n"
   ]
  },
  {
   "cell_type": "code",
   "execution_count": 3,
   "metadata": {},
   "outputs": [
    {
     "name": "stdout",
     "output_type": "stream",
     "text": [
      "Project:ID:1{\"userID\": 2, \"projectID\": 1, \"projectSerial\": \"\\u9879\\u76ee\\u7f16\\u53f71\", \"projectName\": \"\\u9879\\u76ee\\u540d\\u79f01\", \"projectBudgetSum\": 10000, \"projectStartTime\": \"2018-07-18\", \"projectEndTime\": \"2018-08-18\", \"projectStatus\": 2, \"projectComment\": \"\\u5907\\u6ce823333333\", \"projectDelete\": 0, \"budgetID\": null, \"username\": \"tong\", \"departmentName\": \"\\u90e8\\u95e81\", \"projectDepartmentID\": \"1\"}\n",
      "Project:ID:2{\"userID\": 2, \"projectID\": 2, \"projectSerial\": \"\\u9879\\u76ee\\u7f16\\u53f72\", \"projectName\": \"\\u9879\\u76ee\\u540d\\u79f02\", \"projectBudgetSum\": 10000, \"projectStartTime\": \"2018-07-17\", \"projectEndTime\": \"2018-08-17\", \"projectStatus\": 2, \"projectComment\": \"\\u5907\\u6ce8222222222222\", \"projectDelete\": 0, \"budgetID\": 1, \"username\": \"tong\", \"departmentName\": \"\\u90e8\\u95e81\", \"projectDepartmentID\": \"1\"}\n",
      "Project:ID:3{\"userID\": 2, \"projectID\": 3, \"projectSerial\": \"\\u9879\\u76ee\\u7f16\\u53f73\", \"projectName\": \"\\u9879\\u76ee\\u540d\\u79f03\", \"projectBudgetSum\": 10000, \"projectStartTime\": \"2018-07-16\", \"projectEndTime\": \"2018-08-16\", \"projectStatus\": 1, \"projectComment\": \"\\u5907\\u6ce81\", \"projectDelete\": 0, \"budgetID\": 2, \"username\": \"tong\", \"departmentName\": \"\\u90e8\\u95e81\", \"projectDepartmentID\": \"1\"}\n",
      "Project:ID:4{\"userID\": 1, \"projectID\": 4, \"projectSerial\": \"\\u9879\\u76ee\\u7f16\\u53f74\", \"projectName\": \"\\u9879\\u76ee\\u540d\\u79f04\", \"projectBudgetSum\": 10000, \"projectStartTime\": \"2018-07-25\", \"projectEndTime\": \"2018-07-25\", \"projectStatus\": 1, \"projectComment\": \"\\u5907\\u6ce82\", \"projectDelete\": 0, \"budgetID\": 2, \"username\": \"qiang\", \"departmentName\": \"\\u90e8\\u95e82\", \"projectDepartmentID\": \"2\"}\n",
      "Project:ID:5{\"userID\": null, \"projectID\": 5, \"projectSerial\": \"\\u9879\\u76ee\\u7f16\\u53f75\", \"projectName\": null, \"projectBudgetSum\": null, \"projectStartTime\": null, \"projectEndTime\": null, \"projectStatus\": null, \"projectComment\": \"\", \"projectDelete\": 1, \"budgetID\": null, \"username\": null, \"departmentName\": null, \"projectDepartmentID\": null}\n",
      "Project:ID:6{\"userID\": null, \"projectID\": 6, \"projectSerial\": \"\\u9879\\u76ee\\u7f16\\u53f76\", \"projectName\": null, \"projectBudgetSum\": null, \"projectStartTime\": null, \"projectEndTime\": null, \"projectStatus\": null, \"projectComment\": \"\", \"projectDelete\": 0, \"budgetID\": null, \"username\": null, \"departmentName\": null, \"projectDepartmentID\": null}\n",
      "Project:ID:7{\"userID\": null, \"projectID\": 7, \"projectSerial\": \"\\u9879\\u76ee\\u7f16\\u53f77\", \"projectName\": null, \"projectBudgetSum\": null, \"projectStartTime\": null, \"projectEndTime\": null, \"projectStatus\": null, \"projectComment\": \"\", \"projectDelete\": 0, \"budgetID\": null, \"username\": null, \"departmentName\": null, \"projectDepartmentID\": null}\n",
      "Project:ID:8{\"userID\": null, \"projectID\": 8, \"projectSerial\": \"\\u9879\\u76ee\\u7f16\\u53f78\", \"projectName\": null, \"projectBudgetSum\": null, \"projectStartTime\": null, \"projectEndTime\": null, \"projectStatus\": null, \"projectComment\": \"\", \"projectDelete\": 1, \"budgetID\": null, \"username\": null, \"departmentName\": null, \"projectDepartmentID\": null}\n",
      "Project:ID:9{\"userID\": null, \"projectID\": 9, \"projectSerial\": \"\\u9879\\u76ee\\u7f16\\u53f79\", \"projectName\": null, \"projectBudgetSum\": null, \"projectStartTime\": null, \"projectEndTime\": null, \"projectStatus\": null, \"projectComment\": \"\", \"projectDelete\": 1, \"budgetID\": null, \"username\": null, \"departmentName\": null, \"projectDepartmentID\": null}\n",
      "Project:ID:10{\"userID\": 2, \"projectID\": 10, \"projectSerial\": \"\\u9879\\u76ee\\u7f16\\u53f710\", \"projectName\": \"111111\", \"projectBudgetSum\": 1111111111, \"projectStartTime\": null, \"projectEndTime\": null, \"projectStatus\": null, \"projectComment\": \"\", \"projectDelete\": 0, \"budgetID\": 21, \"username\": \"tong\", \"departmentName\": null, \"projectDepartmentID\": null}\n",
      "Project:ID:11{\"userID\": null, \"projectID\": 11, \"projectSerial\": \"\\u9879\\u76ee\\u7f16\\u53f711\", \"projectName\": null, \"projectBudgetSum\": null, \"projectStartTime\": null, \"projectEndTime\": null, \"projectStatus\": null, \"projectComment\": \"\", \"projectDelete\": 0, \"budgetID\": null, \"username\": null, \"departmentName\": null, \"projectDepartmentID\": null}\n",
      "Project:ID:12{\"userID\": null, \"projectID\": 12, \"projectSerial\": \"\\u9879\\u76ee\\u7f16\\u53f712\", \"projectName\": null, \"projectBudgetSum\": null, \"projectStartTime\": null, \"projectEndTime\": null, \"projectStatus\": null, \"projectComment\": \"\", \"projectDelete\": 0, \"budgetID\": null, \"username\": null, \"departmentName\": null, \"projectDepartmentID\": null}\n",
      "Project:ID:13{\"userID\": null, \"projectID\": 13, \"projectSerial\": \"\\u9879\\u76ee\\u7f16\\u53f713\", \"projectName\": null, \"projectBudgetSum\": null, \"projectStartTime\": null, \"projectEndTime\": null, \"projectStatus\": null, \"projectComment\": \"\", \"projectDelete\": 0, \"budgetID\": null, \"username\": null, \"departmentName\": null, \"projectDepartmentID\": null}\n",
      "Project:ID:14{\"userID\": null, \"projectID\": 14, \"projectSerial\": \"\\u9879\\u76ee\\u7f16\\u53f714\", \"projectName\": null, \"projectBudgetSum\": null, \"projectStartTime\": null, \"projectEndTime\": null, \"projectStatus\": null, \"projectComment\": \"\", \"projectDelete\": 1, \"budgetID\": null, \"username\": null, \"departmentName\": null, \"projectDepartmentID\": null}\n",
      "Project:ID:15{\"userID\": null, \"projectID\": 15, \"projectSerial\": \"\\u9879\\u76ee\\u7f16\\u53f715\", \"projectName\": \"1111\", \"projectBudgetSum\": null, \"projectStartTime\": null, \"projectEndTime\": null, \"projectStatus\": null, \"projectComment\": \"\", \"projectDelete\": 1, \"budgetID\": null, \"username\": null, \"departmentName\": null, \"projectDepartmentID\": null}\n",
      "Project:ID:16{\"userID\": null, \"projectID\": 16, \"projectSerial\": \"\\u9879\\u76ee\\u7f16\\u53f716\", \"projectName\": null, \"projectBudgetSum\": null, \"projectStartTime\": null, \"projectEndTime\": null, \"projectStatus\": null, \"projectComment\": \"\", \"projectDelete\": 1, \"budgetID\": null, \"username\": null, \"departmentName\": null, \"projectDepartmentID\": null}\n",
      "Project:ID:17{\"userID\": null, \"projectID\": 17, \"projectSerial\": \"\\u9879\\u76ee\\u7f16\\u53f717\", \"projectName\": null, \"projectBudgetSum\": null, \"projectStartTime\": null, \"projectEndTime\": null, \"projectStatus\": null, \"projectComment\": \"\", \"projectDelete\": 0, \"budgetID\": null, \"username\": null, \"departmentName\": null, \"projectDepartmentID\": null}\n",
      "Project:ID:18{\"userID\": null, \"projectID\": 18, \"projectSerial\": \"\\u9879\\u76ee\\u7f16\\u53f718\", \"projectName\": null, \"projectBudgetSum\": null, \"projectStartTime\": null, \"projectEndTime\": null, \"projectStatus\": null, \"projectComment\": \"\", \"projectDelete\": 0, \"budgetID\": null, \"username\": null, \"departmentName\": null, \"projectDepartmentID\": null}\n",
      "Project:ID:19{\"userID\": null, \"projectID\": 19, \"projectSerial\": \"\\u9879\\u76ee\\u7f16\\u53f719\", \"projectName\": null, \"projectBudgetSum\": null, \"projectStartTime\": null, \"projectEndTime\": null, \"projectStatus\": null, \"projectComment\": \"\", \"projectDelete\": 0, \"budgetID\": null, \"username\": null, \"departmentName\": null, \"projectDepartmentID\": null}\n",
      "Project:ID:20{\"userID\": null, \"projectID\": 20, \"projectSerial\": \"\\u9879\\u76ee\\u7f16\\u53f720\", \"projectName\": null, \"projectBudgetSum\": null, \"projectStartTime\": null, \"projectEndTime\": null, \"projectStatus\": null, \"projectComment\": \"\", \"projectDelete\": 0, \"budgetID\": null, \"username\": null, \"departmentName\": null, \"projectDepartmentID\": null}\n",
      "Project:ID:21{\"userID\": null, \"projectID\": 21, \"projectSerial\": \"\\u9879\\u76ee\\u7f16\\u53f721\", \"projectName\": null, \"projectBudgetSum\": null, \"projectStartTime\": null, \"projectEndTime\": null, \"projectStatus\": null, \"projectComment\": \"\", \"projectDelete\": 0, \"budgetID\": null, \"username\": null, \"departmentName\": null, \"projectDepartmentID\": null}\n",
      "Project:ID:22{\"userID\": null, \"projectID\": 22, \"projectSerial\": \"\\u9879\\u76ee\\u7f16\\u53f722\", \"projectName\": null, \"projectBudgetSum\": null, \"projectStartTime\": null, \"projectEndTime\": null, \"projectStatus\": null, \"projectComment\": \"\", \"projectDelete\": 0, \"budgetID\": null, \"username\": null, \"departmentName\": null, \"projectDepartmentID\": null}\n",
      "Project:ID:23{\"userID\": null, \"projectID\": 23, \"projectSerial\": \"\\u9879\\u76ee\\u7f16\\u53f723\", \"projectName\": null, \"projectBudgetSum\": null, \"projectStartTime\": null, \"projectEndTime\": null, \"projectStatus\": null, \"projectComment\": \"\", \"projectDelete\": 0, \"budgetID\": null, \"username\": null, \"departmentName\": null, \"projectDepartmentID\": null}\n",
      "Project:ID:24{\"userID\": null, \"projectID\": 24, \"projectSerial\": \"\\u9879\\u76ee\\u7f16\\u53f724\", \"projectName\": null, \"projectBudgetSum\": null, \"projectStartTime\": null, \"projectEndTime\": null, \"projectStatus\": null, \"projectComment\": \"\", \"projectDelete\": 0, \"budgetID\": null, \"username\": null, \"departmentName\": null, \"projectDepartmentID\": null}\n",
      "Project:ID:25{\"userID\": null, \"projectID\": 25, \"projectSerial\": \"\\u9879\\u76ee\\u7f16\\u53f725\", \"projectName\": null, \"projectBudgetSum\": null, \"projectStartTime\": null, \"projectEndTime\": null, \"projectStatus\": null, \"projectComment\": \"\", \"projectDelete\": 0, \"budgetID\": null, \"username\": null, \"departmentName\": null, \"projectDepartmentID\": null}\n",
      "Project:ID:26{\"userID\": null, \"projectID\": 26, \"projectSerial\": \"\\u9879\\u76ee\\u7f16\\u53f726\", \"projectName\": null, \"projectBudgetSum\": null, \"projectStartTime\": null, \"projectEndTime\": null, \"projectStatus\": null, \"projectComment\": \"\", \"projectDelete\": 0, \"budgetID\": null, \"username\": null, \"departmentName\": null, \"projectDepartmentID\": null}\n",
      "Project:ID:27{\"userID\": null, \"projectID\": 27, \"projectSerial\": \"\\u9879\\u76ee\\u7f16\\u53f727\", \"projectName\": null, \"projectBudgetSum\": null, \"projectStartTime\": null, \"projectEndTime\": null, \"projectStatus\": null, \"projectComment\": \"\", \"projectDelete\": 0, \"budgetID\": null, \"username\": null, \"departmentName\": null, \"projectDepartmentID\": null}\n",
      "Project:ID:28{\"userID\": null, \"projectID\": 28, \"projectSerial\": \"\\u9879\\u76ee\\u7f16\\u53f728\", \"projectName\": null, \"projectBudgetSum\": null, \"projectStartTime\": null, \"projectEndTime\": null, \"projectStatus\": null, \"projectComment\": \"\", \"projectDelete\": 0, \"budgetID\": null, \"username\": null, \"departmentName\": null, \"projectDepartmentID\": null}\n",
      "Project:ID:29{\"userID\": null, \"projectID\": 29, \"projectSerial\": \"\\u9879\\u76ee\\u7f16\\u53f729\", \"projectName\": null, \"projectBudgetSum\": null, \"projectStartTime\": null, \"projectEndTime\": null, \"projectStatus\": null, \"projectComment\": \"\", \"projectDelete\": 0, \"budgetID\": null, \"username\": null, \"departmentName\": null, \"projectDepartmentID\": null}\n",
      "Project:ID:30{\"userID\": null, \"projectID\": 30, \"projectSerial\": \"\\u9879\\u76ee\\u7f16\\u53f730\", \"projectName\": null, \"projectBudgetSum\": null, \"projectStartTime\": null, \"projectEndTime\": null, \"projectStatus\": null, \"projectComment\": \"\", \"projectDelete\": 0, \"budgetID\": null, \"username\": null, \"departmentName\": null, \"projectDepartmentID\": null}\n",
      "Project:ID:31{\"userID\": null, \"projectID\": 31, \"projectSerial\": \"\\u9879\\u76ee\\u7f16\\u53f731\", \"projectName\": null, \"projectBudgetSum\": null, \"projectStartTime\": null, \"projectEndTime\": null, \"projectStatus\": null, \"projectComment\": \"\", \"projectDelete\": 0, \"budgetID\": null, \"username\": null, \"departmentName\": null, \"projectDepartmentID\": null}\n",
      "Project:ID:32{\"userID\": null, \"projectID\": 32, \"projectSerial\": \"\\u9879\\u76ee\\u7f16\\u53f732\", \"projectName\": null, \"projectBudgetSum\": null, \"projectStartTime\": null, \"projectEndTime\": null, \"projectStatus\": null, \"projectComment\": \"\", \"projectDelete\": 0, \"budgetID\": null, \"username\": null, \"departmentName\": null, \"projectDepartmentID\": null}\n",
      "Project:ID:33{\"userID\": null, \"projectID\": 33, \"projectSerial\": \"\\u9879\\u76ee\\u7f16\\u53f733\", \"projectName\": null, \"projectBudgetSum\": 3300, \"projectStartTime\": null, \"projectEndTime\": null, \"projectStatus\": null, \"projectComment\": \"\", \"projectDelete\": 0, \"budgetID\": null, \"username\": null, \"departmentName\": null, \"projectDepartmentID\": null}\n",
      "Project:ID:54{\"userID\": null, \"projectID\": 54, \"projectSerial\": \"\\u9879\\u76ee\\u7f16\\u53f734\", \"projectName\": null, \"projectBudgetSum\": null, \"projectStartTime\": null, \"projectEndTime\": null, \"projectStatus\": null, \"projectComment\": \"\", \"projectDelete\": 0, \"budgetID\": null, \"username\": null, \"departmentName\": null, \"projectDepartmentID\": null}\n",
      "Project:ID:55{\"userID\": null, \"projectID\": 55, \"projectSerial\": \"\\u9879\\u76ee\\u7f16\\u53f735\", \"projectName\": null, \"projectBudgetSum\": null, \"projectStartTime\": null, \"projectEndTime\": null, \"projectStatus\": null, \"projectComment\": \"\", \"projectDelete\": 0, \"budgetID\": null, \"username\": null, \"departmentName\": null, \"projectDepartmentID\": null}\n",
      "Project:ID:56{\"userID\": null, \"projectID\": 56, \"projectSerial\": \"\\u9879\\u76ee\\u7f16\\u53f736\", \"projectName\": null, \"projectBudgetSum\": null, \"projectStartTime\": null, \"projectEndTime\": null, \"projectStatus\": null, \"projectComment\": \"\", \"projectDelete\": 0, \"budgetID\": null, \"username\": null, \"departmentName\": null, \"projectDepartmentID\": null}\n",
      "Project:ID:57{\"userID\": null, \"projectID\": 57, \"projectSerial\": \"\\u9879\\u76ee\\u7f16\\u53f737\", \"projectName\": null, \"projectBudgetSum\": 222222, \"projectStartTime\": null, \"projectEndTime\": null, \"projectStatus\": null, \"projectComment\": \"\", \"projectDelete\": 0, \"budgetID\": null, \"username\": null, \"departmentName\": null, \"projectDepartmentID\": null}\n",
      "Project:ID:58{\"userID\": null, \"projectID\": 58, \"projectSerial\": \"1\", \"projectName\": \"1\", \"projectBudgetSum\": 1, \"projectStartTime\": null, \"projectEndTime\": null, \"projectStatus\": null, \"projectComment\": \"1\", \"projectDelete\": 0, \"budgetID\": null, \"username\": null, \"departmentName\": null, \"projectDepartmentID\": null}\n",
      "Project:ID:59{\"userID\": null, \"projectID\": 59, \"projectSerial\": \"dfhuohfoeqoqe\", \"projectName\": \"\\u6d4b\\u8bd5\\u9879\\u76ee\", \"projectBudgetSum\": 3000000, \"projectStartTime\": null, \"projectEndTime\": null, \"projectStatus\": null, \"projectComment\": \"\\u6d4b\\u8bd5\\u9879\\u76ee\", \"projectDelete\": 0, \"budgetID\": null, \"username\": null, \"departmentName\": null, \"projectDepartmentID\": null}\n",
      "Project:ID:60{\"userID\": null, \"projectID\": 60, \"projectSerial\": \"serial33\", \"projectName\": \"name33\", \"projectBudgetSum\": 20000, \"projectStartTime\": null, \"projectEndTime\": null, \"projectStatus\": null, \"projectComment\": \"aa\", \"projectDelete\": 0, \"budgetID\": null, \"username\": null, \"departmentName\": null, \"projectDepartmentID\": null}\n",
      "Project:ID:61{\"userID\": null, \"projectID\": 61, \"projectSerial\": \"adda\", \"projectName\": \"\\u9879\\u76ee adda\", \"projectBudgetSum\": 1111, \"projectStartTime\": null, \"projectEndTime\": null, \"projectStatus\": null, \"projectComment\": \"\", \"projectDelete\": 0, \"budgetID\": null, \"username\": null, \"departmentName\": null, \"projectDepartmentID\": null}\n",
      "Project:ID:62{\"userID\": null, \"projectID\": 62, \"projectSerial\": \"35\", \"projectName\": \"35\", \"projectBudgetSum\": 2222, \"projectStartTime\": null, \"projectEndTime\": null, \"projectStatus\": null, \"projectComment\": \"5555\", \"projectDelete\": 0, \"budgetID\": null, \"username\": null, \"departmentName\": null, \"projectDepartmentID\": null}\n",
      "Project:ID:64{\"userID\": null, \"projectID\": 64, \"projectSerial\": \"21\", \"projectName\": \"21\", \"projectBudgetSum\": 11, \"projectStartTime\": null, \"projectEndTime\": null, \"projectStatus\": null, \"projectComment\": \"111\", \"projectDelete\": 0, \"budgetID\": null, \"username\": null, \"departmentName\": null, \"projectDepartmentID\": null}\n",
      "Project:ID:65{\"userID\": null, \"projectID\": 65, \"projectSerial\": \"22\", \"projectName\": \"21\", \"projectBudgetSum\": 11, \"projectStartTime\": null, \"projectEndTime\": null, \"projectStatus\": null, \"projectComment\": \"111\", \"projectDelete\": 0, \"budgetID\": null, \"username\": null, \"departmentName\": null, \"projectDepartmentID\": null}\n",
      "Project:ID:66{\"userID\": null, \"projectID\": 66, \"projectSerial\": \"23\", \"projectName\": \"23\", \"projectBudgetSum\": 11, \"projectStartTime\": null, \"projectEndTime\": null, \"projectStatus\": null, \"projectComment\": \"111\", \"projectDelete\": 0, \"budgetID\": null, \"username\": null, \"departmentName\": null, \"projectDepartmentID\": null}\n",
      "Project:ID:68{\"userID\": null, \"projectID\": 68, \"projectSerial\": \"41\", \"projectName\": \"41\", \"projectBudgetSum\": 1000, \"projectStartTime\": null, \"projectEndTime\": null, \"projectStatus\": null, \"projectComment\": \"ad\", \"projectDelete\": 1, \"budgetID\": null, \"username\": null, \"departmentName\": null, \"projectDepartmentID\": null}\n",
      "Project:ID:69{\"userID\": null, \"projectID\": 69, \"projectSerial\": \"42\", \"projectName\": \"42\", \"projectBudgetSum\": 1000, \"projectStartTime\": null, \"projectEndTime\": null, \"projectStatus\": null, \"projectComment\": \"ada\", \"projectDelete\": 0, \"budgetID\": null, \"username\": null, \"departmentName\": null, \"projectDepartmentID\": null}\n",
      "Project:ID:70{\"userID\": null, \"projectID\": 70, \"projectSerial\": \"43\", \"projectName\": \"43\", \"projectBudgetSum\": 1000, \"projectStartTime\": null, \"projectEndTime\": null, \"projectStatus\": null, \"projectComment\": \"ada\", \"projectDelete\": 0, \"budgetID\": null, \"username\": null, \"departmentName\": null, \"projectDepartmentID\": null}\n",
      "Project:ID:71{\"userID\": 1, \"projectID\": 71, \"projectSerial\": \"44\", \"projectName\": \"44\", \"projectBudgetSum\": 122, \"projectStartTime\": null, \"projectEndTime\": null, \"projectStatus\": null, \"projectComment\": \"adaa\", \"projectDelete\": 0, \"budgetID\": null, \"username\": \"qiang\", \"departmentName\": null, \"projectDepartmentID\": null}\n",
      "Project:ID:72{\"userID\": 1, \"projectID\": 72, \"projectSerial\": \"45\", \"projectName\": \"45\", \"projectBudgetSum\": 111, \"projectStartTime\": null, \"projectEndTime\": null, \"projectStatus\": null, \"projectComment\": \"afa\", \"projectDelete\": 0, \"budgetID\": null, \"username\": \"qiang\", \"departmentName\": null, \"projectDepartmentID\": null}\n",
      "Project:ID:79{\"userID\": 1, \"projectID\": 79, \"projectSerial\": \"46\", \"projectName\": \"45\\u552f\\u4e00\\u6027\\u6d4b\\u8bd5\", \"projectBudgetSum\": 1112, \"projectStartTime\": null, \"projectEndTime\": null, \"projectStatus\": null, \"projectComment\": \"afafa\", \"projectDelete\": 1, \"budgetID\": null, \"username\": \"qiang\", \"departmentName\": null, \"projectDepartmentID\": null}\n",
      "Project:ID:81{\"userID\": 1, \"projectID\": 81, \"projectSerial\": \"50\", \"projectName\": \"ada\", \"projectBudgetSum\": 22, \"projectStartTime\": null, \"projectEndTime\": null, \"projectStatus\": null, \"projectComment\": \"22\", \"projectDelete\": 0, \"budgetID\": null, \"username\": \"qiang\", \"departmentName\": \"\\u90e8\\u95e84\", \"projectDepartmentID\": \"4\"}\n",
      "Project:ID:86{\"userID\": 1, \"projectID\": 86, \"projectSerial\": \"\", \"projectName\": \"dada\", \"projectBudgetSum\": null, \"projectStartTime\": null, \"projectEndTime\": null, \"projectStatus\": null, \"projectComment\": \"\", \"projectDelete\": 1, \"budgetID\": null, \"username\": \"qiang\", \"departmentName\": \"\\u90e8\\u95e84\", \"projectDepartmentID\": \"4\"}\n",
      "Project:ID:87{\"userID\": 2, \"projectID\": 87, \"projectSerial\": \"\\u6d4b\\u8bd5test1\", \"projectName\": \"\\u6d4b\\u8bd5test1\", \"projectBudgetSum\": 400, \"projectStartTime\": null, \"projectEndTime\": null, \"projectStatus\": null, \"projectComment\": \"\\u6d4b\\u8bd51\", \"projectDelete\": 0, \"budgetID\": null, \"username\": \"tong\", \"departmentName\": \"\\u90e8\\u95e84\", \"projectDepartmentID\": \"4\"}\n",
      "Project:ID:88{\"userID\": 5, \"projectID\": 88, \"projectSerial\": \"\\u6d4b\\u8bd5\\u8d1f\\u8d23\\u4eba1\\u8bbf\\u95ee\\u8303\\u56f41\", \"projectName\": \"\\u6d4b\\u8bd5\\u8d1f\\u8d23\\u4eba1\\u8bbf\\u95ee\\u8303\\u56f4\", \"projectBudgetSum\": 0, \"projectStartTime\": \"2018-08-22\", \"projectEndTime\": null, \"projectStatus\": null, \"projectComment\": \"aaaa\", \"projectDelete\": 0, \"budgetID\": null, \"username\": \"\\u9879\\u76ee\\u8d1f\\u8d23\\u4eba1\", \"departmentName\": \"\\u90e8\\u95e81\", \"projectDepartmentID\": \"1\"}\n",
      "Project:ID:108{\"userID\": 2, \"projectID\": 108, \"projectSerial\": \"gg\", \"projectName\": \"gg\", \"projectBudgetSum\": 11, \"projectStartTime\": null, \"projectEndTime\": null, \"projectStatus\": null, \"projectComment\": \"11\", \"projectDelete\": 0, \"budgetID\": null, \"username\": \"tong\", \"departmentName\": \"\\u90e8\\u95e84\", \"projectDepartmentID\": \"4\"}\n",
      "Project:ID:109{\"userID\": 2, \"projectID\": 109, \"projectSerial\": \"\\u6d4b\\u8bd52018-8-6\", \"projectName\": \"\\u6d4b\\u8bd52018-8-6\", \"projectBudgetSum\": 100000, \"projectStartTime\": null, \"projectEndTime\": null, \"projectStatus\": null, \"projectComment\": \"\\u6d4b\\u8bd52018-8-6\", \"projectDelete\": 0, \"budgetID\": null, \"username\": \"tong\", \"departmentName\": \"\\u90e8\\u95e84\", \"projectDepartmentID\": \"4\"}\n"
     ]
    },
    {
     "data": {
      "text/plain": [
       "[True,\n",
       " True,\n",
       " True,\n",
       " True,\n",
       " True,\n",
       " True,\n",
       " True,\n",
       " True,\n",
       " True,\n",
       " True,\n",
       " True,\n",
       " True,\n",
       " True,\n",
       " True,\n",
       " True,\n",
       " True,\n",
       " True,\n",
       " True,\n",
       " True,\n",
       " True,\n",
       " True,\n",
       " True,\n",
       " True,\n",
       " True,\n",
       " True,\n",
       " True,\n",
       " True,\n",
       " True,\n",
       " True,\n",
       " True,\n",
       " True,\n",
       " True,\n",
       " True,\n",
       " True,\n",
       " True,\n",
       " True,\n",
       " True,\n",
       " True,\n",
       " True,\n",
       " True,\n",
       " True,\n",
       " True,\n",
       " True,\n",
       " True,\n",
       " True,\n",
       " True,\n",
       " True,\n",
       " True,\n",
       " True,\n",
       " True,\n",
       " True,\n",
       " True,\n",
       " True,\n",
       " True,\n",
       " True,\n",
       " True,\n",
       " True]"
      ]
     },
     "execution_count": 3,
     "metadata": {},
     "output_type": "execute_result"
    }
   ],
   "source": [
    "# 设置项目详情\n",
    "sql = 'SELECT userID, project.projectID,projectSerial,projectName,projectBudgetSum,projectStartTime,projectEndTime,projectStatus,projectComment,projectDelete,budgetID,username,departmentName,projectDepartmentID  FROM project left JOIN department ON projectDepartmentID=departmentID left JOIN `user` ON projectChargerID=userID'\n",
    "result = db.query(sql)\n",
    "pipe = r.pipeline(transaction=True)\n",
    "for i in result:\n",
    "    value = json.dumps(i, default=date_handler)\n",
    "    key = \"Project:ID:\"+str(i.get(\"projectID\"))\n",
    "    print (key+value)\n",
    "    pipe.set(key, value)\n",
    "pipe.execute()"
   ]
  },
  {
   "cell_type": "code",
   "execution_count": 4,
   "metadata": {},
   "outputs": [
    {
     "data": {
      "text/plain": [
       "[]"
      ]
     },
     "execution_count": 4,
     "metadata": {},
     "output_type": "execute_result"
    }
   ],
   "source": [
    "# 设置项目列表\n",
    "# r.zadd(\"Project:All:Default\",)\n",
    "sql = 'SELECT project.projectID from project'\n",
    "result = db.query(sql)\n",
    "pipe = r.pipeline(transaction=True)\n",
    "for i in result:\n",
    "    value = str(i.get(\"projectID\"))\n",
    "    key = \"Project:All:Default\"\n",
    "#     print (key+value)\n",
    "    r.zadd(key, i.get(\"projectID\"), value)\n",
    "pipe.execute()"
   ]
  },
  {
   "cell_type": "code",
   "execution_count": 5,
   "metadata": {},
   "outputs": [
    {
     "name": "stdout",
     "output_type": "stream",
     "text": [
      "[{'userID': 2, 'projectID': 2, 'projectSerial': '项目编号2', 'projectName': '项目名称2', 'projectBudgetSum': 10000, 'projectStartTime': '2018-07-17', 'projectEndTime': '2018-08-17', 'projectStatus': 2, 'projectComment': '备注222222222222', 'projectDelete': 0, 'budgetID': 1, 'username': 'tong', 'departmentName': '部门1', 'projectDepartmentID': '1'}, {'userID': 2, 'projectID': 3, 'projectSerial': '项目编号3', 'projectName': '项目名称3', 'projectBudgetSum': 10000, 'projectStartTime': '2018-07-16', 'projectEndTime': '2018-08-16', 'projectStatus': 1, 'projectComment': '备注1', 'projectDelete': 0, 'budgetID': 2, 'username': 'tong', 'departmentName': '部门1', 'projectDepartmentID': '1'}]\n"
     ]
    }
   ],
   "source": [
    "# 测试获取项目列表\n",
    "prolist = r.zrange(\"Project:All:Default\", 1, 2)\n",
    "result=[]\n",
    "keys=[]\n",
    "for i in prolist:\n",
    "    key = \"Project:ID:\"+i\n",
    "    result.append(json.loads(r.get(key)))\n",
    "print(result)"
   ]
  },
  {
   "cell_type": "code",
   "execution_count": 6,
   "metadata": {},
   "outputs": [
    {
     "data": {
      "text/plain": [
       "'{\"userID\": 2, \"projectID\": 1, \"projectSerial\": \"\\\\u9879\\\\u76ee\\\\u7f16\\\\u53f71\", \"projectName\": \"\\\\u9879\\\\u76ee\\\\u540d\\\\u79f01\", \"projectBudgetSum\": 10000, \"projectStartTime\": \"2018-07-18\", \"projectEndTime\": \"2018-08-18\", \"projectStatus\": 2, \"projectComment\": \"\\\\u5907\\\\u6ce823333333\", \"projectDelete\": 0, \"budgetID\": null, \"username\": \"tong\", \"departmentName\": \"\\\\u90e8\\\\u95e81\", \"projectDepartmentID\": \"1\"}'"
      ]
     },
     "execution_count": 6,
     "metadata": {},
     "output_type": "execute_result"
    }
   ],
   "source": [
    "r.get(\"Project:ID:1\")"
   ]
  },
  {
   "cell_type": "code",
   "execution_count": 7,
   "metadata": {
    "scrolled": true
   },
   "outputs": [
    {
     "data": {
      "text/plain": [
       "[]"
      ]
     },
     "execution_count": 7,
     "metadata": {},
     "output_type": "execute_result"
    }
   ],
   "source": [
    "# 所有用户列表\n",
    "sql = 'SELECT userID from user'\n",
    "result = db.query(sql)\n",
    "pipe = r.pipeline(transaction=True)\n",
    "for i in result:\n",
    "    value = str(i.get(\"userID\"))\n",
    "    key = \"User:All:Default\"\n",
    "#     print (key+value)\n",
    "    r.zadd(key,value, value)\n",
    "pipe.execute()"
   ]
  },
  {
   "cell_type": "code",
   "execution_count": 8,
   "metadata": {},
   "outputs": [
    {
     "data": {
      "text/plain": [
       "[0, 1, 1, 1, 1, 1, 0, 0, 0, 1, 1, 1, 1, 1]"
      ]
     },
     "execution_count": 8,
     "metadata": {},
     "output_type": "execute_result"
    }
   ],
   "source": [
    "# 用户的项目列表\n",
    "userList = r.zrange(\"User:All:Default\", 0 ,-1)\n",
    "sql = 'SELECT project.projectSerial,project.projectID from project where projectChargerID = %s'\n",
    "pipe = r.pipeline(transaction=True)\n",
    "for j in userList:\n",
    "    result = db.query(sql, j)\n",
    "    for i in result:\n",
    "        value = str(i.get(\"projectSerial\"))\n",
    "        key = \"ProjectSerial:User:\"+j\n",
    "        pipe.zadd(key, value,i.get(\"projectID\") )\n",
    "pipe.execute()"
   ]
  },
  {
   "cell_type": "code",
   "execution_count": 9,
   "metadata": {},
   "outputs": [
    {
     "data": {
      "text/plain": [
       "[1,\n",
       " 1,\n",
       " 1,\n",
       " 1,\n",
       " 0,\n",
       " 0,\n",
       " 0,\n",
       " 0,\n",
       " 0,\n",
       " 0,\n",
       " 0,\n",
       " 0,\n",
       " 0,\n",
       " 0,\n",
       " 0,\n",
       " 0,\n",
       " 0,\n",
       " 0,\n",
       " 0,\n",
       " 0,\n",
       " 0,\n",
       " 0,\n",
       " 0,\n",
       " 0,\n",
       " 0,\n",
       " 0,\n",
       " 0,\n",
       " 0,\n",
       " 1,\n",
       " 1,\n",
       " 0,\n",
       " 0,\n",
       " 0,\n",
       " 0,\n",
       " 0,\n",
       " 0,\n",
       " 0,\n",
       " 0,\n",
       " 0,\n",
       " 0,\n",
       " 0,\n",
       " 0,\n",
       " 0,\n",
       " 0,\n",
       " 0,\n",
       " 0,\n",
       " 0,\n",
       " 0,\n",
       " 0,\n",
       " 0,\n",
       " 0,\n",
       " 0,\n",
       " 0,\n",
       " 0,\n",
       " 0,\n",
       " 0,\n",
       " 0,\n",
       " 0]"
      ]
     },
     "execution_count": 9,
     "metadata": {},
     "output_type": "execute_result"
    }
   ],
   "source": [
    "# 用户的项目下的合同列表\n",
    "userList = r.zrange(\"User:All:Default\", 0 ,-1)\n",
    "sql = 'SELECT contractSerial,contractID FROM contract WHERE projectID= %s'\n",
    "pipe = r.pipeline(transaction=True)\n",
    "for j in userList:\n",
    "    for i in r.zrange(\"Project:User:\"+j,0,-1):\n",
    "        for k in db.query(sql,i):\n",
    "            value = str(k.get(\"contractSerial\"))\n",
    "            key1 = \"ContractSerial:User:\"+j+\":Project:\"+i\n",
    "            key2 = \"ContracSerialt:User:\"+j\n",
    "            pipe.zadd(key1, value, k.get(\"contractID\"), )\n",
    "            pipe.zadd(key2, value, k.get(\"contractID\"))\n",
    "\n",
    "\n",
    "pipe.execute()\n",
    "        \n"
   ]
  },
  {
   "cell_type": "code",
   "execution_count": 10,
   "metadata": {},
   "outputs": [
    {
     "name": "stdout",
     "output_type": "stream",
     "text": [
      "Contract:ID:235{\"contractID\": 235, \"contractSerial\": \"\\u5408\\u540c\\u7f16\\u53f710\", \"contractName\": \"\\u5408\\u540c\\u540d\\u79f010\", \"contractPartner\": \"\\u7532\\u3001\\u4e59\\u3001\\u4e19\\u3001\\u4e01\", \"contractSignedTime\": \"2018-08-01\", \"contractMoney\": 10000, \"contractComment\": \"\\u5907\\u6ce810\", \"projectSerial\": \"\\u9879\\u76ee\\u7f16\\u53f71\", \"contractDelete\": 0, \"contractOwner\": null, \"contractContent\": \"xxx10\"}\n",
      "Contract:ID:236{\"contractID\": 236, \"contractSerial\": \"\\u5408\\u540c\\u7f16\\u53f71\", \"contractName\": \"\\u5408\\u540c\\u540d\\u79f01\", \"contractPartner\": \"\\u7532\\u4e59\\u4e19\", \"contractSignedTime\": \"2018-07-17\", \"contractMoney\": 200, \"contractComment\": \"\\u5907\\u6ce81\", \"projectSerial\": \"\\u9879\\u76ee\\u7f16\\u53f71\", \"contractDelete\": 0, \"contractOwner\": null, \"contractContent\": \"xxx1\"}\n",
      "Contract:ID:237{\"contractID\": 237, \"contractSerial\": \"\\u5408\\u540c\\u7f16\\u53f73\", \"contractName\": \"\\u5408\\u540c\\u540d\\u79f03\", \"contractPartner\": \"\\u7532\\u4e59\\u4e19\", \"contractSignedTime\": \"2018-07-15\", \"contractMoney\": 8889, \"contractComment\": \"\\u5907\\u6ce83\", \"projectSerial\": \"\\u9879\\u76ee\\u7f16\\u53f71\", \"contractDelete\": 0, \"contractOwner\": null, \"contractContent\": \"xxx3\"}\n",
      "Contract:ID:238{\"contractID\": 238, \"contractSerial\": \"\\u5408\\u540c\\u7f16\\u53f75\", \"contractName\": \"\\u5408\\u540c\\u540d\\u79f05\", \"contractPartner\": \"\\u7532\\u4e59\\u4e19\", \"contractSignedTime\": \"1996-11-17\", \"contractMoney\": 10000, \"contractComment\": \"\\u5907\\u6ce85\", \"projectSerial\": \"\\u9879\\u76ee\\u7f16\\u53f71\", \"contractDelete\": 0, \"contractOwner\": null, \"contractContent\": \"xxx5\"}\n",
      "Contract:ID:239{\"contractID\": 239, \"contractSerial\": \"\\u5408\\u540c\\u7f16\\u53f76\", \"contractName\": \"\\u5408\\u540c\\u540d\\u79f06\", \"contractPartner\": \"\\u7532\\u4e59\\u4e19\", \"contractSignedTime\": \"1993-01-14\", \"contractMoney\": 10000, \"contractComment\": \"\\u5907\\u6ce86\", \"projectSerial\": \"\\u9879\\u76ee\\u7f16\\u53f71\", \"contractDelete\": 0, \"contractOwner\": null, \"contractContent\": \"xxx6\"}\n",
      "Contract:ID:240{\"contractID\": 240, \"contractSerial\": \"\\u5408\\u540c\\u7f16\\u53f77\", \"contractName\": \"\\u5408\\u540c\\u540d\\u79f07\", \"contractPartner\": \"\\u7532\\u4e59\\u4e19\", \"contractSignedTime\": \"2018-07-11\", \"contractMoney\": 10000, \"contractComment\": \"\\u5907\\u6ce87\", \"projectSerial\": \"\\u9879\\u76ee\\u7f16\\u53f71\", \"contractDelete\": 0, \"contractOwner\": null, \"contractContent\": \"xxx7\"}\n",
      "Contract:ID:241{\"contractID\": 241, \"contractSerial\": \"\\u5408\\u540c\\u7f16\\u53f78\", \"contractName\": \"\\u5408\\u540c\\u540d\\u79f08\", \"contractPartner\": \"\\u7532\\u4e59\\u4e19\", \"contractSignedTime\": \"2018-07-10\", \"contractMoney\": 10000, \"contractComment\": \"\\u5907\\u6ce88\", \"projectSerial\": \"\\u9879\\u76ee\\u7f16\\u53f71\", \"contractDelete\": 0, \"contractOwner\": null, \"contractContent\": \"xxx8\"}\n",
      "Contract:ID:242{\"contractID\": 242, \"contractSerial\": \"\\u5408\\u540c\\u7f16\\u53f79\", \"contractName\": \"\\u5408\\u540c\\u540d\\u79f09\", \"contractPartner\": \"\\u7532\\u4e59\\u4e19\", \"contractSignedTime\": \"2018-07-09\", \"contractMoney\": 10000, \"contractComment\": \"\\u5907\\u6ce89\", \"projectSerial\": \"\\u9879\\u76ee\\u7f16\\u53f71\", \"contractDelete\": 0, \"contractOwner\": null, \"contractContent\": \"xxx9\"}\n",
      "Contract:ID:263{\"contractID\": 263, \"contractSerial\": \"\\u5408\\u540c\\u7f16\\u53f711\", \"contractName\": \"\\u5408\\u540c\\u540d\\u79f011\", \"contractPartner\": \"\\u7532\\u4e59\\u4e19\", \"contractSignedTime\": \"2018-07-06\", \"contractMoney\": 10000, \"contractComment\": \"\\u5907\\u6ce811\", \"projectSerial\": \"\\u9879\\u76ee\\u7f16\\u53f71\", \"contractDelete\": 0, \"contractOwner\": null, \"contractContent\": \"xxx11\"}\n",
      "Contract:ID:264{\"contractID\": 264, \"contractSerial\": \"\\u5408\\u540c\\u7f16\\u53f712\", \"contractName\": \"\\u5408\\u540c\\u540d\\u79f012\", \"contractPartner\": \"\\u7532\\u4e59\\u4e19\", \"contractSignedTime\": \"2018-07-05\", \"contractMoney\": 10000, \"contractComment\": \"\\u5907\\u6ce812\", \"projectSerial\": \"\\u9879\\u76ee\\u7f16\\u53f71\", \"contractDelete\": 0, \"contractOwner\": null, \"contractContent\": \"xxx12\"}\n",
      "Contract:ID:265{\"contractID\": 265, \"contractSerial\": \"\\u5408\\u540c\\u7f16\\u53f713\", \"contractName\": \"\\u5408\\u540c\\u540d\\u79f013\", \"contractPartner\": \"\\u7532\\u4e59\\u4e19\", \"contractSignedTime\": \"2018-07-04\", \"contractMoney\": 10000, \"contractComment\": \"\\u5907\\u6ce813\", \"projectSerial\": \"\\u9879\\u76ee\\u7f16\\u53f71\", \"contractDelete\": 0, \"contractOwner\": null, \"contractContent\": \"xxx13\"}\n",
      "Contract:ID:266{\"contractID\": 266, \"contractSerial\": \"\\u5408\\u540c\\u7f16\\u53f732\", \"contractName\": \"\\u5408\\u540c\\u540d\\u79f031\", \"contractPartner\": \"\\u4e19\\u4e01\", \"contractSignedTime\": \"2018-06-16\", \"contractMoney\": 310000, \"contractComment\": \"\\u5907\\u6ce831\", \"projectSerial\": \"\\u9879\\u76ee\\u7f16\\u53f71\", \"contractDelete\": 0, \"contractOwner\": null, \"contractContent\": \"xxx31\"}\n",
      "Contract:ID:267{\"contractID\": 267, \"contractSerial\": \"\\u5408\\u540c\\u7f16\\u53f714\", \"contractName\": \"\\u5408\\u540c\\u540d\\u79f014\", \"contractPartner\": \"\\u7532\\u4e59\", \"contractSignedTime\": \"2018-07-03\", \"contractMoney\": 20000, \"contractComment\": \"\\u5907\\u6ce814\", \"projectSerial\": \"\\u9879\\u76ee\\u7f16\\u53f72\", \"contractDelete\": 0, \"contractOwner\": null, \"contractContent\": \"xxx14\"}\n",
      "Contract:ID:268{\"contractID\": 268, \"contractSerial\": \"\\u5408\\u540c\\u7f16\\u53f715\", \"contractName\": \"\\u5408\\u540c\\u540d\\u79f015\", \"contractPartner\": \"\\u7532\\u4e59\", \"contractSignedTime\": \"2018-07-02\", \"contractMoney\": 20000, \"contractComment\": \"\\u5907\\u6ce815\", \"projectSerial\": \"\\u9879\\u76ee\\u7f16\\u53f72\", \"contractDelete\": 0, \"contractOwner\": null, \"contractContent\": \"xxx15\"}\n",
      "Contract:ID:269{\"contractID\": 269, \"contractSerial\": \"\\u5408\\u540c\\u7f16\\u53f716\", \"contractName\": \"\\u5408\\u540c\\u540d\\u79f016\", \"contractPartner\": \"\\u7532\\u4e59\", \"contractSignedTime\": \"2018-07-01\", \"contractMoney\": 20000, \"contractComment\": \"\\u5907\\u6ce816\", \"projectSerial\": \"\\u9879\\u76ee\\u7f16\\u53f72\", \"contractDelete\": 0, \"contractOwner\": null, \"contractContent\": \"xxx16\"}\n",
      "Contract:ID:270{\"contractID\": 270, \"contractSerial\": \"\\u5408\\u540c\\u7f16\\u53f717\", \"contractName\": \"\\u5408\\u540c\\u540d\\u79f017\", \"contractPartner\": \"\\u7532\\u4e59\", \"contractSignedTime\": \"2018-06-30\", \"contractMoney\": 20080, \"contractComment\": \"\\u5907\\u6ce817\", \"projectSerial\": \"\\u9879\\u76ee\\u7f16\\u53f72\", \"contractDelete\": 0, \"contractOwner\": null, \"contractContent\": \"xxx17\"}\n",
      "Contract:ID:271{\"contractID\": 271, \"contractSerial\": \"\\u5408\\u540c\\u7f16\\u53f718\", \"contractName\": \"\\u5408\\u540c\\u540d\\u79f018\", \"contractPartner\": \"\\u7532\\u4e59\", \"contractSignedTime\": \"2018-06-29\", \"contractMoney\": 20000, \"contractComment\": \"\\u5907\\u6ce818\", \"projectSerial\": \"\\u9879\\u76ee\\u7f16\\u53f72\", \"contractDelete\": 0, \"contractOwner\": null, \"contractContent\": \"xxx18\"}\n",
      "Contract:ID:272{\"contractID\": 272, \"contractSerial\": \"\\u5408\\u540c\\u7f16\\u53f719\", \"contractName\": \"\\u5408\\u540c\\u540d\\u79f019\", \"contractPartner\": \"\\u7532\\u4e59\", \"contractSignedTime\": \"2018-06-28\", \"contractMoney\": 20000, \"contractComment\": \"\\u5907\\u6ce819\", \"projectSerial\": \"\\u9879\\u76ee\\u7f16\\u53f72\", \"contractDelete\": 0, \"contractOwner\": null, \"contractContent\": \"xxx19\"}\n",
      "Contract:ID:273{\"contractID\": 273, \"contractSerial\": \"\\u5408\\u540c\\u7f16\\u53f720\", \"contractName\": \"\\u5408\\u540c\\u540d\\u79f020\", \"contractPartner\": \"\\u7532\\u4e59\", \"contractSignedTime\": \"2018-06-27\", \"contractMoney\": 20000, \"contractComment\": \"\\u5907\\u6ce820\", \"projectSerial\": \"\\u9879\\u76ee\\u7f16\\u53f72\", \"contractDelete\": 0, \"contractOwner\": null, \"contractContent\": \"xxx20\"}\n",
      "Contract:ID:274{\"contractID\": 274, \"contractSerial\": \"\\u5408\\u540c\\u7f16\\u53f721\", \"contractName\": \"\\u5408\\u540c\\u540d\\u79f021\", \"contractPartner\": \"\\u4e59\\u4e19\", \"contractSignedTime\": \"2018-06-26\", \"contractMoney\": 20000, \"contractComment\": \"\\u5907\\u6ce821\", \"projectSerial\": \"\\u9879\\u76ee\\u7f16\\u53f72\", \"contractDelete\": 0, \"contractOwner\": null, \"contractContent\": \"xxx21\"}\n",
      "Contract:ID:275{\"contractID\": 275, \"contractSerial\": \"\\u5408\\u540c\\u7f16\\u53f722\", \"contractName\": \"\\u5408\\u540c\\u540d\\u79f022\", \"contractPartner\": \"\\u4e59\\u4e19\", \"contractSignedTime\": \"2018-06-25\", \"contractMoney\": 20000, \"contractComment\": \"\\u5907\\u6ce822\", \"projectSerial\": \"\\u9879\\u76ee\\u7f16\\u53f72\", \"contractDelete\": 0, \"contractOwner\": null, \"contractContent\": \"xxx22\"}\n",
      "Contract:ID:276{\"contractID\": 276, \"contractSerial\": \"\\u5408\\u540c\\u7f16\\u53f723\", \"contractName\": \"\\u5408\\u540c\\u540d\\u79f023\", \"contractPartner\": \"\\u4e59\\u4e19\", \"contractSignedTime\": \"2018-06-24\", \"contractMoney\": 20000, \"contractComment\": \"\\u5907\\u6ce823\", \"projectSerial\": \"\\u9879\\u76ee\\u7f16\\u53f72\", \"contractDelete\": 0, \"contractOwner\": null, \"contractContent\": \"xxx23\"}\n",
      "Contract:ID:277{\"contractID\": 277, \"contractSerial\": \"\\u5408\\u540c\\u7f16\\u53f724\", \"contractName\": \"\\u5408\\u540c\\u540d\\u79f024\", \"contractPartner\": \"\\u4e59\\u4e19\", \"contractSignedTime\": \"2018-06-23\", \"contractMoney\": 20000, \"contractComment\": \"\\u5907\\u6ce824\", \"projectSerial\": \"\\u9879\\u76ee\\u7f16\\u53f72\", \"contractDelete\": 0, \"contractOwner\": null, \"contractContent\": \"xxx24\"}\n",
      "Contract:ID:278{\"contractID\": 278, \"contractSerial\": \"\\u5408\\u540c\\u7f16\\u53f725\", \"contractName\": \"\\u5408\\u540c\\u540d\\u79f025\", \"contractPartner\": \"\\u4e59\\u4e19\", \"contractSignedTime\": \"2018-06-22\", \"contractMoney\": 20000, \"contractComment\": \"\\u5907\\u6ce825\", \"projectSerial\": \"\\u9879\\u76ee\\u7f16\\u53f74\", \"contractDelete\": 0, \"contractOwner\": null, \"contractContent\": \"xxx25\"}\n",
      "Contract:ID:279{\"contractID\": 279, \"contractSerial\": \"\\u5408\\u540c\\u7f16\\u53f726\", \"contractName\": \"\\u5408\\u540c\\u540d\\u79f026\", \"contractPartner\": \"\\u4e59\\u4e19\", \"contractSignedTime\": \"2018-06-21\", \"contractMoney\": 20000, \"contractComment\": \"\\u5907\\u6ce826\", \"projectSerial\": \"\\u9879\\u76ee\\u7f16\\u53f72\", \"contractDelete\": 0, \"contractOwner\": null, \"contractContent\": \"xxx26\"}\n",
      "Contract:ID:280{\"contractID\": 280, \"contractSerial\": \"\\u5408\\u540c\\u7f16\\u53f727\", \"contractName\": \"\\u5408\\u540c\\u540d\\u79f027\", \"contractPartner\": \"\\u4e59\\u4e19\", \"contractSignedTime\": \"2018-06-20\", \"contractMoney\": 20000, \"contractComment\": \"\\u5907\\u6ce827\", \"projectSerial\": \"\\u9879\\u76ee\\u7f16\\u53f72\", \"contractDelete\": 0, \"contractOwner\": null, \"contractContent\": \"xxx27\"}\n",
      "Contract:ID:281{\"contractID\": 281, \"contractSerial\": \"\\u5408\\u540c\\u7f16\\u53f728\", \"contractName\": \"\\u5408\\u540c\\u540d\\u79f028\", \"contractPartner\": \"\\u4e19\\u4e01\", \"contractSignedTime\": \"2018-06-19\", \"contractMoney\": 20000, \"contractComment\": \"\\u5907\\u6ce828\", \"projectSerial\": \"\\u9879\\u76ee\\u7f16\\u53f72\", \"contractDelete\": 0, \"contractOwner\": null, \"contractContent\": \"xxx28\"}\n",
      "Contract:ID:282{\"contractID\": 282, \"contractSerial\": \"\\u5408\\u540c\\u7f16\\u53f729\", \"contractName\": \"\\u5408\\u540c\\u540d\\u79f029\", \"contractPartner\": \"\\u4e19\\u4e01\", \"contractSignedTime\": \"2018-06-18\", \"contractMoney\": 290000, \"contractComment\": \"\\u5907\\u6ce829\", \"projectSerial\": \"\\u9879\\u76ee\\u7f16\\u53f74\", \"contractDelete\": 0, \"contractOwner\": null, \"contractContent\": \"xxx29\"}\n",
      "Contract:ID:296{\"contractID\": 296, \"contractSerial\": \"\\u5408\\u540c\\u7f16\\u53f730\", \"contractName\": \"\\u5408\\u540c\\u540d\\u79f030\", \"contractPartner\": \"abcd\", \"contractSignedTime\": \"2018-07-31\", \"contractMoney\": 10000, \"contractComment\": \"\", \"projectSerial\": \"\\u9879\\u76ee\\u7f16\\u53f71\", \"contractDelete\": 0, \"contractOwner\": null, \"contractContent\": \"\\t\\t\\t\\t\\t\\t\\t\\t\\t\\t\"}\n",
      "Contract:ID:298{\"contractID\": 298, \"contractSerial\": \"\\u6d4b\\u8bd5test1\\u5408\\u540c1\", \"contractName\": \"\\u6d4b\\u8bd5test1\\u5408\\u540c1\", \"contractPartner\": \"\\u4f5f\\uff0c\\u674e\", \"contractSignedTime\": \"2018-08-08\", \"contractMoney\": 60, \"contractComment\": \"\\u6d4b\\u8bd5\", \"projectSerial\": \"\\u6d4b\\u8bd5test1\", \"contractDelete\": 0, \"contractOwner\": null, \"contractContent\": \"\\u6d4b\\u8bd5\"}\n",
      "Contract:ID:299{\"contractID\": 299, \"contractSerial\": \"\\u6d4b\\u8bd5test1\\u5408\\u540c2\", \"contractName\": \"\\u6d4b\\u8bd5test1\\u5408\\u540c2\", \"contractPartner\": \"2\\uff0c2\\uff0c3\\uff0c3\\uff0c3\\uff0c3\", \"contractSignedTime\": \"2018-08-17\", \"contractMoney\": 0, \"contractComment\": \"fevwbdjFFJKBFWBEFBWEBFWEFBWEKJBFWJKEBFJWEFBKEWJBFJKWEFBKEWBFKJWEF\", \"projectSerial\": \"\\u6d4b\\u8bd5test1\", \"contractDelete\": 0, \"contractOwner\": null, \"contractContent\": \"\\u95ee\\u5e2e\\u6211\\u8985UC\\u88ab\\u6211\\u9644\\u8868\\u4e94IEU\\u5e01\\u8985U\\u5e01\\u6211IE\\u798f\\u5e76\\u65e0\\u8bf6\\u5206\\u522b\\u7269\\u4e0d\\u7b26IE\\u5916\\u90e8\\u670d\\u52a1beUI\\u9676 bfiweubfuiwe\\u4f5b\\u522b\\u65e0\\u6cd5\\u4e3a\"}\n",
      "Contract:ID:301{\"contractID\": 301, \"contractSerial\": \"\\u8d1f\\u8d23\\u4eba1\\u9879\\u76ee1\\u5408\\u540c1\", \"contractName\": \"\\u8d1f\\u8d23\\u4eba1\\u9879\\u76ee1\\u5408\\u540c1\", \"contractPartner\": \"dadaad\", \"contractSignedTime\": \"2018-08-08\", \"contractMoney\": 3000, \"contractComment\": \"ces\", \"projectSerial\": \"\\u6d4b\\u8bd5\\u8d1f\\u8d23\\u4eba1\\u8bbf\\u95ee\\u8303\\u56f41\", \"contractDelete\": 0, \"contractOwner\": null, \"contractContent\": \"ces\"}\n",
      "Contract:ID:302{\"contractID\": 302, \"contractSerial\": \"\\u8d1f\\u8d23\\u4eba1\\u9879\\u76ee1\\u5408\\u540c2\", \"contractName\": \"\\u8d1f\\u8d23\\u4eba1\\u9879\\u76ee1\\u5408\\u540c2\", \"contractPartner\": \"aadad\", \"contractSignedTime\": \"2018-08-03\", \"contractMoney\": 7000, \"contractComment\": \"sss\", \"projectSerial\": \"\\u6d4b\\u8bd5\\u8d1f\\u8d23\\u4eba1\\u8bbf\\u95ee\\u8303\\u56f41\", \"contractDelete\": 0, \"contractOwner\": null, \"contractContent\": \"sss\"}\n",
      "Contract:ID:303{\"contractID\": 303, \"contractSerial\": \"\\u6d4b\\u8bd5\\u5408\\u540c2018-8-6\", \"contractName\": \"\\u6d4b\\u8bd5\\u5408\\u540c2018-8-6\", \"contractPartner\": \"1\\uff0c2\", \"contractSignedTime\": \"2018-08-03\", \"contractMoney\": 7500, \"contractComment\": \"\\u5907\\u6ce8\", \"projectSerial\": \"\\u6d4b\\u8bd52018-8-6\", \"contractDelete\": 0, \"contractOwner\": null, \"contractContent\": \"\\u5185\\u5bb9\"}\n",
      "Contract:ID:304{\"contractID\": 304, \"contractSerial\": \"\\u6d4b\\u8bd5\\u5408\\u540c2-2018-8-6\", \"contractName\": \"\\u6d4b\\u8bd5\\u5408\\u540c2-2018-8-6\", \"contractPartner\": \"1\\uff0c2\", \"contractSignedTime\": \"2018-08-03\", \"contractMoney\": 3000, \"contractComment\": \"\\u5907\\u6ce82\", \"projectSerial\": \"\\u6d4b\\u8bd52018-8-6\", \"contractDelete\": 0, \"contractOwner\": null, \"contractContent\": \"\\u5185\\u5bb922\"}\n"
     ]
    },
    {
     "data": {
      "text/plain": [
       "[True,\n",
       " True,\n",
       " True,\n",
       " True,\n",
       " True,\n",
       " True,\n",
       " True,\n",
       " True,\n",
       " True,\n",
       " True,\n",
       " True,\n",
       " True,\n",
       " True,\n",
       " True,\n",
       " True,\n",
       " True,\n",
       " True,\n",
       " True,\n",
       " True,\n",
       " True,\n",
       " True,\n",
       " True,\n",
       " True,\n",
       " True,\n",
       " True,\n",
       " True,\n",
       " True,\n",
       " True,\n",
       " True,\n",
       " True,\n",
       " True,\n",
       " True,\n",
       " True,\n",
       " True,\n",
       " True]"
      ]
     },
     "execution_count": 10,
     "metadata": {},
     "output_type": "execute_result"
    }
   ],
   "source": [
    "# 设置合同详情\n",
    "sql = 'SELECT contractID,contractSerial,contractName,contractPartner,contractSignedTime,contractMoney,contractComment,projectSerial,contractDelete,contractOwner,contractContent FROM contract INNER JOIN project ON project.projectID = contract.projectID'\n",
    "result = db.query(sql)\n",
    "pipe = r.pipeline(transaction=True)\n",
    "for i in result:\n",
    "    value = json.dumps(i, default=date_handler)\n",
    "    key = \"Contract:ID:\"+str(i.get(\"contractID\"))\n",
    "    print (key+value)\n",
    "    pipe.set(key, value)\n",
    "pipe.execute()"
   ]
  },
  {
   "cell_type": "code",
   "execution_count": 11,
   "metadata": {},
   "outputs": [
    {
     "name": "stdout",
     "output_type": "stream",
     "text": [
      "Document:ID:2{\"documentID\": 2, \"documentSerial\": \"2\", \"documentName\": \"\\u6587\\u68632\", \"documentUploadTime\": \"2018-07-16\", \"documentOwner\": \"qiang\", \"documentComment\": \"xx\", \"documentUrl\": \"\", \"documentType\": 0, \"documentDelete\": 0, \"projectSerial\": \"\\u9879\\u76ee\\u7f16\\u53f72\", \"contractSerial\": \"\\u5408\\u540c\\u7f16\\u53f73\"}\n",
      "Document:ID:3{\"documentID\": 3, \"documentSerial\": \"3\", \"documentName\": \"\\u6587\\u68633\", \"documentUploadTime\": \"2018-07-17\", \"documentOwner\": \"wan\", \"documentComment\": \"xx\", \"documentUrl\": \"\", \"documentType\": 0, \"documentDelete\": 0, \"projectSerial\": \"\\u9879\\u76ee\\u7f16\\u53f73\", \"contractSerial\": \"\\u5408\\u540c\\u7f16\\u53f75\"}\n",
      "Document:ID:4{\"documentID\": 4, \"documentSerial\": \"4\", \"documentName\": \"\\u6587\\u68634\", \"documentUploadTime\": \"2018-07-15\", \"documentOwner\": \"peng\", \"documentComment\": \"xx\", \"documentUrl\": \"\", \"documentType\": 0, \"documentDelete\": 0, \"projectSerial\": \"\\u9879\\u76ee\\u7f16\\u53f74\", \"contractSerial\": \"\\u5408\\u540c\\u7f16\\u53f76\"}\n"
     ]
    },
    {
     "data": {
      "text/plain": [
       "[True, True, True]"
      ]
     },
     "execution_count": 11,
     "metadata": {},
     "output_type": "execute_result"
    }
   ],
   "source": [
    "# 设置文档详情\n",
    "sql = 'SELECT documentID, documentSerial, documentName, documentUploadTime, documentOwner , documentComment, documentUrl, documentType, documentDelete, projectSerial , contractSerial FROM document INNER JOIN project ON document.`projectID` = project.`projectID` INNER JOIN contract ON document.contractID = contract.contractID'\n",
    "result = db.query(sql)\n",
    "pipe = r.pipeline(transaction=True)\n",
    "for i in result:\n",
    "    value = json.dumps(i, default=date_handler)\n",
    "    key = \"Document:ID:\"+str(i.get(\"documentID\"))\n",
    "    print (key+value)\n",
    "    pipe.set(key, value)\n",
    "pipe.execute()"
   ]
  },
  {
   "cell_type": "code",
   "execution_count": 12,
   "metadata": {},
   "outputs": [
    {
     "name": "stdout",
     "output_type": "stream",
     "text": [
      "Document:ID:2{\"documentID\": 2, \"documentSerial\": \"2\", \"documentName\": \"\\u6587\\u68632\", \"documentUploadTime\": \"2018-07-16\", \"documentOwner\": \"qiang\", \"documentComment\": \"xx\", \"documentUrl\": \"\", \"documentType\": 0, \"documentDelete\": 0, \"projectSerial\": \"\\u9879\\u76ee\\u7f16\\u53f72\", \"contractSerial\": \"\\u5408\\u540c\\u7f16\\u53f73\"}\n",
      "Document:ID:3{\"documentID\": 3, \"documentSerial\": \"3\", \"documentName\": \"\\u6587\\u68633\", \"documentUploadTime\": \"2018-07-17\", \"documentOwner\": \"wan\", \"documentComment\": \"xx\", \"documentUrl\": \"\", \"documentType\": 0, \"documentDelete\": 0, \"projectSerial\": \"\\u9879\\u76ee\\u7f16\\u53f73\", \"contractSerial\": \"\\u5408\\u540c\\u7f16\\u53f75\"}\n",
      "Document:ID:4{\"documentID\": 4, \"documentSerial\": \"4\", \"documentName\": \"\\u6587\\u68634\", \"documentUploadTime\": \"2018-07-15\", \"documentOwner\": \"peng\", \"documentComment\": \"xx\", \"documentUrl\": \"\", \"documentType\": 0, \"documentDelete\": 0, \"projectSerial\": \"\\u9879\\u76ee\\u7f16\\u53f74\", \"contractSerial\": \"\\u5408\\u540c\\u7f16\\u53f76\"}\n"
     ]
    },
    {
     "data": {
      "text/plain": [
       "[True, True, True]"
      ]
     },
     "execution_count": 12,
     "metadata": {},
     "output_type": "execute_result"
    }
   ],
   "source": [
    "# 设置文档详情\n",
    "sql = 'SELECT documentID, documentSerial, documentName, documentUploadTime, documentOwner , documentComment, documentUrl, documentType, documentDelete, projectSerial , contractSerial FROM document INNER JOIN project ON document.`projectID` = project.`projectID` INNER JOIN contract ON document.contractID = contract.contractID'\n",
    "result = db.query(sql)\n",
    "pipe = r.pipeline(transaction=True)\n",
    "for i in result:\n",
    "    value = json.dumps(i, default=date_handler)\n",
    "    key = \"Document:ID:\"+str(i.get(\"documentID\"))\n",
    "    print (key+value)\n",
    "    pipe.set(key, value)\n",
    "pipe.execute()"
   ]
  },
  {
   "cell_type": "code",
   "execution_count": 13,
   "metadata": {},
   "outputs": [
    {
     "name": "stdout",
     "output_type": "stream",
     "text": [
      "Asset:ID:1{\"assetID\": 1, \"assetSerial\": \"zichanbiaohao1\", \"assetName\": \"zichanname1\", \"assetSpec\": \"guige1\", \"assetModel\": \"xinghao1\", \"assetAmount\": 1000, \"assetMoney\": 100000, \"assetDate\": \"2018-07-24\", \"assetOwner\": \"tong\", \"assetComment\": \"beizhu1\", \"assetStatus\": 0, \"assetDelete\": 0, \"projectSerial\": \"\\u9879\\u76ee\\u7f16\\u53f72\", \"assetDepID\": \"1\"}\n",
      "Asset:ID:2{\"assetID\": 2, \"assetSerial\": \"zichanbiaohao2\", \"assetName\": \"zichanname2\", \"assetSpec\": \"guige2\", \"assetModel\": \"xinghao2\", \"assetAmount\": 200, \"assetMoney\": 20000, \"assetDate\": \"2018-07-24\", \"assetOwner\": \"qiang\", \"assetComment\": \"beizhu2\", \"assetStatus\": 0, \"assetDelete\": 0, \"projectSerial\": \"\\u9879\\u76ee\\u7f16\\u53f72\", \"assetDepID\": \"2\"}\n",
      "Asset:ID:3{\"assetID\": 3, \"assetSerial\": \"zichanbiaohao3\", \"assetName\": \"zichanname3\", \"assetSpec\": \"guige3\", \"assetModel\": \"xinghao3\", \"assetAmount\": 300, \"assetMoney\": 30000, \"assetDate\": \"2018-07-23\", \"assetOwner\": \"wan\", \"assetComment\": \"beizhu3\", \"assetStatus\": 0, \"assetDelete\": 0, \"projectSerial\": \"\\u9879\\u76ee\\u7f16\\u53f73\", \"assetDepID\": \"3\"}\n",
      "Asset:ID:4{\"assetID\": 4, \"assetSerial\": \"zichanbiaohao4\", \"assetName\": \"zichanname4444444444444444444444444444444444444444444444\", \"assetSpec\": \"guige4\", \"assetModel\": \"xinghao4\", \"assetAmount\": 400, \"assetMoney\": 40000, \"assetDate\": \"2018-07-22\", \"assetOwner\": \"peng\", \"assetComment\": \"beizhu4\", \"assetStatus\": 0, \"assetDelete\": 0, \"projectSerial\": \"\\u9879\\u76ee\\u7f16\\u53f71\", \"assetDepID\": \"4\"}\n",
      "Asset:ID:5{\"assetID\": 5, \"assetSerial\": \"11\", \"assetName\": \"11\", \"assetSpec\": \"11\", \"assetModel\": \"11\", \"assetAmount\": 11, \"assetMoney\": 11, \"assetDate\": \"2018-07-02\", \"assetOwner\": \"11\", \"assetComment\": \"\\t\\t11\\t\\t\\t\\t\\t\\t\\t\\t\", \"assetStatus\": null, \"assetDelete\": 1, \"projectSerial\": \"\\u9879\\u76ee\\u7f16\\u53f71\", \"assetDepID\": \"4\"}\n",
      "Asset:ID:6{\"assetID\": 6, \"assetSerial\": \"\\u8d44\\u4ea7\\u7f16\\u53f71\", \"assetName\": \"\\u8d44\\u4ea7\\u540d\\u79f01\", \"assetSpec\": \"1\", \"assetModel\": \"1\", \"assetAmount\": 1, \"assetMoney\": 1, \"assetDate\": \"2018-07-11\", \"assetOwner\": \"1\", \"assetComment\": \"\\t\\t\\t1\\t\\t\\t\\t\\t\\t\\t\", \"assetStatus\": null, \"assetDelete\": 0, \"projectSerial\": \"\\u9879\\u76ee\\u7f16\\u53f71\", \"assetDepID\": \"4\"}\n",
      "Asset:ID:7{\"assetID\": 7, \"assetSerial\": \"\\u6d4b\\u8bd5\\u8d1f\\u8d23\\u4eba1\\u8bbf\\u95ee\\u8303\\u56f41\", \"assetName\": \"\\u6d4b\\u8bd5\\u8d1f\\u8d23\\u4eba1\\u8bbf\\u95ee\\u8303\\u56f41\", \"assetSpec\": \"1\", \"assetModel\": \"1\", \"assetAmount\": 1, \"assetMoney\": 2, \"assetDate\": \"2018-08-14\", \"assetOwner\": \"tong\", \"assetComment\": \"aada\\t\\t\\t\\t\\t\", \"assetStatus\": null, \"assetDelete\": 0, \"projectSerial\": \"\\u6d4b\\u8bd5\\u8d1f\\u8d23\\u4eba1\\u8bbf\\u95ee\\u8303\\u56f41\", \"assetDepID\": \"4\"}\n"
     ]
    },
    {
     "data": {
      "text/plain": [
       "[True, True, True, True, True, True, True]"
      ]
     },
     "execution_count": 13,
     "metadata": {},
     "output_type": "execute_result"
    }
   ],
   "source": [
    "# 设置资产详情\n",
    "sql = 'SELECT assetID, assetSerial, assetName, assetSpec, assetModel , assetAmount, assetMoney, assetDate, assetOwner, assetComment , assetStatus, assetDelete, projectSerial, assetDepID FROM asset INNER JOIN project ON asset.projectID = project.projectID'\n",
    "result = db.query(sql)\n",
    "pipe = r.pipeline(transaction=True)\n",
    "for i in result:\n",
    "    value = json.dumps(i, default=date_handler)\n",
    "    key = \"Asset:ID:\"+str(i.get(\"assetID\"))\n",
    "    print (key+value)\n",
    "    pipe.set(key, value)\n",
    "pipe.execute()"
   ]
  },
  {
   "cell_type": "code",
   "execution_count": 14,
   "metadata": {
    "scrolled": true
   },
   "outputs": [
    {
     "name": "stdout",
     "output_type": "stream",
     "text": [
      "Finance:ID:4{\"financeID\": 4, \"financeSerials\": \"4\", \"financeDate\": \"2018-07-13\", \"financeName\": \"fiance4\", \"financeMoney\": 40000, \"financeStatus\": 0, \"financeDelete\": 0, \"borrowName\": \"\\u8d22\\u52a13\", \"lendName\": \"\\u8d22\\u52a14\", \"buyOrgFormInfo\": \"buyorgform4\", \"buyMethodInfo\": \"buymethod1\", \"buyTypeInfo\": \"buytype4\", \"payMethodInfo\": \"info4\", \"projectSerial\": \"\\u9879\\u76ee\\u7f16\\u53f71\", \"financeBorrowerID\": \"3\", \"financeLenderID\": \"4\", \"financeTypeID\": \"4\", \"financeBuyOrgID\": \"4\", \"financeBuyMethodID\": \"1\", \"payMethodID\": \"4\", \"contractSerial\": \"\\u5408\\u540c\\u7f16\\u53f79\"}\n",
      "Finance:ID:2{\"financeID\": 2, \"financeSerials\": \"2\", \"financeDate\": \"2018-07-11\", \"financeName\": \"fiance2\", \"financeMoney\": 20000, \"financeStatus\": 0, \"financeDelete\": 0, \"borrowName\": \"\\u8d22\\u52a18\", \"lendName\": \"\\u8d22\\u52a14\", \"buyOrgFormInfo\": \"buyorgform2\", \"buyMethodInfo\": \"buymethod3\", \"buyTypeInfo\": \"buytype1\", \"payMethodInfo\": \"info4\", \"projectSerial\": \"\\u9879\\u76ee\\u7f16\\u53f71\", \"financeBorrowerID\": \"8\", \"financeLenderID\": \"4\", \"financeTypeID\": \"1\", \"financeBuyOrgID\": \"2\", \"financeBuyMethodID\": \"3\", \"payMethodID\": \"4\", \"contractSerial\": \"\\u5408\\u540c\\u7f16\\u53f77\"}\n",
      "Finance:ID:18{\"financeID\": 18, \"financeSerials\": \"18\", \"financeDate\": null, \"financeName\": \"\\u5927\\u5bb6\\u5230\\u53f8\\u673a\\u54e6\", \"financeMoney\": 2000, \"financeStatus\": 0, \"financeDelete\": 0, \"borrowName\": \"\\u8d22\\u52a18\", \"lendName\": \"\\u8d22\\u52a14\", \"buyOrgFormInfo\": \"buyorgform3\", \"buyMethodInfo\": \"buymethod2\", \"buyTypeInfo\": \"buytype3\", \"payMethodInfo\": \"info3\", \"projectSerial\": \"\\u9879\\u76ee\\u7f16\\u53f71\", \"financeBorrowerID\": \"8\", \"financeLenderID\": \"4\", \"financeTypeID\": \"3\", \"financeBuyOrgID\": \"3\", \"financeBuyMethodID\": \"2\", \"payMethodID\": \"3\", \"contractSerial\": \"\\u5408\\u540c\\u7f16\\u53f71\"}\n",
      "Finance:ID:19{\"financeID\": 19, \"financeSerials\": \"19\", \"financeDate\": null, \"financeName\": \"\\u5927\\u5bb6\\u5230\\u53f8\\u673a\\u54e6\", \"financeMoney\": 2000, \"financeStatus\": 0, \"financeDelete\": 0, \"borrowName\": \"\\u8d22\\u52a18\", \"lendName\": \"\\u8d22\\u52a14\", \"buyOrgFormInfo\": \"buyorgform3\", \"buyMethodInfo\": \"buymethod2\", \"buyTypeInfo\": \"buytype3\", \"payMethodInfo\": \"info3\", \"projectSerial\": \"\\u9879\\u76ee\\u7f16\\u53f72\", \"financeBorrowerID\": \"8\", \"financeLenderID\": \"4\", \"financeTypeID\": \"3\", \"financeBuyOrgID\": \"3\", \"financeBuyMethodID\": \"2\", \"payMethodID\": \"3\", \"contractSerial\": \"\\u5408\\u540c\\u7f16\\u53f71\"}\n",
      "Finance:ID:20{\"financeID\": 20, \"financeSerials\": \"100\", \"financeDate\": null, \"financeName\": \"11\", \"financeMoney\": 11, \"financeStatus\": 0, \"financeDelete\": 0, \"borrowName\": \"\\u8d22\\u52a18\", \"lendName\": \"\\u8d22\\u52a14\", \"buyOrgFormInfo\": \"buyorgform4\", \"buyMethodInfo\": \"buymethod2\", \"buyTypeInfo\": \"buytype4\", \"payMethodInfo\": \"info4\", \"projectSerial\": \"\\u9879\\u76ee\\u7f16\\u53f71\", \"financeBorrowerID\": \"8\", \"financeLenderID\": \"4\", \"financeTypeID\": \"4\", \"financeBuyOrgID\": \"4\", \"financeBuyMethodID\": \"2\", \"payMethodID\": \"4\", \"contractSerial\": \"\\u5408\\u540c\\u7f16\\u53f71\"}\n",
      "Finance:ID:21{\"financeID\": 21, \"financeSerials\": \"200\", \"financeDate\": null, \"financeName\": \"11\", \"financeMoney\": 11, \"financeStatus\": 1, \"financeDelete\": 0, \"borrowName\": \"\\u8d22\\u52a18\", \"lendName\": \"\\u8d22\\u52a14\", \"buyOrgFormInfo\": \"buyorgform4\", \"buyMethodInfo\": \"buymethod2\", \"buyTypeInfo\": \"buytype4\", \"payMethodInfo\": \"info4\", \"projectSerial\": \"\\u9879\\u76ee\\u7f16\\u53f71\", \"financeBorrowerID\": \"8\", \"financeLenderID\": \"4\", \"financeTypeID\": \"4\", \"financeBuyOrgID\": \"4\", \"financeBuyMethodID\": \"2\", \"payMethodID\": \"4\", \"contractSerial\": \"\\u5408\\u540c\\u7f16\\u53f71\"}\n",
      "Finance:ID:22{\"financeID\": 22, \"financeSerials\": \"11\", \"financeDate\": null, \"financeName\": \"11\", \"financeMoney\": 11, \"financeStatus\": 0, \"financeDelete\": 0, \"borrowName\": \"\\u8d22\\u52a18\", \"lendName\": \"\\u8d22\\u52a14\", \"buyOrgFormInfo\": \"buyorgform4\", \"buyMethodInfo\": \"buymethod2\", \"buyTypeInfo\": \"buytype4\", \"payMethodInfo\": \"info4\", \"projectSerial\": \"\\u9879\\u76ee\\u7f16\\u53f71\", \"financeBorrowerID\": \"8\", \"financeLenderID\": \"4\", \"financeTypeID\": \"4\", \"financeBuyOrgID\": \"4\", \"financeBuyMethodID\": \"2\", \"payMethodID\": \"4\", \"contractSerial\": \"\\u5408\\u540c\\u7f16\\u53f71\"}\n",
      "Finance:ID:23{\"financeID\": 23, \"financeSerials\": \"1001\", \"financeDate\": \"2018-07-31\", \"financeName\": \"okokojbk\", \"financeMoney\": 1000, \"financeStatus\": 0, \"financeDelete\": 0, \"borrowName\": \"\\u8d22\\u52a18\", \"lendName\": \"\\u8d22\\u52a14\", \"buyOrgFormInfo\": \"buyorgform4\", \"buyMethodInfo\": \"buymethod3\", \"buyTypeInfo\": \"buytype3\", \"payMethodInfo\": \"info3\", \"projectSerial\": \"\\u9879\\u76ee\\u7f16\\u53f71\", \"financeBorrowerID\": \"8\", \"financeLenderID\": \"4\", \"financeTypeID\": \"3\", \"financeBuyOrgID\": \"4\", \"financeBuyMethodID\": \"3\", \"payMethodID\": \"3\", \"contractSerial\": \"\\u5408\\u540c\\u7f16\\u53f71\"}\n",
      "Finance:ID:27{\"financeID\": 27, \"financeSerials\": \"\\u6d4b\\u8bd51\\u5408\\u540c1\\u8d22\\u52a11\", \"financeDate\": \"2018-08-09\", \"financeName\": \"\\u6d4b\\u8bd51\\u5408\\u540c1\\u8d22\\u52a11\", \"financeMoney\": 80, \"financeStatus\": 0, \"financeDelete\": 0, \"borrowName\": \"\\u8d22\\u52a18\", \"lendName\": \"\\u8d22\\u52a14\", \"buyOrgFormInfo\": \"buyorgform4\", \"buyMethodInfo\": \"buymethod4\", \"buyTypeInfo\": \"buytype4\", \"payMethodInfo\": \"info4\", \"projectSerial\": \"\\u9879\\u76ee\\u7f16\\u53f72\", \"financeBorrowerID\": \"8\", \"financeLenderID\": \"4\", \"financeTypeID\": \"4\", \"financeBuyOrgID\": \"4\", \"financeBuyMethodID\": \"4\", \"payMethodID\": \"4\", \"contractSerial\": \"\\u5408\\u540c\\u7f16\\u53f717\"}\n",
      "Finance:ID:28{\"financeID\": 28, \"financeSerials\": \"\\u6d4b\\u8bd51\\u5408\\u540c1\\u8d22\\u52a12\", \"financeDate\": \"2018-08-09\", \"financeName\": \"\\u6d4b\\u8bd51\\u5408\\u540c1\\u8d22\\u52a11\", \"financeMoney\": 60, \"financeStatus\": 1, \"financeDelete\": 0, \"borrowName\": \"\\u8d22\\u52a18\", \"lendName\": \"\\u8d22\\u52a14\", \"buyOrgFormInfo\": \"buyorgform4\", \"buyMethodInfo\": \"buymethod4\", \"buyTypeInfo\": \"buytype4\", \"payMethodInfo\": \"info4\", \"projectSerial\": \"\\u6d4b\\u8bd5test1\", \"financeBorrowerID\": \"8\", \"financeLenderID\": \"4\", \"financeTypeID\": \"4\", \"financeBuyOrgID\": \"4\", \"financeBuyMethodID\": \"4\", \"payMethodID\": \"4\", \"contractSerial\": \"\\u6d4b\\u8bd5test1\\u5408\\u540c1\"}\n",
      "Finance:ID:29{\"financeID\": 29, \"financeSerials\": \"hyyh\", \"financeDate\": \"2018-08-24\", \"financeName\": \"\", \"financeMoney\": 0, \"financeStatus\": 0, \"financeDelete\": 0, \"borrowName\": \"\\u8d22\\u52a18\", \"lendName\": \"\\u8d22\\u52a14\", \"buyOrgFormInfo\": \"buyorgform4\", \"buyMethodInfo\": \"buymethod4\", \"buyTypeInfo\": \"buytype4\", \"payMethodInfo\": \"info3\", \"projectSerial\": \"\\u9879\\u76ee\\u7f16\\u53f71\", \"financeBorrowerID\": \"8\", \"financeLenderID\": \"4\", \"financeTypeID\": \"4\", \"financeBuyOrgID\": \"4\", \"financeBuyMethodID\": \"4\", \"payMethodID\": \"3\", \"contractSerial\": \"\\u5408\\u540c\\u7f16\\u53f71\"}\n",
      "Finance:ID:31{\"financeID\": 31, \"financeSerials\": \"\\u8d1f\\u8d23\\u4eba1\\u9879\\u76ee1\\u5408\\u540c1\\u8d22\\u52a11\", \"financeDate\": \"2018-08-15\", \"financeName\": \"ddada\", \"financeMoney\": 1000, \"financeStatus\": 1, \"financeDelete\": 0, \"borrowName\": \"\\u8d22\\u52a18\", \"lendName\": \"\\u8d22\\u52a14\", \"buyOrgFormInfo\": \"buyorgform4\", \"buyMethodInfo\": \"buymethod4\", \"buyTypeInfo\": \"buytype4\", \"payMethodInfo\": \"info4\", \"projectSerial\": \"\\u6d4b\\u8bd5\\u8d1f\\u8d23\\u4eba1\\u8bbf\\u95ee\\u8303\\u56f41\", \"financeBorrowerID\": \"8\", \"financeLenderID\": \"4\", \"financeTypeID\": \"4\", \"financeBuyOrgID\": \"4\", \"financeBuyMethodID\": \"4\", \"payMethodID\": \"4\", \"contractSerial\": \"\\u8d1f\\u8d23\\u4eba1\\u9879\\u76ee1\\u5408\\u540c1\"}\n",
      "Finance:ID:32{\"financeID\": 32, \"financeSerials\": \"\\u8d1f\\u8d23\\u4eba1\\u9879\\u76ee1\\u5408\\u540c1\\u8d22\\u52a12\", \"financeDate\": \"2018-08-15\", \"financeName\": \"ddada\", \"financeMoney\": 2000, \"financeStatus\": 0, \"financeDelete\": 0, \"borrowName\": \"\\u8d22\\u52a18\", \"lendName\": \"\\u8d22\\u52a14\", \"buyOrgFormInfo\": \"buyorgform4\", \"buyMethodInfo\": \"buymethod4\", \"buyTypeInfo\": \"buytype4\", \"payMethodInfo\": \"info4\", \"projectSerial\": \"\\u6d4b\\u8bd5\\u8d1f\\u8d23\\u4eba1\\u8bbf\\u95ee\\u8303\\u56f41\", \"financeBorrowerID\": \"8\", \"financeLenderID\": \"4\", \"financeTypeID\": \"4\", \"financeBuyOrgID\": \"4\", \"financeBuyMethodID\": \"4\", \"payMethodID\": \"4\", \"contractSerial\": \"\\u8d1f\\u8d23\\u4eba1\\u9879\\u76ee1\\u5408\\u540c1\"}\n",
      "Finance:ID:33{\"financeID\": 33, \"financeSerials\": \"\\u8d1f\\u8d23\\u4eba1\\u9879\\u76ee1\\u5408\\u540c2\\u8d22\\u52a11\", \"financeDate\": \"2018-08-15\", \"financeName\": \"ddada\", \"financeMoney\": 3000, \"financeStatus\": 0, \"financeDelete\": 0, \"borrowName\": \"\\u8d22\\u52a18\", \"lendName\": \"\\u8d22\\u52a14\", \"buyOrgFormInfo\": \"buyorgform4\", \"buyMethodInfo\": \"buymethod4\", \"buyTypeInfo\": \"buytype4\", \"payMethodInfo\": \"info4\", \"projectSerial\": \"\\u6d4b\\u8bd5\\u8d1f\\u8d23\\u4eba1\\u8bbf\\u95ee\\u8303\\u56f41\", \"financeBorrowerID\": \"8\", \"financeLenderID\": \"4\", \"financeTypeID\": \"4\", \"financeBuyOrgID\": \"4\", \"financeBuyMethodID\": \"4\", \"payMethodID\": \"4\", \"contractSerial\": \"\\u8d1f\\u8d23\\u4eba1\\u9879\\u76ee1\\u5408\\u540c2\"}\n",
      "Finance:ID:34{\"financeID\": 34, \"financeSerials\": \"\\u8d1f\\u8d23\\u4eba1\\u9879\\u76ee1\\u5408\\u540c2\\u8d22\\u52a12\", \"financeDate\": \"2018-08-15\", \"financeName\": \"ddada\", \"financeMoney\": 4000, \"financeStatus\": 0, \"financeDelete\": 0, \"borrowName\": \"\\u8d22\\u52a18\", \"lendName\": \"\\u8d22\\u52a14\", \"buyOrgFormInfo\": \"buyorgform4\", \"buyMethodInfo\": \"buymethod4\", \"buyTypeInfo\": \"buytype4\", \"payMethodInfo\": \"info4\", \"projectSerial\": \"\\u6d4b\\u8bd5\\u8d1f\\u8d23\\u4eba1\\u8bbf\\u95ee\\u8303\\u56f41\", \"financeBorrowerID\": \"8\", \"financeLenderID\": \"4\", \"financeTypeID\": \"4\", \"financeBuyOrgID\": \"4\", \"financeBuyMethodID\": \"4\", \"payMethodID\": \"4\", \"contractSerial\": \"\\u8d1f\\u8d23\\u4eba1\\u9879\\u76ee1\\u5408\\u540c2\"}\n",
      "Finance:ID:35{\"financeID\": 35, \"financeSerials\": \"11111\", \"financeDate\": \"2018-08-02\", \"financeName\": \"\\u6d4b\\u8bd5\", \"financeMoney\": 1000, \"financeStatus\": 0, \"financeDelete\": 0, \"borrowName\": \"\\u8d22\\u52a18\", \"lendName\": \"\\u8d22\\u52a14\", \"buyOrgFormInfo\": \"buyorgform4\", \"buyMethodInfo\": \"buymethod4\", \"buyTypeInfo\": \"buytype4\", \"payMethodInfo\": \"info4\", \"projectSerial\": \"\\u6d4b\\u8bd52018-8-6\", \"financeBorrowerID\": \"8\", \"financeLenderID\": \"4\", \"financeTypeID\": \"4\", \"financeBuyOrgID\": \"4\", \"financeBuyMethodID\": \"4\", \"payMethodID\": \"4\", \"contractSerial\": \"\\u6d4b\\u8bd5\\u5408\\u540c2018-8-6\"}\n",
      "Finance:ID:36{\"financeID\": 36, \"financeSerials\": \"111112\", \"financeDate\": \"2018-08-02\", \"financeName\": \"\\u6d4b\\u8bd52\", \"financeMoney\": 1500, \"financeStatus\": 1, \"financeDelete\": 0, \"borrowName\": \"\\u8d22\\u52a18\", \"lendName\": \"\\u8d22\\u52a14\", \"buyOrgFormInfo\": \"buyorgform4\", \"buyMethodInfo\": \"buymethod4\", \"buyTypeInfo\": \"buytype4\", \"payMethodInfo\": \"info4\", \"projectSerial\": \"\\u6d4b\\u8bd52018-8-6\", \"financeBorrowerID\": \"8\", \"financeLenderID\": \"4\", \"financeTypeID\": \"4\", \"financeBuyOrgID\": \"4\", \"financeBuyMethodID\": \"4\", \"payMethodID\": \"4\", \"contractSerial\": \"\\u6d4b\\u8bd5\\u5408\\u540c2018-8-6\"}\n",
      "Finance:ID:37{\"financeID\": 37, \"financeSerials\": \"\\u6d4b\\u8bd53\", \"financeDate\": \"2018-08-02\", \"financeName\": \"\\u6d4b\\u8bd53\", \"financeMoney\": 2000, \"financeStatus\": 0, \"financeDelete\": 0, \"borrowName\": \"\\u8d22\\u52a18\", \"lendName\": \"\\u8d22\\u52a14\", \"buyOrgFormInfo\": \"buyorgform4\", \"buyMethodInfo\": \"buymethod4\", \"buyTypeInfo\": \"buytype4\", \"payMethodInfo\": \"info4\", \"projectSerial\": \"\\u6d4b\\u8bd52018-8-6\", \"financeBorrowerID\": \"8\", \"financeLenderID\": \"4\", \"financeTypeID\": \"4\", \"financeBuyOrgID\": \"4\", \"financeBuyMethodID\": \"4\", \"payMethodID\": \"4\", \"contractSerial\": \"\\u6d4b\\u8bd5\\u5408\\u540c2018-8-6\"}\n",
      "Finance:ID:1{\"financeID\": 1, \"financeSerials\": \"1111111111111111111111111111111111111111111111111111111111111111\", \"financeDate\": \"2018-07-10\", \"financeName\": \"fiance1\", \"financeMoney\": 10000, \"financeStatus\": 1, \"financeDelete\": 0, \"borrowName\": \"\\u8d22\\u52a17\", \"lendName\": \"\\u8d22\\u52a15\", \"buyOrgFormInfo\": \"buyorgform1\", \"buyMethodInfo\": \"buymethod1\", \"buyTypeInfo\": \"buytype1\", \"payMethodInfo\": \"info1\", \"projectSerial\": \"\\u9879\\u76ee\\u7f16\\u53f71\", \"financeBorrowerID\": \"7\", \"financeLenderID\": \"5\", \"financeTypeID\": \"1\", \"financeBuyOrgID\": \"1\", \"financeBuyMethodID\": \"1\", \"payMethodID\": \"1\", \"contractSerial\": \"\\u5408\\u540c\\u7f16\\u53f71\"}\n",
      "Finance:ID:5{\"financeID\": 5, \"financeSerials\": \"5\", \"financeDate\": \"2018-07-10\", \"financeName\": \"fiance1\", \"financeMoney\": 10000, \"financeStatus\": 1, \"financeDelete\": 0, \"borrowName\": \"\\u8d22\\u52a17\", \"lendName\": \"\\u8d22\\u52a15\", \"buyOrgFormInfo\": \"buyorgform1\", \"buyMethodInfo\": \"buymethod1\", \"buyTypeInfo\": \"buytype1\", \"payMethodInfo\": \"info1\", \"projectSerial\": \"\\u9879\\u76ee\\u7f16\\u53f73\", \"financeBorrowerID\": \"7\", \"financeLenderID\": \"5\", \"financeTypeID\": \"1\", \"financeBuyOrgID\": \"1\", \"financeBuyMethodID\": \"1\", \"payMethodID\": \"1\", \"contractSerial\": \"\\u5408\\u540c\\u7f16\\u53f71\"}\n",
      "Finance:ID:3{\"financeID\": 3, \"financeSerials\": \"3\", \"financeDate\": \"2018-07-12\", \"financeName\": \"fiance3\", \"financeMoney\": 30000, \"financeStatus\": 0, \"financeDelete\": 0, \"borrowName\": \"\\u8d22\\u52a18\", \"lendName\": \"\\u8d22\\u52a15\", \"buyOrgFormInfo\": \"buyorgform3\", \"buyMethodInfo\": \"buymethod2\", \"buyTypeInfo\": \"buytype4\", \"payMethodInfo\": \"info4\", \"projectSerial\": \"\\u9879\\u76ee\\u7f16\\u53f71\", \"financeBorrowerID\": \"8\", \"financeLenderID\": \"5\", \"financeTypeID\": \"4\", \"financeBuyOrgID\": \"3\", \"financeBuyMethodID\": \"2\", \"payMethodID\": \"4\", \"contractSerial\": \"\\u5408\\u540c\\u7f16\\u53f78\"}\n",
      "Finance:ID:24{\"financeID\": 24, \"financeSerials\": \"1002\", \"financeDate\": \"2018-07-19\", \"financeName\": \"aa\", \"financeMoney\": 7777, \"financeStatus\": 1, \"financeDelete\": 0, \"borrowName\": \"\\u8d22\\u52a18\", \"lendName\": \"\\u8d22\\u52a15\", \"buyOrgFormInfo\": \"buyorgform4\", \"buyMethodInfo\": \"buymethod3\", \"buyTypeInfo\": \"buytype4\", \"payMethodInfo\": \"info4\", \"projectSerial\": \"\\u9879\\u76ee\\u7f16\\u53f71\", \"financeBorrowerID\": \"8\", \"financeLenderID\": \"5\", \"financeTypeID\": \"4\", \"financeBuyOrgID\": \"4\", \"financeBuyMethodID\": \"3\", \"payMethodID\": \"4\", \"contractSerial\": \"\\u5408\\u540c\\u7f16\\u53f73\"}\n"
     ]
    },
    {
     "data": {
      "text/plain": [
       "[True,\n",
       " True,\n",
       " True,\n",
       " True,\n",
       " True,\n",
       " True,\n",
       " True,\n",
       " True,\n",
       " True,\n",
       " True,\n",
       " True,\n",
       " True,\n",
       " True,\n",
       " True,\n",
       " True,\n",
       " True,\n",
       " True,\n",
       " True,\n",
       " True,\n",
       " True,\n",
       " True,\n",
       " True]"
      ]
     },
     "execution_count": 14,
     "metadata": {},
     "output_type": "execute_result"
    }
   ],
   "source": [
    "# 设置财务详情\n",
    "sql = 'SELECT financeID,financeSerials,financeDate,financeName,financeMoney,financeStatus,financeDelete,borrowName,lendName,buyOrgFormInfo,buyMethodInfo,buyTypeInfo,payMethodInfo,projectSerial,financeBorrowerID,financeLenderID,financeTypeID,financeBuyOrgID,financeBuyMethodID,finance.payMethodID,contractSerial FROM finance INNER JOIN ( SELECT accountantID,accountantName AS borrowName FROM accountant) borrow ON financeBorrowerID=borrow.accountantID INNER JOIN ( SELECT accountantID,accountantName AS lendName FROM accountant) lend ON financeLenderID=lend.accountantID INNER JOIN buyorgform ON financeBuyOrgID=buyOrgFormID INNER JOIN buymethod ON financeBuyMethodID=buyMethodID INNER JOIN buytype ON financeTypeID=buyTypeID INNER JOIN paymethod ON finance.payMethodID=paymethod.`payMethodID` INNER JOIN project ON finance.`projectID`=project.`projectID` INNER JOIN contract ON finance.`contractID`=contract.`contractID`'\n",
    "result = db.query(sql)\n",
    "pipe = r.pipeline(transaction=True)\n",
    "for i in result:\n",
    "    value = json.dumps(i, default=date_handler)\n",
    "    key = \"Finance:ID:\"+str(i.get(\"financeID\"))\n",
    "    print (key+value)\n",
    "    pipe.set(key, value)\n",
    "pipe.execute()"
   ]
  },
  {
   "cell_type": "code",
   "execution_count": 15,
   "metadata": {},
   "outputs": [
    {
     "name": "stdout",
     "output_type": "stream",
     "text": [
      "Budget:ID:1{\"budgetID\": 1, \"budgetSerial\": \"\\u9884\\u7b97\\u7f16\\u53f71\", \"projectBudgetSum\": 10000, \"projectContractsSum\": 0, \"projectContractsPayed\": 111111, \"projectContractsNotPayed\": 4400, \"projectBudgetLeft\": 0, \"projectID\": 3, \"projectSerial\": \"\\u9879\\u76ee\\u7f16\\u53f73\", \"projectName\": \"\\u9879\\u76ee\\u540d\\u79f03\", \"projectStartTime\": \"2018-07-16\"}\n",
      "Budget:ID:2{\"budgetID\": 2, \"budgetSerial\": \"\\u9884\\u7b97\\u7f16\\u53f72\", \"projectBudgetSum\": 10000, \"projectContractsSum\": 80, \"projectContractsPayed\": 22302, \"projectContractsNotPayed\": 4400, \"projectBudgetLeft\": -80, \"projectID\": 2, \"projectSerial\": \"\\u9879\\u76ee\\u7f16\\u53f72\", \"projectName\": \"\\u9879\\u76ee\\u540d\\u79f02\", \"projectStartTime\": \"2018-07-17\"}\n",
      "Budget:ID:3{\"budgetID\": 3, \"budgetSerial\": \"3\", \"projectBudgetSum\": 10000, \"projectContractsSum\": 0, \"projectContractsPayed\": 0, \"projectContractsNotPayed\": 0, \"projectBudgetLeft\": 0, \"projectID\": 1, \"projectSerial\": \"\\u9879\\u76ee\\u7f16\\u53f71\", \"projectName\": \"\\u9879\\u76ee\\u540d\\u79f01\", \"projectStartTime\": \"2018-07-18\"}\n",
      "Budget:ID:4{\"budgetID\": 4, \"budgetSerial\": \"5b1c1b60-90a2-11e8-bac3-5254007b4b25\", \"projectBudgetSum\": 10000, \"projectContractsSum\": 0, \"projectContractsPayed\": 0, \"projectContractsNotPayed\": 0, \"projectBudgetLeft\": 0, \"projectID\": 4, \"projectSerial\": \"\\u9879\\u76ee\\u7f16\\u53f74\", \"projectName\": \"\\u9879\\u76ee\\u540d\\u79f04\", \"projectStartTime\": \"2018-07-25\"}\n",
      "Budget:ID:8{\"budgetID\": 8, \"budgetSerial\": \"e64f0c03-90a4-11e8-bac3-5254007b4b25\", \"projectBudgetSum\": 222222, \"projectContractsSum\": 0, \"projectContractsPayed\": 0, \"projectContractsNotPayed\": 0, \"projectBudgetLeft\": 0, \"projectID\": 57, \"projectSerial\": \"\\u9879\\u76ee\\u7f16\\u53f737\", \"projectName\": null, \"projectStartTime\": null}\n",
      "Budget:ID:9{\"budgetID\": 9, \"budgetSerial\": \"62006220-93ad-11e8-8b63-5254007b4b25\", \"projectBudgetSum\": 1, \"projectContractsSum\": 0, \"projectContractsPayed\": 0, \"projectContractsNotPayed\": 0, \"projectBudgetLeft\": 0, \"projectID\": 58, \"projectSerial\": \"1\", \"projectName\": \"1\", \"projectStartTime\": null}\n",
      "Budget:ID:10{\"budgetID\": 10, \"budgetSerial\": \"63229305-93ad-11e8-8b63-5254007b4b25\", \"projectBudgetSum\": 3000000, \"projectContractsSum\": 0, \"projectContractsPayed\": 0, \"projectContractsNotPayed\": 0, \"projectBudgetLeft\": 0, \"projectID\": 59, \"projectSerial\": \"dfhuohfoeqoqe\", \"projectName\": \"\\u6d4b\\u8bd5\\u9879\\u76ee\", \"projectStartTime\": null}\n",
      "Budget:ID:11{\"budgetID\": 11, \"budgetSerial\": \"85aa9271-93dd-11e8-8b63-5254007b4b25\", \"projectBudgetSum\": 20000, \"projectContractsSum\": 0, \"projectContractsPayed\": 0, \"projectContractsNotPayed\": 0, \"projectBudgetLeft\": 0, \"projectID\": 60, \"projectSerial\": \"serial33\", \"projectName\": \"name33\", \"projectStartTime\": null}\n",
      "Budget:ID:12{\"budgetID\": 12, \"budgetSerial\": \"a8cf510c-93dd-11e8-8b63-5254007b4b25\", \"projectBudgetSum\": 1111, \"projectContractsSum\": 0, \"projectContractsPayed\": 0, \"projectContractsNotPayed\": 0, \"projectBudgetLeft\": 0, \"projectID\": 61, \"projectSerial\": \"adda\", \"projectName\": \"\\u9879\\u76ee adda\", \"projectStartTime\": null}\n",
      "Budget:ID:13{\"budgetID\": 13, \"budgetSerial\": \"dfa854a7-93dd-11e8-8b63-5254007b4b25\", \"projectBudgetSum\": 2222, \"projectContractsSum\": 0, \"projectContractsPayed\": 0, \"projectContractsNotPayed\": 0, \"projectBudgetLeft\": 0, \"projectID\": 62, \"projectSerial\": \"35\", \"projectName\": \"35\", \"projectStartTime\": null}\n",
      "Budget:ID:15{\"budgetID\": 15, \"budgetSerial\": \"ede09608-93de-11e8-8b63-5254007b4b25\", \"projectBudgetSum\": 11, \"projectContractsSum\": 0, \"projectContractsPayed\": 0, \"projectContractsNotPayed\": 0, \"projectBudgetLeft\": 0, \"projectID\": 64, \"projectSerial\": \"21\", \"projectName\": \"21\", \"projectStartTime\": null}\n",
      "Budget:ID:16{\"budgetID\": 16, \"budgetSerial\": \"0455612f-93df-11e8-8b63-5254007b4b25\", \"projectBudgetSum\": 11, \"projectContractsSum\": 0, \"projectContractsPayed\": 0, \"projectContractsNotPayed\": 0, \"projectBudgetLeft\": 0, \"projectID\": 65, \"projectSerial\": \"22\", \"projectName\": \"21\", \"projectStartTime\": null}\n",
      "Budget:ID:17{\"budgetID\": 17, \"budgetSerial\": \"9bdec51f-93df-11e8-8b63-5254007b4b25\", \"projectBudgetSum\": 11, \"projectContractsSum\": 0, \"projectContractsPayed\": 0, \"projectContractsNotPayed\": 0, \"projectBudgetLeft\": 0, \"projectID\": 66, \"projectSerial\": \"23\", \"projectName\": \"23\", \"projectStartTime\": null}\n",
      "Budget:ID:19{\"budgetID\": 19, \"budgetSerial\": \"f1229509-9434-11e8-8b63-5254007b4b25\", \"projectBudgetSum\": 1000, \"projectContractsSum\": 0, \"projectContractsPayed\": 0, \"projectContractsNotPayed\": 0, \"projectBudgetLeft\": 0, \"projectID\": 68, \"projectSerial\": \"41\", \"projectName\": \"41\", \"projectStartTime\": null}\n",
      "Budget:ID:20{\"budgetID\": 20, \"budgetSerial\": \"3269521b-9435-11e8-8b63-5254007b4b25\", \"projectBudgetSum\": 1000, \"projectContractsSum\": 0, \"projectContractsPayed\": 0, \"projectContractsNotPayed\": 0, \"projectBudgetLeft\": 0, \"projectID\": 69, \"projectSerial\": \"42\", \"projectName\": \"42\", \"projectStartTime\": null}\n",
      "Budget:ID:21{\"budgetID\": 21, \"budgetSerial\": \"280ced9d-9437-11e8-8b63-5254007b4b25\", \"projectBudgetSum\": 1000, \"projectContractsSum\": 0, \"projectContractsPayed\": 0, \"projectContractsNotPayed\": 0, \"projectBudgetLeft\": 0, \"projectID\": 70, \"projectSerial\": \"43\", \"projectName\": \"43\", \"projectStartTime\": null}\n",
      "Budget:ID:22{\"budgetID\": 22, \"budgetSerial\": \"1649e3f2-9439-11e8-8b63-5254007b4b25\", \"projectBudgetSum\": 122, \"projectContractsSum\": 0, \"projectContractsPayed\": 0, \"projectContractsNotPayed\": 0, \"projectBudgetLeft\": 0, \"projectID\": 71, \"projectSerial\": \"44\", \"projectName\": \"44\", \"projectStartTime\": null}\n",
      "Budget:ID:23{\"budgetID\": 23, \"budgetSerial\": \"9aefc0b5-943a-11e8-8b63-5254007b4b25\", \"projectBudgetSum\": 111, \"projectContractsSum\": 0, \"projectContractsPayed\": 0, \"projectContractsNotPayed\": 0, \"projectBudgetLeft\": 0, \"projectID\": 72, \"projectSerial\": \"45\", \"projectName\": \"45\", \"projectStartTime\": null}\n",
      "Budget:ID:25{\"budgetID\": 25, \"budgetSerial\": \"f08d7631-943e-11e8-8b63-5254007b4b25\", \"projectBudgetSum\": 1112, \"projectContractsSum\": 0, \"projectContractsPayed\": 0, \"projectContractsNotPayed\": 0, \"projectBudgetLeft\": 0, \"projectID\": 79, \"projectSerial\": \"46\", \"projectName\": \"45\\u552f\\u4e00\\u6027\\u6d4b\\u8bd5\", \"projectStartTime\": null}\n",
      "Budget:ID:26{\"budgetID\": 26, \"budgetSerial\": \"0da216be-9459-11e8-8b63-5254007b4b25\", \"projectBudgetSum\": 22, \"projectContractsSum\": 0, \"projectContractsPayed\": 0, \"projectContractsNotPayed\": 0, \"projectBudgetLeft\": 0, \"projectID\": 81, \"projectSerial\": \"50\", \"projectName\": \"ada\", \"projectStartTime\": null}\n",
      "Budget:ID:27{\"budgetID\": 27, \"budgetSerial\": \"0e20f828-945a-11e8-8b63-5254007b4b25\", \"projectBudgetSum\": null, \"projectContractsSum\": 0, \"projectContractsPayed\": 0, \"projectContractsNotPayed\": 0, \"projectBudgetLeft\": 0, \"projectID\": 86, \"projectSerial\": \"\", \"projectName\": \"dada\", \"projectStartTime\": null}\n",
      "Budget:ID:28{\"budgetID\": 28, \"budgetSerial\": \"212a2cc1-9557-11e8-8b63-5254007b4b25\", \"projectBudgetSum\": 400, \"projectContractsSum\": 60, \"projectContractsPayed\": 0, \"projectContractsNotPayed\": 60, \"projectBudgetLeft\": 340, \"projectID\": 87, \"projectSerial\": \"\\u6d4b\\u8bd5test1\", \"projectName\": \"\\u6d4b\\u8bd5test1\", \"projectStartTime\": null}\n",
      "Budget:ID:37{\"budgetID\": 37, \"budgetSerial\": \"c2aff30a-96e7-11e8-8b63-5254007b4b25\", \"projectBudgetSum\": 11, \"projectContractsSum\": 0, \"projectContractsPayed\": 0, \"projectContractsNotPayed\": 0, \"projectBudgetLeft\": 11, \"projectID\": 108, \"projectSerial\": \"gg\", \"projectName\": \"gg\", \"projectStartTime\": null}\n",
      "Budget:ID:38{\"budgetID\": 38, \"budgetSerial\": \"ddadaada\", \"projectBudgetSum\": 0, \"projectContractsSum\": 10000, \"projectContractsPayed\": 9000, \"projectContractsNotPayed\": 1000, \"projectBudgetLeft\": -10000, \"projectID\": 88, \"projectSerial\": \"\\u6d4b\\u8bd5\\u8d1f\\u8d23\\u4eba1\\u8bbf\\u95ee\\u8303\\u56f41\", \"projectName\": \"\\u6d4b\\u8bd5\\u8d1f\\u8d23\\u4eba1\\u8bbf\\u95ee\\u8303\\u56f4\", \"projectStartTime\": \"2018-08-22\"}\n",
      "Budget:ID:39{\"budgetID\": 39, \"budgetSerial\": \"a8a0514e-9912-11e8-8b63-5254007b4b25\", \"projectBudgetSum\": 100000, \"projectContractsSum\": 4500, \"projectContractsPayed\": 3000, \"projectContractsNotPayed\": 1500, \"projectBudgetLeft\": 95500, \"projectID\": 109, \"projectSerial\": \"\\u6d4b\\u8bd52018-8-6\", \"projectName\": \"\\u6d4b\\u8bd52018-8-6\", \"projectStartTime\": null}\n"
     ]
    },
    {
     "data": {
      "text/plain": [
       "[True,\n",
       " True,\n",
       " True,\n",
       " True,\n",
       " True,\n",
       " True,\n",
       " True,\n",
       " True,\n",
       " True,\n",
       " True,\n",
       " True,\n",
       " True,\n",
       " True,\n",
       " True,\n",
       " True,\n",
       " True,\n",
       " True,\n",
       " True,\n",
       " True,\n",
       " True,\n",
       " True,\n",
       " True,\n",
       " True,\n",
       " True,\n",
       " True]"
      ]
     },
     "execution_count": 15,
     "metadata": {},
     "output_type": "execute_result"
    }
   ],
   "source": [
    "# 设置预算详情\n",
    "sql = 'SELECT budgetdetail.budgetID,budgetSerial,project.projectBudgetSum,projectContractsSum,projectContractsPayed,projectContractsNotPayed,projectBudgetLeft,project.projectID,projectSerial,projectName,projectStartTime FROM budgetdetail INNER JOIN project ON budgetdetail.projectID=project.projectID'\n",
    "result = db.query(sql)\n",
    "pipe = r.pipeline(transaction=True)\n",
    "for i in result:\n",
    "    value = json.dumps(i, default=date_handler)\n",
    "    key = \"Budget:ID:\"+str(i.get(\"budgetID\"))\n",
    "    print (key+value)\n",
    "    pipe.set(key, value)\n",
    "pipe.execute()"
   ]
  },
  {
   "cell_type": "code",
   "execution_count": 16,
   "metadata": {},
   "outputs": [
    {
     "name": "stdout",
     "output_type": "stream",
     "text": [
      "<option value=\"\">请选择贷方信息</option><optgroup label=\"v4.0\"><option value=\"8\">财务8</option></optgroup><optgroup label=\"v3.0（已失效）\"><option value=\"3\">财务3</option></optgroup><optgroup label=\"v2.0（已失效）\"><option value=\"2\">财务2</option></optgroup><optgroup label=\"v1.0（已失效）\"><option value=\"1\">财务1</option><option value=\"7\">财务7</option></optgroup>\n"
     ]
    },
    {
     "data": {
      "text/plain": [
       "True"
      ]
     },
     "execution_count": 16,
     "metadata": {},
     "output_type": "execute_result"
    }
   ],
   "source": [
    "# 查 选择借方信息 version  \n",
    "sql1 = \"select versionBuildNum from version order by verisionID desc \"\n",
    "versionList = []\n",
    "for i in db.query(sql1):\n",
    "    versionList.append(i[\"versionBuildNum\"])\n",
    "    \n",
    "# 查具体的  借方下拉框\n",
    "sql2= \"SELECT accountantID,accountantName,accountantType,versionID FROM accountant inner join version on accountant.versionID = version.verisionID WHERE accountantType = 0 and versionBuildNum = %s\"\n",
    "resultHtml = '<option value=\"\">请选择贷方信息</option>'\n",
    "i=0\n",
    "for versionBuildNum in versionList:\n",
    "    if i==0:\n",
    "        resultHtml += '<optgroup label=\"'+ versionBuildNum +'\">'\n",
    "    else:\n",
    "        resultHtml += '<optgroup label=\"'+ versionBuildNum +'（已失效）\">'\n",
    "\n",
    "\n",
    "    for j in  db.query(sql2, versionBuildNum):\n",
    "        resultHtml += '<option value=\"' + j[\"accountantID\"] +'\">' + j[\"accountantName\"] + '</option>'\n",
    "    resultHtml += '</optgroup>'\n",
    "    i+=1\n",
    "\n",
    "# resultHtml += '</select>'\n",
    "\n",
    "print(resultHtml)\n",
    "\n",
    "\n",
    "# value = json.dumps(resultList)\n",
    "key = \"BorrowType:list\"\n",
    "   \n",
    "r.set(key, resultHtml)\n",
    "    \n",
    "   "
   ]
  },
  {
   "cell_type": "code",
   "execution_count": 17,
   "metadata": {},
   "outputs": [
    {
     "name": "stdout",
     "output_type": "stream",
     "text": [
      "<option value=\"\">请选择贷方信息</option><optgroup label=\"v4.0\"><option value=\"4\">财务4</option></optgroup><optgroup label=\"v3.0（已失效）\"><option value=\"6\">财务6</option></optgroup><optgroup label=\"v2.0（已失效）\"><option value=\"5\">财务5</option></optgroup><optgroup label=\"v1.0（已失效）\"></optgroup>\n"
     ]
    },
    {
     "data": {
      "text/plain": [
       "True"
      ]
     },
     "execution_count": 17,
     "metadata": {},
     "output_type": "execute_result"
    }
   ],
   "source": [
    "# 查 贷方下拉框 version  \n",
    "sql1 = \"select versionBuildNum from version order by verisionID desc \"\n",
    "versionList = []\n",
    "for i in db.query(sql1):\n",
    "    versionList.append(i[\"versionBuildNum\"])\n",
    "    \n",
    "# 查具体的  贷方下拉框\n",
    "sql2= \" SELECT accountantID,accountantName,accountantType,versionID FROM accountant inner join version on accountant.versionID = version.verisionID WHERE accountantType = 1 and versionBuildNum = %s\"\n",
    "resultHtml = '<option value=\"\">请选择贷方信息</option>'\n",
    "i=0\n",
    "for versionBuildNum in versionList:\n",
    "    if i==0:\n",
    "        resultHtml += '<optgroup label=\"'+ versionBuildNum +'\">'\n",
    "    else:\n",
    "        resultHtml += '<optgroup label=\"'+ versionBuildNum +'（已失效）\">'\n",
    "        \n",
    "        \n",
    " \n",
    "    for j in  db.query(sql2, versionBuildNum):\n",
    "        resultHtml += '<option value=\"' + j[\"accountantID\"] +'\">' + j[\"accountantName\"] + '</option>'\n",
    "    resultHtml += '</optgroup>'\n",
    "    i+=1\n",
    "\n",
    "# resultHtml += '</select>'\n",
    "\n",
    "print(resultHtml)\n",
    "\n",
    "\n",
    "# value = json.dumps(resultList)\n",
    "key = \"LendType:list\"\n",
    "   \n",
    "r.set(key, resultHtml)"
   ]
  },
  {
   "cell_type": "code",
   "execution_count": 18,
   "metadata": {},
   "outputs": [
    {
     "name": "stdout",
     "output_type": "stream",
     "text": [
      "<option value=\"\"></option><optgroup label=\"v4.0\"></optgroup><optgroup label=\"v3.0（已失效）\"><option value=\"2\">批复2</option></optgroup><optgroup label=\"v2.0（已失效）\"><option value=\"\">pifu2</option><option value=\"4\">批复4</option></optgroup><optgroup label=\"v1.0（已失效）\"><option value=\"1\">批复1</option><option value=\"3\">批复3</option></optgroup>\n"
     ]
    },
    {
     "data": {
      "text/plain": [
       "True"
      ]
     },
     "execution_count": 18,
     "metadata": {},
     "output_type": "execute_result"
    }
   ],
   "source": [
    "# 查 version  \n",
    "sql1 = \"select versionBuildNum from version order by verisionID desc \"\n",
    "versionList = []\n",
    "for i in db.query(sql1):\n",
    "    versionList.append(i[\"versionBuildNum\"])\n",
    "    \n",
    "# 查具体的  预算批复下拉框\n",
    "sql2= \" SELECT budgetReplyID,budgetReplyInfo,versionID FROM budgetreply inner join version on budgetreply.versionID = version.verisionID WHERE versionBuildNum = %s\"\n",
    "resultHtml = '<option value=\"\"></option>'\n",
    "i=0\n",
    "for versionBuildNum in versionList:\n",
    "    if i==0:\n",
    "        resultHtml += '<optgroup label=\"'+ versionBuildNum +'\">'\n",
    "    else:\n",
    "        resultHtml += '<optgroup label=\"'+ versionBuildNum +'（已失效）\">'\n",
    "    \n",
    "    for j in  db.query(sql2, versionBuildNum):\n",
    "        resultHtml += '<option value=\"' + j[\"budgetReplyID\"] +'\">' + j[\"budgetReplyInfo\"] + '</option>'\n",
    "    resultHtml += '</optgroup>'\n",
    "    i+=1\n",
    "\n",
    "# resultHtml += '</select>'\n",
    "\n",
    "print(resultHtml)\n",
    "\n",
    "\n",
    "# value = json.dumps(resultList)\n",
    "key = \"BudgetReply:list\"\n",
    "   \n",
    "r.set(key, resultHtml)"
   ]
  },
  {
   "cell_type": "code",
   "execution_count": 19,
   "metadata": {},
   "outputs": [
    {
     "name": "stdout",
     "output_type": "stream",
     "text": [
      "<option value=\"\"></option><optgroup label=\"v4.0\"><option value=\"4\">建设内容4</option></optgroup><optgroup label=\"v3.0（已失效）\"><option value=\"3\">建设内容3</option></optgroup><optgroup label=\"v2.0（已失效）\"><option value=\"2\">建设内容2</option></optgroup><optgroup label=\"v1.0（已失效）\"><option value=\"1\">建设内容1</option></optgroup>\n"
     ]
    },
    {
     "data": {
      "text/plain": [
       "True"
      ]
     },
     "execution_count": 19,
     "metadata": {},
     "output_type": "execute_result"
    }
   ],
   "source": [
    "# 查 version  \n",
    "sql1 = \"select versionBuildNum from version order by verisionID desc \"\n",
    "versionList = []\n",
    "for i in db.query(sql1):\n",
    "    versionList.append(i[\"versionBuildNum\"])\n",
    "    \n",
    "# 查具体的  建设内容下拉框\n",
    "sql2= \" SELECT buildContentID,buildInfo,versionID FROM buildcontent inner join version on buildcontent.versionID = version.verisionID WHERE versionBuildNum = %s\"\n",
    "resultHtml = '<option value=\"\"></option>'\n",
    "i=0\n",
    "for versionBuildNum in versionList:\n",
    "    if i==0:\n",
    "        resultHtml += '<optgroup label=\"'+ versionBuildNum +'\">'\n",
    "    else:\n",
    "        resultHtml += '<optgroup label=\"'+ versionBuildNum +'（已失效）\">'\n",
    "    for j in  db.query(sql2, versionBuildNum):\n",
    "        resultHtml += '<option value=\"' + j[\"buildContentID\"] +'\">' + j[\"buildInfo\"] + '</option>'\n",
    "    resultHtml += '</optgroup>'\n",
    "    i+=1\n",
    "\n",
    "# resultHtml += '</select>'\n",
    "\n",
    "print(resultHtml)\n",
    "\n",
    "\n",
    "# value = json.dumps(resultList)\n",
    "key = \"BuildContent:list\"\n",
    "   \n",
    "r.set(key, resultHtml)"
   ]
  },
  {
   "cell_type": "code",
   "execution_count": 20,
   "metadata": {},
   "outputs": [
    {
     "name": "stdout",
     "output_type": "stream",
     "text": [
      "<option value=\"\"></option><optgroup label=\"v4.0\"><option value=\"4\">buymethod4</option></optgroup><optgroup label=\"v3.0（已失效）\"><option value=\"3\">buymethod3</option></optgroup><optgroup label=\"v2.0（已失效）\"><option value=\"2\">buymethod2</option></optgroup><optgroup label=\"v1.0（已失效）\"><option value=\"1\">buymethod1</option></optgroup>\n"
     ]
    },
    {
     "data": {
      "text/plain": [
       "True"
      ]
     },
     "execution_count": 20,
     "metadata": {},
     "output_type": "execute_result"
    }
   ],
   "source": [
    "# 查 version  \n",
    "sql1 = \"select versionBuildNum from version order by verisionID desc \"\n",
    "versionList = []\n",
    "for i in db.query(sql1):\n",
    "    versionList.append(i[\"versionBuildNum\"])\n",
    "    \n",
    "# 查具体的  采购方式下拉框\n",
    "sql2= \" SELECT buyMethodID,buyMethodInfo,versionID FROM buymethod inner join version on buymethod.versionID = version.verisionID WHERE versionBuildNum = %s\"\n",
    "resultHtml = '<option value=\"\"></option>'\n",
    "i=0\n",
    "for versionBuildNum in versionList:\n",
    "    if i==0:\n",
    "        resultHtml += '<optgroup label=\"'+ versionBuildNum +'\">'\n",
    "    else:\n",
    "        resultHtml += '<optgroup label=\"'+ versionBuildNum +'（已失效）\">'\n",
    "    for j in  db.query(sql2, versionBuildNum):\n",
    "        resultHtml += '<option value=\"' + j[\"buyMethodID\"] +'\">' + j[\"buyMethodInfo\"] + '</option>'\n",
    "    resultHtml += '</optgroup>'\n",
    "    i+=1\n",
    "\n",
    "# resultHtml += '</select>'\n",
    "\n",
    "print(resultHtml)\n",
    "\n",
    "\n",
    "# value = json.dumps(resultList)\n",
    "key = \"PurchaseWay:list\"\n",
    "   \n",
    "r.set(key, resultHtml)"
   ]
  },
  {
   "cell_type": "code",
   "execution_count": 21,
   "metadata": {},
   "outputs": [
    {
     "name": "stdout",
     "output_type": "stream",
     "text": [
      "<option value=\"\"></option><optgroup label=\"v4.0\"><option value=\"4\">buyorgform4</option></optgroup><optgroup label=\"v3.0（已失效）\"><option value=\"3\">buyorgform3</option></optgroup><optgroup label=\"v2.0（已失效）\"><option value=\"2\">buyorgform2</option></optgroup><optgroup label=\"v1.0（已失效）\"><option value=\"1\">buyorgform1</option></optgroup>\n"
     ]
    },
    {
     "data": {
      "text/plain": [
       "True"
      ]
     },
     "execution_count": 21,
     "metadata": {},
     "output_type": "execute_result"
    }
   ],
   "source": [
    "# 查 version  \n",
    "sql1 = \"select versionBuildNum from version order by verisionID desc \"\n",
    "versionList = []\n",
    "for i in db.query(sql1):\n",
    "    versionList.append(i[\"versionBuildNum\"])\n",
    "    \n",
    "# 查具体的  采购组织方式下拉框\n",
    "sql2= \" SELECT buyOrgFormID,buyOrgFormInfo,versionID FROM buyorgform inner join version on buyorgform.versionID = version.verisionID  WHERE versionBuildNum = %s\"\n",
    "resultHtml = '<option value=\"\"></option>'\n",
    "i=0\n",
    "for versionBuildNum in versionList:\n",
    "    if i==0:\n",
    "        resultHtml += '<optgroup label=\"'+ versionBuildNum +'\">'\n",
    "    else:\n",
    "        resultHtml += '<optgroup label=\"'+ versionBuildNum +'（已失效）\">'\n",
    "    for j in  db.query(sql2,versionBuildNum):\n",
    "        resultHtml += '<option value=\"' + j[\"buyOrgFormID\"] +'\">' + j[\"buyOrgFormInfo\"] + '</option>'\n",
    "    resultHtml += '</optgroup>'\n",
    "    i+=1\n",
    "\n",
    "# resultHtml += '</select>'\n",
    "\n",
    "print(resultHtml)\n",
    "\n",
    "\n",
    "# value = json.dumps(resultList)\n",
    "key = \"BuyOrgMethod:list\"\n",
    "   \n",
    "r.set(key, resultHtml)"
   ]
  },
  {
   "cell_type": "code",
   "execution_count": 22,
   "metadata": {},
   "outputs": [
    {
     "name": "stdout",
     "output_type": "stream",
     "text": [
      "<option value=\"\"></option><optgroup label=\"v4.0\"><option value=\"4\">buytype4</option></optgroup><optgroup label=\"v3.0（已失效）\"><option value=\"3\">buytype3</option></optgroup><optgroup label=\"v2.0（已失效）\"><option value=\"2\">buytype2</option></optgroup><optgroup label=\"v1.0（已失效）\"><option value=\"1\">buytype1</option></optgroup>\n"
     ]
    },
    {
     "data": {
      "text/plain": [
       "True"
      ]
     },
     "execution_count": 22,
     "metadata": {},
     "output_type": "execute_result"
    }
   ],
   "source": [
    "# 查 version  \n",
    "sql1 = \"select versionBuildNum from version order by verisionID desc \"\n",
    "versionList = []\n",
    "for i in db.query(sql1):\n",
    "    versionList.append(i[\"versionBuildNum\"])\n",
    "    \n",
    "# 查具体的  采购类型下拉框\n",
    "sql2= \" SELECT buyTypeID,buyTypeInfo,versionID FROM buytype inner join version on buytype.versionID = version.verisionID  WHERE versionBuildNum = %s\"\n",
    "resultHtml = '<option value=\"\"></option>'\n",
    "i=0\n",
    "for versionBuildNum in versionList:\n",
    "    if i==0:\n",
    "        resultHtml += '<optgroup label=\"'+ versionBuildNum +'\">'\n",
    "    else:\n",
    "        resultHtml += '<optgroup label=\"'+ versionBuildNum +'（已失效）\">'\n",
    "    for j in  db.query(sql2, versionBuildNum):\n",
    "        resultHtml += '<option value=\"' + j[\"buyTypeID\"] +'\">' + j[\"buyTypeInfo\"] + '</option>'\n",
    "    resultHtml += '</optgroup>'\n",
    "    i+=1\n",
    "\n",
    "# resultHtml += '</select>'\n",
    "\n",
    "print(resultHtml)\n",
    "\n",
    "\n",
    "# value = json.dumps(resultList)\n",
    "key = \"PurchaseType:list\"\n",
    "   \n",
    "r.set(key, resultHtml)"
   ]
  },
  {
   "cell_type": "code",
   "execution_count": 23,
   "metadata": {},
   "outputs": [
    {
     "name": "stdout",
     "output_type": "stream",
     "text": [
      "<option value=\"\"></option><optgroup label=\"v4.0\"></optgroup><optgroup label=\"v3.0（已失效）\"><option value=\"4\">部门4</option></optgroup><optgroup label=\"v2.0（已失效）\"><option value=\"3\">部门3</option></optgroup><optgroup label=\"v1.0（已失效）\"><option value=\"1\">部门1</option><option value=\"2\">部门2</option></optgroup>\n"
     ]
    },
    {
     "data": {
      "text/plain": [
       "True"
      ]
     },
     "execution_count": 23,
     "metadata": {},
     "output_type": "execute_result"
    }
   ],
   "source": [
    "# 查 version  \n",
    "sql1 = \"select versionBuildNum from version order by verisionID desc \"\n",
    "versionList = []\n",
    "for i in db.query(sql1):\n",
    "    versionList.append(i[\"versionBuildNum\"])\n",
    "    \n",
    "# 查具体的  部门下拉框\n",
    "sql2= \" SELECT departmentID,departmentName,versionID FROM department inner join version on department.versionID = version.verisionID  WHERE versionBuildNum = %s\"\n",
    "resultHtml = '<option value=\"\"></option>'\n",
    "i=0\n",
    "for versionBuildNum in versionList:\n",
    "    if i==0:\n",
    "        resultHtml += '<optgroup label=\"'+ versionBuildNum +'\">'\n",
    "    else:\n",
    "        resultHtml += '<optgroup label=\"'+ versionBuildNum +'（已失效）\">'\n",
    "    for j in  db.query(sql2, versionBuildNum):\n",
    "        resultHtml += '<option value=\"' + j[\"departmentID\"] +'\">' + j[\"departmentName\"] + '</option>'\n",
    "    resultHtml += '</optgroup>'\n",
    "    i+=1\n",
    "\n",
    "# resultHtml += '</select>'\n",
    "\n",
    "print(resultHtml)\n",
    "\n",
    "\n",
    "# value = json.dumps(resultList)\n",
    "key = \"Department:list\"\n",
    "   \n",
    "r.set(key, resultHtml)"
   ]
  },
  {
   "cell_type": "code",
   "execution_count": 24,
   "metadata": {},
   "outputs": [
    {
     "name": "stdout",
     "output_type": "stream",
     "text": [
      "<option value=\"\"></option><optgroup label=\"v4.0\"><option value=\"4\">info4</option></optgroup><optgroup label=\"v3.0（已失效）\"><option value=\"3\">info3</option></optgroup><optgroup label=\"v2.0（已失效）\"><option value=\"2\">info2</option></optgroup><optgroup label=\"v1.0（已失效）\"><option value=\"1\">info1</option></optgroup>\n"
     ]
    },
    {
     "data": {
      "text/plain": [
       "True"
      ]
     },
     "execution_count": 24,
     "metadata": {},
     "output_type": "execute_result"
    }
   ],
   "source": [
    "# 查 version  \n",
    "sql1 = \"select versionBuildNum from version order by verisionID desc \"\n",
    "versionList = []\n",
    "for i in db.query(sql1):\n",
    "    versionList.append(i[\"versionBuildNum\"])\n",
    "    \n",
    "# 查具体的  付款方式下拉框\n",
    "sql2= \" SELECT payMethodID,payMethodInfo,versionID FROM paymethod inner join version on paymethod.versionID = version.verisionID  WHERE versionBuildNum = %s\"\n",
    "resultHtml = '<option value=\"\"></option>'\n",
    "i=0\n",
    "for versionBuildNum in versionList:\n",
    "    if i==0:\n",
    "        resultHtml += '<optgroup label=\"'+ versionBuildNum +'\">'\n",
    "    else:\n",
    "        resultHtml += '<optgroup label=\"'+ versionBuildNum +'（已失效）\">'\n",
    "    for j in  db.query(sql2, versionBuildNum):\n",
    "        resultHtml += '<option value=\"' + j[\"payMethodID\"] +'\">' + j[\"payMethodInfo\"] + '</option>'\n",
    "    resultHtml += '</optgroup>'\n",
    "    i+=1\n",
    "\n",
    "# resultHtml += '</select>'\n",
    "\n",
    "print(resultHtml)\n",
    "\n",
    "\n",
    "# value = json.dumps(resultList)\n",
    "key = \"PayMethod:list\"\n",
    "   \n",
    "r.set(key, resultHtml)"
   ]
  },
  {
   "cell_type": "code",
   "execution_count": 25,
   "metadata": {},
   "outputs": [
    {
     "data": {
      "text/plain": [
       "True"
      ]
     },
     "execution_count": 25,
     "metadata": {},
     "output_type": "execute_result"
    }
   ],
   "source": [
    "# 权限下拉框\n",
    "sql = 'SELECT permissionID,url,LEVEL,permissionComment FROM permission'\n",
    "result = db.query(sql)\n",
    "value = json.dumps(i, default=date_handler)\n",
    "key = \"Level:list\"\n",
    "r.set(key, value)"
   ]
  },
  {
   "cell_type": "code",
   "execution_count": 26,
   "metadata": {},
   "outputs": [
    {
     "data": {
      "text/plain": [
       "[True,\n",
       " True,\n",
       " True,\n",
       " True,\n",
       " True,\n",
       " True,\n",
       " True,\n",
       " True,\n",
       " True,\n",
       " True,\n",
       " True,\n",
       " True,\n",
       " True,\n",
       " True,\n",
       " True,\n",
       " True,\n",
       " True,\n",
       " True,\n",
       " True,\n",
       " True,\n",
       " True,\n",
       " True,\n",
       " True,\n",
       " True,\n",
       " True,\n",
       " True,\n",
       " True,\n",
       " True,\n",
       " True,\n",
       " True,\n",
       " True,\n",
       " True,\n",
       " True,\n",
       " True,\n",
       " True,\n",
       " True,\n",
       " True,\n",
       " True,\n",
       " True,\n",
       " True,\n",
       " True,\n",
       " True,\n",
       " True,\n",
       " True,\n",
       " True,\n",
       " True,\n",
       " True,\n",
       " True,\n",
       " True,\n",
       " True,\n",
       " True,\n",
       " True,\n",
       " True,\n",
       " True,\n",
       " True,\n",
       " True,\n",
       " True]"
      ]
     },
     "execution_count": 26,
     "metadata": {},
     "output_type": "execute_result"
    }
   ],
   "source": [
    "# 项目钱数相关缓存\n",
    "\n",
    "sql ='select projectID from project'\n",
    "projectList = []\n",
    "for i in db.query(sql):\n",
    "    projectList.append(i[\"projectID\"])\n",
    "sql2 = 'select contractMoney from contract where projectID = %s'\n",
    "\n",
    "pipe = r.pipeline(transaction=True)\n",
    "for projectID in projectList:\n",
    "    contractSum = 0\n",
    "    for contract in db.query(sql2, projectID):\n",
    "        contractSum += contract[\"contractMoney\"]\n",
    "#     print(contractSum, projectID)\n",
    "    key = 'Project:'+str(projectID)+':Contract:Sum'\n",
    "    \n",
    "    pipe.set(key, contractSum)\n",
    "pipe.execute()"
   ]
  },
  {
   "cell_type": "code",
   "execution_count": 27,
   "metadata": {},
   "outputs": [
    {
     "data": {
      "text/plain": [
       "'0'"
      ]
     },
     "execution_count": 27,
     "metadata": {},
     "output_type": "execute_result"
    }
   ],
   "source": [
    "r.get(\"Project:3:Contract:Sum\")"
   ]
  },
  {
   "cell_type": "code",
   "execution_count": 28,
   "metadata": {},
   "outputs": [
    {
     "data": {
      "text/plain": [
       "[True,\n",
       " True,\n",
       " True,\n",
       " True,\n",
       " True,\n",
       " True,\n",
       " True,\n",
       " True,\n",
       " True,\n",
       " True,\n",
       " True,\n",
       " True,\n",
       " True,\n",
       " True,\n",
       " True,\n",
       " True,\n",
       " True,\n",
       " True,\n",
       " True,\n",
       " True,\n",
       " True,\n",
       " True,\n",
       " True,\n",
       " True,\n",
       " True,\n",
       " True,\n",
       " True,\n",
       " True,\n",
       " True,\n",
       " True,\n",
       " True,\n",
       " True,\n",
       " True,\n",
       " True,\n",
       " True,\n",
       " True,\n",
       " True,\n",
       " True,\n",
       " True,\n",
       " True,\n",
       " True,\n",
       " True,\n",
       " True,\n",
       " True,\n",
       " True,\n",
       " True,\n",
       " True,\n",
       " True,\n",
       " True,\n",
       " True,\n",
       " True,\n",
       " True,\n",
       " True,\n",
       " True,\n",
       " True,\n",
       " True,\n",
       " True,\n",
       " True,\n",
       " True,\n",
       " True,\n",
       " True,\n",
       " True,\n",
       " True,\n",
       " True,\n",
       " True,\n",
       " True,\n",
       " True,\n",
       " True,\n",
       " True,\n",
       " True,\n",
       " True,\n",
       " True,\n",
       " True,\n",
       " True,\n",
       " True,\n",
       " True,\n",
       " True,\n",
       " True,\n",
       " True,\n",
       " True,\n",
       " True,\n",
       " True,\n",
       " True,\n",
       " True,\n",
       " True,\n",
       " True,\n",
       " True,\n",
       " True,\n",
       " True,\n",
       " True,\n",
       " True,\n",
       " True,\n",
       " True,\n",
       " True,\n",
       " True,\n",
       " True,\n",
       " True,\n",
       " True,\n",
       " True,\n",
       " True,\n",
       " True,\n",
       " True,\n",
       " True,\n",
       " True,\n",
       " True,\n",
       " True,\n",
       " True,\n",
       " True,\n",
       " True,\n",
       " True,\n",
       " True,\n",
       " True,\n",
       " True,\n",
       " True,\n",
       " True,\n",
       " True,\n",
       " True,\n",
       " True,\n",
       " True,\n",
       " True,\n",
       " True,\n",
       " True,\n",
       " True,\n",
       " True,\n",
       " True,\n",
       " True,\n",
       " True,\n",
       " True,\n",
       " True,\n",
       " True,\n",
       " True,\n",
       " True,\n",
       " True,\n",
       " True,\n",
       " True,\n",
       " True,\n",
       " True,\n",
       " True,\n",
       " True,\n",
       " True]"
      ]
     },
     "execution_count": 28,
     "metadata": {},
     "output_type": "execute_result"
    }
   ],
   "source": [
    "# 项目钱数相关缓存\n",
    "\n",
    "sql ='select contractID, contractMoney from contract'\n",
    "contractList = []\n",
    "pipe = r.pipeline(transaction=True)\n",
    "for i in db.query(sql):\n",
    "    contractList.append(i[\"contractID\"])\n",
    "    pipe.set( 'Contract:ID:'+str(i[\"contractID\"])+\":AllMoney\", i[\"contractMoney\"])\n",
    "#     print(i[\"contractMoney\"])\n",
    "pipe.execute()\n",
    "\n",
    "# contractMoneyList = []\n",
    "sql = 'select sum(financeMoney) as financeMoney from finance where contractID = %s and financeStatus=1 GROUP  BY contractID'\n",
    "sql2 = 'select sum(financeMoney) as financeMoney  from finance where contractID = %s and financeStatus=0 GROUP  BY contractID'\n",
    "\n",
    "\n",
    "pipe = r.pipeline(transaction=True)\n",
    "for i in contractList:\n",
    "#     db.query(sql, i[\"contractID\"])\n",
    "    SumPay = db.query(sql, i)\n",
    "    FinUnPay = db.query(sql2, i)\n",
    "    \n",
    "    if SumPay:\n",
    "        pipe.set(\"Contract:ID:\"+str(i)+\":SumPay\",  SumPay[0]['financeMoney'])\n",
    "        pipe.set(\"Contract:ID:\"+str(i)+\":UnPay\", int(r.get( \"Contract:ID:\"+str(i)+\":AllMoney\")) - int(SumPay[0]['financeMoney']))\n",
    "    else:\n",
    "        pipe.set(\"Contract:ID:\"+str(i)+\":SumPay\",  0)\n",
    "        pipe.set(\"Contract:ID:\"+str(i)+\":UnPay\", r.get( \"Contract:ID:\"+str(i)+\":AllMoney\"))\n",
    "    if FinUnPay:\n",
    "        pipe.set(\"Contract:ID:\"+str(i)+\":FinUnPay\", FinUnPay[0]['financeMoney'])\n",
    "    else:\n",
    "        pipe.set(\"Contract:ID:\"+str(i)+\":FinUnPay\", 0)\n",
    "    if SumPay and FinUnPay:\n",
    "        pipe.set(\"Contract:ID:\"+str(i)+\":Extra\", int(r.get( 'Contract:ID:'+str(i)+\":AllMoney\")) - int(SumPay[0]['financeMoney'] )- int(FinUnPay[0]['financeMoney']))\n",
    "    else:\n",
    "        pipe.set(\"Contract:ID:\"+str(i)+\":Extra\", r.get( 'Contract:ID:'+str(i)+\":AllMoney\"))\n",
    "\n",
    "\n",
    "pipe.execute()"
   ]
  },
  {
   "cell_type": "code",
   "execution_count": 29,
   "metadata": {},
   "outputs": [
    {
     "ename": "KeyboardInterrupt",
     "evalue": "",
     "output_type": "error",
     "traceback": [
      "\u001b[0;31m---------------------------------------------------------------------------\u001b[0m",
      "\u001b[0;31mKeyboardInterrupt\u001b[0m                         Traceback (most recent call last)",
      "\u001b[0;32m~/anaconda3/lib/python3.6/site-packages/ipykernel/kernelbase.py\u001b[0m in \u001b[0;36m_input_request\u001b[0;34m(self, prompt, ident, parent, password)\u001b[0m\n\u001b[1;32m    728\u001b[0m             \u001b[0;32mtry\u001b[0m\u001b[0;34m:\u001b[0m\u001b[0;34m\u001b[0m\u001b[0m\n\u001b[0;32m--> 729\u001b[0;31m                 \u001b[0mident\u001b[0m\u001b[0;34m,\u001b[0m \u001b[0mreply\u001b[0m \u001b[0;34m=\u001b[0m \u001b[0mself\u001b[0m\u001b[0;34m.\u001b[0m\u001b[0msession\u001b[0m\u001b[0;34m.\u001b[0m\u001b[0mrecv\u001b[0m\u001b[0;34m(\u001b[0m\u001b[0mself\u001b[0m\u001b[0;34m.\u001b[0m\u001b[0mstdin_socket\u001b[0m\u001b[0;34m,\u001b[0m \u001b[0;36m0\u001b[0m\u001b[0;34m)\u001b[0m\u001b[0;34m\u001b[0m\u001b[0m\n\u001b[0m\u001b[1;32m    730\u001b[0m             \u001b[0;32mexcept\u001b[0m \u001b[0mException\u001b[0m\u001b[0;34m:\u001b[0m\u001b[0;34m\u001b[0m\u001b[0m\n",
      "\u001b[0;32m~/anaconda3/lib/python3.6/site-packages/jupyter_client/session.py\u001b[0m in \u001b[0;36mrecv\u001b[0;34m(self, socket, mode, content, copy)\u001b[0m\n\u001b[1;32m    802\u001b[0m         \u001b[0;32mtry\u001b[0m\u001b[0;34m:\u001b[0m\u001b[0;34m\u001b[0m\u001b[0m\n\u001b[0;32m--> 803\u001b[0;31m             \u001b[0mmsg_list\u001b[0m \u001b[0;34m=\u001b[0m \u001b[0msocket\u001b[0m\u001b[0;34m.\u001b[0m\u001b[0mrecv_multipart\u001b[0m\u001b[0;34m(\u001b[0m\u001b[0mmode\u001b[0m\u001b[0;34m,\u001b[0m \u001b[0mcopy\u001b[0m\u001b[0;34m=\u001b[0m\u001b[0mcopy\u001b[0m\u001b[0;34m)\u001b[0m\u001b[0;34m\u001b[0m\u001b[0m\n\u001b[0m\u001b[1;32m    804\u001b[0m         \u001b[0;32mexcept\u001b[0m \u001b[0mzmq\u001b[0m\u001b[0;34m.\u001b[0m\u001b[0mZMQError\u001b[0m \u001b[0;32mas\u001b[0m \u001b[0me\u001b[0m\u001b[0;34m:\u001b[0m\u001b[0;34m\u001b[0m\u001b[0m\n",
      "\u001b[0;32m~/anaconda3/lib/python3.6/site-packages/zmq/sugar/socket.py\u001b[0m in \u001b[0;36mrecv_multipart\u001b[0;34m(self, flags, copy, track)\u001b[0m\n\u001b[1;32m    465\u001b[0m         \"\"\"\n\u001b[0;32m--> 466\u001b[0;31m         \u001b[0mparts\u001b[0m \u001b[0;34m=\u001b[0m \u001b[0;34m[\u001b[0m\u001b[0mself\u001b[0m\u001b[0;34m.\u001b[0m\u001b[0mrecv\u001b[0m\u001b[0;34m(\u001b[0m\u001b[0mflags\u001b[0m\u001b[0;34m,\u001b[0m \u001b[0mcopy\u001b[0m\u001b[0;34m=\u001b[0m\u001b[0mcopy\u001b[0m\u001b[0;34m,\u001b[0m \u001b[0mtrack\u001b[0m\u001b[0;34m=\u001b[0m\u001b[0mtrack\u001b[0m\u001b[0;34m)\u001b[0m\u001b[0;34m]\u001b[0m\u001b[0;34m\u001b[0m\u001b[0m\n\u001b[0m\u001b[1;32m    467\u001b[0m         \u001b[0;31m# have first part already, only loop while more to receive\u001b[0m\u001b[0;34m\u001b[0m\u001b[0;34m\u001b[0m\u001b[0m\n",
      "\u001b[0;32mzmq/backend/cython/socket.pyx\u001b[0m in \u001b[0;36mzmq.backend.cython.socket.Socket.recv\u001b[0;34m()\u001b[0m\n",
      "\u001b[0;32mzmq/backend/cython/socket.pyx\u001b[0m in \u001b[0;36mzmq.backend.cython.socket.Socket.recv\u001b[0;34m()\u001b[0m\n",
      "\u001b[0;32mzmq/backend/cython/socket.pyx\u001b[0m in \u001b[0;36mzmq.backend.cython.socket._recv_copy\u001b[0;34m()\u001b[0m\n",
      "\u001b[0;32m~/anaconda3/lib/python3.6/site-packages/zmq/backend/cython/checkrc.pxd\u001b[0m in \u001b[0;36mzmq.backend.cython.checkrc._check_rc\u001b[0;34m()\u001b[0m\n",
      "\u001b[0;31mKeyboardInterrupt\u001b[0m: ",
      "\nDuring handling of the above exception, another exception occurred:\n",
      "\u001b[0;31mKeyboardInterrupt\u001b[0m                         Traceback (most recent call last)",
      "\u001b[0;32m<ipython-input-29-dec03b38d134>\u001b[0m in \u001b[0;36m<module>\u001b[0;34m()\u001b[0m\n\u001b[0;32m----> 1\u001b[0;31m \u001b[0mprint\u001b[0m\u001b[0;34m(\u001b[0m\u001b[0mtype\u001b[0m\u001b[0;34m(\u001b[0m\u001b[0minput\u001b[0m\u001b[0;34m(\u001b[0m\u001b[0;34m\"请输入\"\u001b[0m\u001b[0;34m)\u001b[0m\u001b[0;34m)\u001b[0m\u001b[0;34m)\u001b[0m\u001b[0;34m\u001b[0m\u001b[0m\n\u001b[0m",
      "\u001b[0;32m~/anaconda3/lib/python3.6/site-packages/ipykernel/kernelbase.py\u001b[0m in \u001b[0;36mraw_input\u001b[0;34m(self, prompt)\u001b[0m\n\u001b[1;32m    702\u001b[0m             \u001b[0mself\u001b[0m\u001b[0;34m.\u001b[0m\u001b[0m_parent_ident\u001b[0m\u001b[0;34m,\u001b[0m\u001b[0;34m\u001b[0m\u001b[0m\n\u001b[1;32m    703\u001b[0m             \u001b[0mself\u001b[0m\u001b[0;34m.\u001b[0m\u001b[0m_parent_header\u001b[0m\u001b[0;34m,\u001b[0m\u001b[0;34m\u001b[0m\u001b[0m\n\u001b[0;32m--> 704\u001b[0;31m             \u001b[0mpassword\u001b[0m\u001b[0;34m=\u001b[0m\u001b[0;32mFalse\u001b[0m\u001b[0;34m,\u001b[0m\u001b[0;34m\u001b[0m\u001b[0m\n\u001b[0m\u001b[1;32m    705\u001b[0m         )\n\u001b[1;32m    706\u001b[0m \u001b[0;34m\u001b[0m\u001b[0m\n",
      "\u001b[0;32m~/anaconda3/lib/python3.6/site-packages/ipykernel/kernelbase.py\u001b[0m in \u001b[0;36m_input_request\u001b[0;34m(self, prompt, ident, parent, password)\u001b[0m\n\u001b[1;32m    732\u001b[0m             \u001b[0;32mexcept\u001b[0m \u001b[0mKeyboardInterrupt\u001b[0m\u001b[0;34m:\u001b[0m\u001b[0;34m\u001b[0m\u001b[0m\n\u001b[1;32m    733\u001b[0m                 \u001b[0;31m# re-raise KeyboardInterrupt, to truncate traceback\u001b[0m\u001b[0;34m\u001b[0m\u001b[0;34m\u001b[0m\u001b[0m\n\u001b[0;32m--> 734\u001b[0;31m                 \u001b[0;32mraise\u001b[0m \u001b[0mKeyboardInterrupt\u001b[0m\u001b[0;34m\u001b[0m\u001b[0m\n\u001b[0m\u001b[1;32m    735\u001b[0m             \u001b[0;32melse\u001b[0m\u001b[0;34m:\u001b[0m\u001b[0;34m\u001b[0m\u001b[0m\n\u001b[1;32m    736\u001b[0m                 \u001b[0;32mbreak\u001b[0m\u001b[0;34m\u001b[0m\u001b[0m\n",
      "\u001b[0;31mKeyboardInterrupt\u001b[0m: "
     ]
    }
   ],
   "source": [
    "print(type(input(\"请输入\")))"
   ]
  },
  {
   "cell_type": "code",
   "execution_count": 30,
   "metadata": {},
   "outputs": [
    {
     "data": {
      "text/plain": [
       "[True, True, True, True, True, True, True, True, True]"
      ]
     },
     "execution_count": 30,
     "metadata": {},
     "output_type": "execute_result"
    }
   ],
   "source": [
    "# 设置用户信息缓存\n",
    "\n",
    "sql = 'select * from user '\n",
    "pipe = r.pipeline(transaction=True)\n",
    "\n",
    "\n",
    "for i in db.query(sql):\n",
    "    key = \"User:ID:\"+str(i[\"userID\"])\n",
    "    value = json.dumps(i)\n",
    "    pipe.set(key, value)\n",
    "pipe.execute()"
   ]
  },
  {
   "cell_type": "code",
   "execution_count": 36,
   "metadata": {},
   "outputs": [
    {
     "data": {
      "text/plain": [
       "[1,\n",
       " 1,\n",
       " 1,\n",
       " 1,\n",
       " 1,\n",
       " 1,\n",
       " 1,\n",
       " 1,\n",
       " 1,\n",
       " 1,\n",
       " 1,\n",
       " 1,\n",
       " 1,\n",
       " 1,\n",
       " 1,\n",
       " 1,\n",
       " 1,\n",
       " 1,\n",
       " 1,\n",
       " 1,\n",
       " 1,\n",
       " 1,\n",
       " 1,\n",
       " 1,\n",
       " 1,\n",
       " 1,\n",
       " 1,\n",
       " 1,\n",
       " 1,\n",
       " 1,\n",
       " 1,\n",
       " 1,\n",
       " 1,\n",
       " 1,\n",
       " 1,\n",
       " 1,\n",
       " 1,\n",
       " 1,\n",
       " 1,\n",
       " 1,\n",
       " 1,\n",
       " 1,\n",
       " 1,\n",
       " 1,\n",
       " 1,\n",
       " 1,\n",
       " 1,\n",
       " 1,\n",
       " 1,\n",
       " 1,\n",
       " 1,\n",
       " 1,\n",
       " 1,\n",
       " 1,\n",
       " 1,\n",
       " 1,\n",
       " 1,\n",
       " 1,\n",
       " 1,\n",
       " 1,\n",
       " 1,\n",
       " 1,\n",
       " 1,\n",
       " 1,\n",
       " 1,\n",
       " 1,\n",
       " 1,\n",
       " 1,\n",
       " 1,\n",
       " 1,\n",
       " 1,\n",
       " 1,\n",
       " 1,\n",
       " 1,\n",
       " 1,\n",
       " 1,\n",
       " 1,\n",
       " 1,\n",
       " 1,\n",
       " 1,\n",
       " 1,\n",
       " 1,\n",
       " 1,\n",
       " 1,\n",
       " 1,\n",
       " 1,\n",
       " 1,\n",
       " 1,\n",
       " 1,\n",
       " 1,\n",
       " 1,\n",
       " 1,\n",
       " 1,\n",
       " 1,\n",
       " 1,\n",
       " 1,\n",
       " 1,\n",
       " 1,\n",
       " 1,\n",
       " 1,\n",
       " 1,\n",
       " 1,\n",
       " 1]"
      ]
     },
     "execution_count": 36,
     "metadata": {},
     "output_type": "execute_result"
    }
   ],
   "source": [
    "# 设置权限缓存\n",
    "sql = \" select * from permission\"\n",
    "pipe = r.pipeline(transaction=True)\n",
    "for i in db.query(sql):\n",
    "    pipe.sadd(\"Permission\", i[\"url\"]+\":\"+str(i[\"level\"]))\n",
    "pipe.execute()"
   ]
  },
  {
   "cell_type": "code",
   "execution_count": 32,
   "metadata": {
    "scrolled": true
   },
   "outputs": [
    {
     "data": {
      "text/plain": [
       "'{\"name\": \"金审平台\", \"size\": \"18000\", \"children\": [{\"name\": \"qiang\", \"userID\": \"1\", \"size\": \"8000\", \"children\": [{\"name\": \"ada\", \"size\": \"22\", \"projectID\": \"81\", \"children\": []}, {\"name\": \"44\", \"size\": \"122\", \"projectID\": \"71\", \"children\": []}, {\"name\": \"45唯一性测试\", \"size\": \"1112\", \"projectID\": \"79\", \"children\": []}, {\"name\": \"项目名称4\", \"size\": \"10000\", \"projectID\": \"4\", \"children\": [{\"name\": \"合同名称25\", \"size\": \"10000\", \"contractID\": \"278\", \"children\": []}, {\"name\": \"合同名称29\", \"size\": \"10000\", \"contractID\": \"282\", \"children\": []}]}, {\"name\": \"dada\", \"size\": \"9000\", \"projectID\": \"86\", \"children\": []}, {\"name\": \"45\", \"size\": \"111\", \"projectID\": \"72\", \"children\": []}]}, {\"name\": \"tong\", \"userID\": \"2\", \"size\": \"8000\", \"children\": [{\"name\": \"测试test1\", \"size\": \"400\", \"projectID\": \"87\", \"children\": [{\"name\": \"测试test1合同2\", \"size\": \"10000\", \"contractID\": \"299\", \"children\": []}, {\"name\": \"测试test1合同1\", \"size\": \"10000\", \"contractID\": \"298\", \"children\": [{\"name\": \"测试1合同1财务1\", \"size\": \"60\"}]}]}, {\"name\": \"项目名称2\", \"size\": \"10000\", \"projectID\": \"2\", \"children\": [{\"name\": \"合同名称20\", \"size\": \"10000\", \"contractID\": \"273\", \"children\": []}, {\"name\": \"合同名称21\", \"size\": \"10000\", \"contractID\": \"274\", \"children\": []}, {\"name\": \"合同名称22\", \"size\": \"10000\", \"contractID\": \"275\", \"children\": []}, {\"name\": \"合同名称23\", \"size\": \"10000\", \"contractID\": \"276\", \"children\": []}, {\"name\": \"合同名称24\", \"size\": \"10000\", \"contractID\": \"277\", \"children\": []}, {\"name\": \"合同名称26\", \"size\": \"10000\", \"contractID\": \"279\", \"children\": []}, {\"name\": \"合同名称27\", \"size\": \"10000\", \"contractID\": \"280\", \"children\": []}, {\"name\": \"合同名称28\", \"size\": \"10000\", \"contractID\": \"281\", \"children\": []}, {\"name\": \"合同名称19\", \"size\": \"10000\", \"contractID\": \"272\", \"children\": []}, {\"name\": \"合同名称18\", \"size\": \"10000\", \"contractID\": \"271\", \"children\": []}, {\"name\": \"合同名称17\", \"size\": \"10000\", \"contractID\": \"270\", \"children\": [{\"name\": \"测试1合同1财务1\", \"size\": \"80\"}]}, {\"name\": \"合同名称16\", \"size\": \"10000\", \"contractID\": \"269\", \"children\": []}, {\"name\": \"合同名称15\", \"size\": \"10000\", \"contractID\": \"268\", \"children\": []}, {\"name\": \"合同名称14\", \"size\": \"10000\", \"contractID\": \"267\", \"children\": []}]}, {\"name\": \"测试2018-8-6\", \"size\": \"100000\", \"projectID\": \"109\", \"children\": [{\"name\": \"测试合同2-2018-8-6\", \"size\": \"10000\", \"contractID\": \"304\", \"children\": []}, {\"name\": \"测试合同2018-8-6\", \"size\": \"10000\", \"contractID\": \"303\", \"children\": [{\"name\": \"测试3\", \"size\": \"2000\"}, {\"name\": \"测试2\", \"size\": \"1500\"}, {\"name\": \"测试\", \"size\": \"1000\"}]}]}, {\"name\": \"111111\", \"size\": \"1111111111\", \"projectID\": \"10\", \"children\": []}, {\"name\": \"项目名称1\", \"size\": \"10000\", \"projectID\": \"1\", \"children\": [{\"name\": \"合同名称7\", \"size\": \"10000\", \"contractID\": \"240\", \"children\": [{\"name\": \"fiance2\", \"size\": \"20000\"}]}, {\"name\": \"合同名称6\", \"size\": \"10000\", \"contractID\": \"239\", \"children\": []}, {\"name\": \"合同名称5\", \"size\": \"10000\", \"contractID\": \"238\", \"children\": []}, {\"name\": \"合同名称3\", \"size\": \"10000\", \"contractID\": \"237\", \"children\": [{\"name\": \"aa\", \"size\": \"7777\"}]}, {\"name\": \"合同名称1\", \"size\": \"10000\", \"contractID\": \"236\", \"children\": [{\"name\": \"\", \"size\": \"0\"}, {\"name\": \"okokojbk\", \"size\": \"1000\"}, {\"name\": \"11\", \"size\": \"11\"}, {\"name\": \"11\", \"size\": \"11\"}, {\"name\": \"11\", \"size\": \"11\"}, {\"name\": \"大家到司机哦\", \"size\": \"2000\"}, {\"name\": \"大家到司机哦\", \"size\": \"2000\"}, {\"name\": \"fiance1\", \"size\": \"10000\"}, {\"name\": \"fiance1\", \"size\": \"10000\"}]}, {\"name\": \"合同名称30\", \"size\": \"10000\", \"contractID\": \"296\", \"children\": []}, {\"name\": \"合同名称8\", \"size\": \"10000\", \"contractID\": \"241\", \"children\": [{\"name\": \"fiance3\", \"size\": \"30000\"}]}, {\"name\": \"合同名称9\", \"size\": \"10000\", \"contractID\": \"242\", \"children\": [{\"name\": \"fiance4\", \"size\": \"40000\"}]}, {\"name\": \"合同名称11\", \"size\": \"10000\", \"contractID\": \"263\", \"children\": []}, {\"name\": \"合同名称12\", \"size\": \"10000\", \"contractID\": \"264\", \"children\": []}, {\"name\": \"合同名称13\", \"size\": \"10000\", \"contractID\": \"265\", \"children\": []}, {\"name\": \"合同名称31\", \"size\": \"10000\", \"contractID\": \"266\", \"children\": []}, {\"name\": \"合同名称10\", \"size\": \"10000\", \"contractID\": \"235\", \"children\": []}]}, {\"name\": \"gg\", \"size\": \"11\", \"projectID\": \"108\", \"children\": []}, {\"name\": \"项目名称3\", \"size\": \"10000\", \"projectID\": \"3\", \"children\": []}]}, {\"name\": \"wan\", \"userID\": \"3\", \"size\": \"8000\", \"children\": []}, {\"name\": \"peng\", \"userID\": \"4\", \"size\": \"8000\", \"children\": []}, {\"name\": \"项目负责人1\", \"userID\": \"5\", \"size\": \"8000\", \"children\": [{\"name\": \"测试负责人1访问范围\", \"size\": \"0\", \"projectID\": \"88\", \"children\": [{\"name\": \"负责人1项目1合同2\", \"size\": \"10000\", \"contractID\": \"302\", \"children\": [{\"name\": \"ddada\", \"size\": \"4000\"}, {\"name\": \"ddada\", \"size\": \"3000\"}]}, {\"name\": \"负责人1项目1合同1\", \"size\": \"10000\", \"contractID\": \"301\", \"children\": [{\"name\": \"ddada\", \"size\": \"2000\"}, {\"name\": \"ddada\", \"size\": \"1000\"}]}]}]}, {\"name\": \"项目负责人2\", \"userID\": \"6\", \"size\": \"8000\", \"children\": []}, {\"name\": \"项目负责人3\", \"userID\": \"7\", \"size\": \"8000\", \"children\": []}, {\"name\": \"决策领导\", \"userID\": \"8\", \"size\": \"8000\", \"children\": []}, {\"name\": \"大领导\", \"userID\": \"9\", \"size\": \"8000\", \"children\": []}]}'"
      ]
     },
     "execution_count": 32,
     "metadata": {},
     "output_type": "execute_result"
    }
   ],
   "source": [
    "import pandas as pd\n",
    "from pandas import Series,DataFrame\n",
    "\n",
    "sql = 'select username, userID from user'\n",
    "userFrame = DataFrame(db.query(sql))\n",
    "sql = 'select projectID, projectName as name, IFNULL(projectBudgetSum,9000)  as size, IFNULL(projectChargerID,0)  as projectChargerID, username from project inner join user on projectChargerID = userID order by projectChargerID desc'\n",
    "projectFrame = DataFrame(db.query(sql))\n",
    "sql ='select contractID, contractName as name, 10000 as size, projectID FROM contract order by projectID desc'\n",
    "contractFrame = DataFrame(db.query(sql))\n",
    "sql ='select financeID, financeName as name, financeMoney as size, contractID FROM finance order by financeID desc'\n",
    "financeFrame = DataFrame(db.query(sql))\n",
    "contractFrame\n",
    "    \n",
    "resultDict = {}\n",
    "resultDict[\"name\"] = '金审平台'\n",
    "resultDict[\"size\"] = str(18000)\n",
    "resultDict[\"children\"]=[]\n",
    "\n",
    "for indexs in userFrame.index:\n",
    "    userNode = {}\n",
    "    userNode[\"name\"] = str(userFrame.loc[indexs].values[1])\n",
    "    userNode[\"userID\"] = str(userFrame.loc[indexs].values[0])\n",
    "    userNode[\"size\"] = str(8000)\n",
    "    userNode[\"children\"] = []\n",
    "\n",
    "    for indexs in projectFrame[projectFrame[\"projectChargerID\"] == int(userNode[\"userID\"])].index:\n",
    "        projectNode = {}\n",
    "        projectNode[\"name\"] = str(projectFrame.loc[indexs].values[0]) \n",
    "        projectNode[\"size\"] = str(projectFrame.loc[indexs].values[3])\n",
    "        projectNode[\"projectID\"] = str(projectFrame.loc[indexs].values[2])\n",
    "        projectNode[\"children\"] = []\n",
    "\n",
    "        for indexs in contractFrame[contractFrame[\"projectID\"] == int(projectNode[\"projectID\"])].index:\n",
    "            contractNode ={}\n",
    "            contractNode[\"name\"] =  str(contractFrame.loc[indexs].values[1])\n",
    "            contractNode[\"size\"] = str(contractFrame.loc[indexs].values[3])\n",
    "            contractNode[\"contractID\"] = str(contractFrame.loc[indexs].values[0])\n",
    "            contractNode[\"children\"] = []\n",
    "\n",
    "            for indexs in financeFrame[financeFrame[\"contractID\"] == int(contractNode[\"contractID\"])].index:\n",
    "                financeNode = {}\n",
    "                financeNode[\"name\"] =  str(financeFrame.loc[indexs].values[2])\n",
    "                financeNode[\"size\"] = str(financeFrame.loc[indexs].values[3])\n",
    "    #             financeNode[\"children\"] = []\n",
    "\n",
    "                contractNode[\"children\"].append(financeNode)\n",
    "            projectNode[\"children\"].append(contractNode)\n",
    "        userNode[\"children\"].append(projectNode)\n",
    "    resultDict[\"children\"].append(userNode)\n",
    "json.dumps(resultDict, ensure_ascii=False)\n",
    "\n",
    "\n",
    " "
   ]
  },
  {
   "cell_type": "code",
   "execution_count": 37,
   "metadata": {},
   "outputs": [
    {
     "ename": "TypeError",
     "evalue": "sismember() missing 1 required positional argument: 'value'",
     "output_type": "error",
     "traceback": [
      "\u001b[0;31m---------------------------------------------------------------------------\u001b[0m",
      "\u001b[0;31mTypeError\u001b[0m                                 Traceback (most recent call last)",
      "\u001b[0;32m<ipython-input-37-0deea564ebb8>\u001b[0m in \u001b[0;36m<module>\u001b[0;34m()\u001b[0m\n\u001b[0;32m----> 1\u001b[0;31m \u001b[0mr\u001b[0m\u001b[0;34m.\u001b[0m\u001b[0msismember\u001b[0m\u001b[0;34m(\u001b[0m\u001b[0;34m'/getContractList:3'\u001b[0m\u001b[0;34m)\u001b[0m\u001b[0;34m\u001b[0m\u001b[0m\n\u001b[0m",
      "\u001b[0;31mTypeError\u001b[0m: sismember() missing 1 required positional argument: 'value'"
     ]
    }
   ],
   "source": [
    "r.sismember('/getContractList:3')"
   ]
  },
  {
   "cell_type": "code",
   "execution_count": null,
   "metadata": {},
   "outputs": [],
   "source": [
    "|"
   ]
  }
 ],
 "metadata": {
  "kernelspec": {
   "display_name": "Python 3",
   "language": "python",
   "name": "python3"
  },
  "language_info": {
   "codemirror_mode": {
    "name": "ipython",
    "version": 3
   },
   "file_extension": ".py",
   "mimetype": "text/x-python",
   "name": "python",
   "nbconvert_exporter": "python",
   "pygments_lexer": "ipython3",
   "version": "3.6.6"
  }
 },
 "nbformat": 4,
 "nbformat_minor": 2
}
