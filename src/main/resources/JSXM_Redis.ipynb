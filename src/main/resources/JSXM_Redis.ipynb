{
 "cells": [
  {
   "cell_type": "code",
   "execution_count": 4,
   "metadata": {},
   "outputs": [],
   "source": [
    "import redis\n",
    "import torndb\n",
    "import json\n",
    "import random\n",
    "\n",
    "\n",
    "def date_handler(obj):\n",
    "    if hasattr(obj, 'isoformat'):\n",
    "        return obj.isoformat()\n",
    "    else:\n",
    "        raise TypeError\n",
    "\n",
    "pool = redis.ConnectionPool(host='192.168.55.121', port=6379, password='foobar', decode_responses=True)\n",
    "# pool = redis.ConnectionPool(host='123.206.254.42', port=6379, password='#q0AakIO8u*MIG*e', decode_responses=True)\n",
    "\n",
    "\n",
    "db = torndb.Connection(\"123.206.254.42:3306\", \"jinshenxiangmu\",\n",
    "                       user=\"tong\", password=\"DeepDarkM\")\n",
    "# torndb.pytorndb.py\n",
    "r = redis.Redis(connection_pool=pool)\n",
    "\n",
    "\n"
   ]
  },
  {
   "cell_type": "code",
   "execution_count": 3,
   "metadata": {},
   "outputs": [
    {
     "name": "stdout",
     "output_type": "stream",
     "text": [
      "Project:ID:1{\"userID\": 2, \"projectID\": 1, \"projectSerial\": \"\\u9879\\u76ee\\u7f16\\u53f71\", \"projectName\": \"\\u9879\\u76ee\\u540d\\u79f01\", \"projectBudgetSum\": 10000, \"projectStartTime\": \"2018-07-18\", \"projectEndTime\": \"2018-08-18\", \"projectStatus\": 2, \"projectComment\": \"\\u5907\\u6ce8111111111111\", \"projectDelete\": 0, \"budgetID\": 1, \"username\": \"tong\", \"departmentName\": \"\\u90e8\\u95e81\", \"projectDepartmentID\": \"1\"}\n",
      "Project:ID:2{\"userID\": 2, \"projectID\": 2, \"projectSerial\": \"\\u9879\\u76ee\\u7f16\\u53f72\", \"projectName\": \"\\u9879\\u76ee\\u540d\\u79f02\", \"projectBudgetSum\": 10000, \"projectStartTime\": \"2018-07-17\", \"projectEndTime\": \"2018-08-17\", \"projectStatus\": 2, \"projectComment\": \"\\u5907\\u6ce8222222222222\", \"projectDelete\": 0, \"budgetID\": 1, \"username\": \"tong\", \"departmentName\": \"\\u90e8\\u95e81\", \"projectDepartmentID\": \"1\"}\n",
      "Project:ID:3{\"userID\": 2, \"projectID\": 3, \"projectSerial\": \"\\u9879\\u76ee\\u7f16\\u53f73\", \"projectName\": \"\\u9879\\u76ee\\u540d\\u79f03\", \"projectBudgetSum\": 10000, \"projectStartTime\": \"2018-07-16\", \"projectEndTime\": \"2018-08-16\", \"projectStatus\": 1, \"projectComment\": \"\\u5907\\u6ce81\", \"projectDelete\": 0, \"budgetID\": 2, \"username\": \"tong\", \"departmentName\": \"\\u90e8\\u95e81\", \"projectDepartmentID\": \"1\"}\n",
      "Project:ID:4{\"userID\": 1, \"projectID\": 4, \"projectSerial\": \"\\u9879\\u76ee\\u7f16\\u53f74\", \"projectName\": \"\\u9879\\u76ee\\u540d\\u79f04\", \"projectBudgetSum\": 10000, \"projectStartTime\": \"2018-07-25\", \"projectEndTime\": \"2018-07-25\", \"projectStatus\": 1, \"projectComment\": \"\\u5907\\u6ce82\", \"projectDelete\": 0, \"budgetID\": 2, \"username\": \"qiang\", \"departmentName\": \"\\u90e8\\u95e82\", \"projectDepartmentID\": \"2\"}\n",
      "Project:ID:5{\"userID\": null, \"projectID\": 5, \"projectSerial\": \"\\u9879\\u76ee\\u7f16\\u53f75\", \"projectName\": null, \"projectBudgetSum\": null, \"projectStartTime\": null, \"projectEndTime\": null, \"projectStatus\": null, \"projectComment\": \"\", \"projectDelete\": 1, \"budgetID\": null, \"username\": null, \"departmentName\": null, \"projectDepartmentID\": null}\n",
      "Project:ID:6{\"userID\": null, \"projectID\": 6, \"projectSerial\": \"\\u9879\\u76ee\\u7f16\\u53f76\", \"projectName\": null, \"projectBudgetSum\": null, \"projectStartTime\": null, \"projectEndTime\": null, \"projectStatus\": null, \"projectComment\": \"\", \"projectDelete\": 0, \"budgetID\": null, \"username\": null, \"departmentName\": null, \"projectDepartmentID\": null}\n",
      "Project:ID:7{\"userID\": null, \"projectID\": 7, \"projectSerial\": \"\\u9879\\u76ee\\u7f16\\u53f77\", \"projectName\": null, \"projectBudgetSum\": null, \"projectStartTime\": null, \"projectEndTime\": null, \"projectStatus\": null, \"projectComment\": \"\", \"projectDelete\": 0, \"budgetID\": null, \"username\": null, \"departmentName\": null, \"projectDepartmentID\": null}\n",
      "Project:ID:8{\"userID\": null, \"projectID\": 8, \"projectSerial\": \"\\u9879\\u76ee\\u7f16\\u53f78\", \"projectName\": null, \"projectBudgetSum\": null, \"projectStartTime\": null, \"projectEndTime\": null, \"projectStatus\": null, \"projectComment\": \"\", \"projectDelete\": 1, \"budgetID\": null, \"username\": null, \"departmentName\": null, \"projectDepartmentID\": null}\n",
      "Project:ID:9{\"userID\": null, \"projectID\": 9, \"projectSerial\": \"\\u9879\\u76ee\\u7f16\\u53f79\", \"projectName\": null, \"projectBudgetSum\": null, \"projectStartTime\": null, \"projectEndTime\": null, \"projectStatus\": null, \"projectComment\": \"\", \"projectDelete\": 1, \"budgetID\": null, \"username\": null, \"departmentName\": null, \"projectDepartmentID\": null}\n",
      "Project:ID:10{\"userID\": null, \"projectID\": 10, \"projectSerial\": \"\\u9879\\u76ee\\u7f16\\u53f710\", \"projectName\": null, \"projectBudgetSum\": null, \"projectStartTime\": null, \"projectEndTime\": null, \"projectStatus\": null, \"projectComment\": \"\", \"projectDelete\": 1, \"budgetID\": null, \"username\": null, \"departmentName\": null, \"projectDepartmentID\": null}\n",
      "Project:ID:11{\"userID\": null, \"projectID\": 11, \"projectSerial\": \"\\u9879\\u76ee\\u7f16\\u53f711\", \"projectName\": null, \"projectBudgetSum\": null, \"projectStartTime\": null, \"projectEndTime\": null, \"projectStatus\": null, \"projectComment\": \"\", \"projectDelete\": 0, \"budgetID\": null, \"username\": null, \"departmentName\": null, \"projectDepartmentID\": null}\n",
      "Project:ID:12{\"userID\": null, \"projectID\": 12, \"projectSerial\": \"\\u9879\\u76ee\\u7f16\\u53f712\", \"projectName\": null, \"projectBudgetSum\": null, \"projectStartTime\": null, \"projectEndTime\": null, \"projectStatus\": null, \"projectComment\": \"\", \"projectDelete\": 0, \"budgetID\": null, \"username\": null, \"departmentName\": null, \"projectDepartmentID\": null}\n",
      "Project:ID:13{\"userID\": null, \"projectID\": 13, \"projectSerial\": \"\\u9879\\u76ee\\u7f16\\u53f713\", \"projectName\": null, \"projectBudgetSum\": null, \"projectStartTime\": null, \"projectEndTime\": null, \"projectStatus\": null, \"projectComment\": \"\", \"projectDelete\": 0, \"budgetID\": null, \"username\": null, \"departmentName\": null, \"projectDepartmentID\": null}\n",
      "Project:ID:14{\"userID\": null, \"projectID\": 14, \"projectSerial\": \"\\u9879\\u76ee\\u7f16\\u53f714\", \"projectName\": null, \"projectBudgetSum\": null, \"projectStartTime\": null, \"projectEndTime\": null, \"projectStatus\": null, \"projectComment\": \"\", \"projectDelete\": 1, \"budgetID\": null, \"username\": null, \"departmentName\": null, \"projectDepartmentID\": null}\n",
      "Project:ID:15{\"userID\": null, \"projectID\": 15, \"projectSerial\": \"\\u9879\\u76ee\\u7f16\\u53f715\", \"projectName\": null, \"projectBudgetSum\": null, \"projectStartTime\": null, \"projectEndTime\": null, \"projectStatus\": null, \"projectComment\": \"\", \"projectDelete\": 1, \"budgetID\": null, \"username\": null, \"departmentName\": null, \"projectDepartmentID\": null}\n",
      "Project:ID:16{\"userID\": null, \"projectID\": 16, \"projectSerial\": \"\\u9879\\u76ee\\u7f16\\u53f716\", \"projectName\": null, \"projectBudgetSum\": null, \"projectStartTime\": null, \"projectEndTime\": null, \"projectStatus\": null, \"projectComment\": \"\", \"projectDelete\": 1, \"budgetID\": null, \"username\": null, \"departmentName\": null, \"projectDepartmentID\": null}\n",
      "Project:ID:17{\"userID\": null, \"projectID\": 17, \"projectSerial\": \"\\u9879\\u76ee\\u7f16\\u53f717\", \"projectName\": null, \"projectBudgetSum\": null, \"projectStartTime\": null, \"projectEndTime\": null, \"projectStatus\": null, \"projectComment\": \"\", \"projectDelete\": 0, \"budgetID\": null, \"username\": null, \"departmentName\": null, \"projectDepartmentID\": null}\n",
      "Project:ID:18{\"userID\": null, \"projectID\": 18, \"projectSerial\": \"\\u9879\\u76ee\\u7f16\\u53f718\", \"projectName\": null, \"projectBudgetSum\": null, \"projectStartTime\": null, \"projectEndTime\": null, \"projectStatus\": null, \"projectComment\": \"\", \"projectDelete\": 0, \"budgetID\": null, \"username\": null, \"departmentName\": null, \"projectDepartmentID\": null}\n",
      "Project:ID:19{\"userID\": null, \"projectID\": 19, \"projectSerial\": \"\\u9879\\u76ee\\u7f16\\u53f719\", \"projectName\": null, \"projectBudgetSum\": null, \"projectStartTime\": null, \"projectEndTime\": null, \"projectStatus\": null, \"projectComment\": \"\", \"projectDelete\": 0, \"budgetID\": null, \"username\": null, \"departmentName\": null, \"projectDepartmentID\": null}\n",
      "Project:ID:20{\"userID\": null, \"projectID\": 20, \"projectSerial\": \"\\u9879\\u76ee\\u7f16\\u53f720\", \"projectName\": null, \"projectBudgetSum\": null, \"projectStartTime\": null, \"projectEndTime\": null, \"projectStatus\": null, \"projectComment\": \"\", \"projectDelete\": 0, \"budgetID\": null, \"username\": null, \"departmentName\": null, \"projectDepartmentID\": null}\n",
      "Project:ID:21{\"userID\": null, \"projectID\": 21, \"projectSerial\": \"\\u9879\\u76ee\\u7f16\\u53f721\", \"projectName\": null, \"projectBudgetSum\": null, \"projectStartTime\": null, \"projectEndTime\": null, \"projectStatus\": null, \"projectComment\": \"\", \"projectDelete\": 0, \"budgetID\": null, \"username\": null, \"departmentName\": null, \"projectDepartmentID\": null}\n",
      "Project:ID:22{\"userID\": null, \"projectID\": 22, \"projectSerial\": \"\\u9879\\u76ee\\u7f16\\u53f722\", \"projectName\": null, \"projectBudgetSum\": null, \"projectStartTime\": null, \"projectEndTime\": null, \"projectStatus\": null, \"projectComment\": \"\", \"projectDelete\": 0, \"budgetID\": null, \"username\": null, \"departmentName\": null, \"projectDepartmentID\": null}\n",
      "Project:ID:23{\"userID\": null, \"projectID\": 23, \"projectSerial\": \"\\u9879\\u76ee\\u7f16\\u53f723\", \"projectName\": null, \"projectBudgetSum\": null, \"projectStartTime\": null, \"projectEndTime\": null, \"projectStatus\": null, \"projectComment\": \"\", \"projectDelete\": 0, \"budgetID\": null, \"username\": null, \"departmentName\": null, \"projectDepartmentID\": null}\n",
      "Project:ID:24{\"userID\": null, \"projectID\": 24, \"projectSerial\": \"\\u9879\\u76ee\\u7f16\\u53f724\", \"projectName\": null, \"projectBudgetSum\": null, \"projectStartTime\": null, \"projectEndTime\": null, \"projectStatus\": null, \"projectComment\": \"\", \"projectDelete\": 0, \"budgetID\": null, \"username\": null, \"departmentName\": null, \"projectDepartmentID\": null}\n",
      "Project:ID:25{\"userID\": null, \"projectID\": 25, \"projectSerial\": \"\\u9879\\u76ee\\u7f16\\u53f725\", \"projectName\": null, \"projectBudgetSum\": null, \"projectStartTime\": null, \"projectEndTime\": null, \"projectStatus\": null, \"projectComment\": \"\", \"projectDelete\": 0, \"budgetID\": null, \"username\": null, \"departmentName\": null, \"projectDepartmentID\": null}\n",
      "Project:ID:26{\"userID\": null, \"projectID\": 26, \"projectSerial\": \"\\u9879\\u76ee\\u7f16\\u53f726\", \"projectName\": null, \"projectBudgetSum\": null, \"projectStartTime\": null, \"projectEndTime\": null, \"projectStatus\": null, \"projectComment\": \"\", \"projectDelete\": 0, \"budgetID\": null, \"username\": null, \"departmentName\": null, \"projectDepartmentID\": null}\n",
      "Project:ID:27{\"userID\": null, \"projectID\": 27, \"projectSerial\": \"\\u9879\\u76ee\\u7f16\\u53f727\", \"projectName\": null, \"projectBudgetSum\": null, \"projectStartTime\": null, \"projectEndTime\": null, \"projectStatus\": null, \"projectComment\": \"\", \"projectDelete\": 0, \"budgetID\": null, \"username\": null, \"departmentName\": null, \"projectDepartmentID\": null}\n",
      "Project:ID:28{\"userID\": null, \"projectID\": 28, \"projectSerial\": \"\\u9879\\u76ee\\u7f16\\u53f728\", \"projectName\": null, \"projectBudgetSum\": null, \"projectStartTime\": null, \"projectEndTime\": null, \"projectStatus\": null, \"projectComment\": \"\", \"projectDelete\": 0, \"budgetID\": null, \"username\": null, \"departmentName\": null, \"projectDepartmentID\": null}\n",
      "Project:ID:29{\"userID\": null, \"projectID\": 29, \"projectSerial\": \"\\u9879\\u76ee\\u7f16\\u53f729\", \"projectName\": null, \"projectBudgetSum\": null, \"projectStartTime\": null, \"projectEndTime\": null, \"projectStatus\": null, \"projectComment\": \"\", \"projectDelete\": 0, \"budgetID\": null, \"username\": null, \"departmentName\": null, \"projectDepartmentID\": null}\n",
      "Project:ID:30{\"userID\": null, \"projectID\": 30, \"projectSerial\": \"\\u9879\\u76ee\\u7f16\\u53f730\", \"projectName\": null, \"projectBudgetSum\": null, \"projectStartTime\": null, \"projectEndTime\": null, \"projectStatus\": null, \"projectComment\": \"\", \"projectDelete\": 0, \"budgetID\": null, \"username\": null, \"departmentName\": null, \"projectDepartmentID\": null}\n",
      "Project:ID:31{\"userID\": null, \"projectID\": 31, \"projectSerial\": \"\\u9879\\u76ee\\u7f16\\u53f731\", \"projectName\": null, \"projectBudgetSum\": null, \"projectStartTime\": null, \"projectEndTime\": null, \"projectStatus\": null, \"projectComment\": \"\", \"projectDelete\": 0, \"budgetID\": null, \"username\": null, \"departmentName\": null, \"projectDepartmentID\": null}\n",
      "Project:ID:32{\"userID\": null, \"projectID\": 32, \"projectSerial\": \"\\u9879\\u76ee\\u7f16\\u53f732\", \"projectName\": null, \"projectBudgetSum\": null, \"projectStartTime\": null, \"projectEndTime\": null, \"projectStatus\": null, \"projectComment\": \"\", \"projectDelete\": 0, \"budgetID\": null, \"username\": null, \"departmentName\": null, \"projectDepartmentID\": null}\n",
      "Project:ID:33{\"userID\": null, \"projectID\": 33, \"projectSerial\": \"\\u9879\\u76ee\\u7f16\\u53f733\", \"projectName\": null, \"projectBudgetSum\": 3300, \"projectStartTime\": null, \"projectEndTime\": null, \"projectStatus\": null, \"projectComment\": \"\", \"projectDelete\": 0, \"budgetID\": null, \"username\": null, \"departmentName\": null, \"projectDepartmentID\": null}\n",
      "Project:ID:54{\"userID\": null, \"projectID\": 54, \"projectSerial\": \"\\u9879\\u76ee\\u7f16\\u53f734\", \"projectName\": null, \"projectBudgetSum\": null, \"projectStartTime\": null, \"projectEndTime\": null, \"projectStatus\": null, \"projectComment\": \"\", \"projectDelete\": 0, \"budgetID\": null, \"username\": null, \"departmentName\": null, \"projectDepartmentID\": null}\n",
      "Project:ID:55{\"userID\": null, \"projectID\": 55, \"projectSerial\": \"\\u9879\\u76ee\\u7f16\\u53f735\", \"projectName\": null, \"projectBudgetSum\": null, \"projectStartTime\": null, \"projectEndTime\": null, \"projectStatus\": null, \"projectComment\": \"\", \"projectDelete\": 0, \"budgetID\": null, \"username\": null, \"departmentName\": null, \"projectDepartmentID\": null}\n",
      "Project:ID:56{\"userID\": null, \"projectID\": 56, \"projectSerial\": \"\\u9879\\u76ee\\u7f16\\u53f736\", \"projectName\": null, \"projectBudgetSum\": null, \"projectStartTime\": null, \"projectEndTime\": null, \"projectStatus\": null, \"projectComment\": \"\", \"projectDelete\": 0, \"budgetID\": null, \"username\": null, \"departmentName\": null, \"projectDepartmentID\": null}\n",
      "Project:ID:57{\"userID\": null, \"projectID\": 57, \"projectSerial\": \"\\u9879\\u76ee\\u7f16\\u53f737\", \"projectName\": null, \"projectBudgetSum\": 222222, \"projectStartTime\": null, \"projectEndTime\": null, \"projectStatus\": null, \"projectComment\": \"\", \"projectDelete\": 0, \"budgetID\": null, \"username\": null, \"departmentName\": null, \"projectDepartmentID\": null}\n"
     ]
    },
    {
     "data": {
      "text/plain": [
       "[True,\n",
       " True,\n",
       " True,\n",
       " True,\n",
       " True,\n",
       " True,\n",
       " True,\n",
       " True,\n",
       " True,\n",
       " True,\n",
       " True,\n",
       " True,\n",
       " True,\n",
       " True,\n",
       " True,\n",
       " True,\n",
       " True,\n",
       " True,\n",
       " True,\n",
       " True,\n",
       " True,\n",
       " True,\n",
       " True,\n",
       " True,\n",
       " True,\n",
       " True,\n",
       " True,\n",
       " True,\n",
       " True,\n",
       " True,\n",
       " True,\n",
       " True,\n",
       " True,\n",
       " True,\n",
       " True,\n",
       " True,\n",
       " True]"
      ]
     },
     "execution_count": 3,
     "metadata": {},
     "output_type": "execute_result"
    }
   ],
   "source": [
    "# 设置项目详情\n",
    "sql = 'SELECT userID, project.projectID,projectSerial,projectName,projectBudgetSum,projectStartTime,projectEndTime,projectStatus,projectComment,projectDelete,budgetID,username,departmentName,projectDepartmentID  FROM project left JOIN department ON projectDepartmentID=departmentID left JOIN `user` ON projectChargerID=userID'\n",
    "result = db.query(sql)\n",
    "pipe = r.pipeline(transaction=True)\n",
    "for i in result:\n",
    "    value = json.dumps(i, default=date_handler)\n",
    "    key = \"Project:ID:\"+str(i.get(\"projectID\"))\n",
    "    print (key+value)\n",
    "    pipe.set(key, value)\n",
    "pipe.execute()"
   ]
  },
  {
   "cell_type": "code",
   "execution_count": 4,
   "metadata": {},
   "outputs": [
    {
     "data": {
      "text/plain": [
       "[]"
      ]
     },
     "execution_count": 4,
     "metadata": {},
     "output_type": "execute_result"
    }
   ],
   "source": [
    "# 设置项目列表\n",
    "# r.zadd(\"Project:All:Default\",)\n",
    "sql = 'SELECT project.projectID from project'\n",
    "result = db.query(sql)\n",
    "pipe = r.pipeline(transaction=True)\n",
    "for i in result:\n",
    "    value = str(i.get(\"projectID\"))\n",
    "    key = \"Project:All:Default\"\n",
    "#     print (key+value)\n",
    "    r.zadd(key, i.get(\"projectID\"), value)\n",
    "pipe.execute()"
   ]
  },
  {
   "cell_type": "code",
   "execution_count": 5,
   "metadata": {},
   "outputs": [
    {
     "name": "stdout",
     "output_type": "stream",
     "text": [
      "[{'userID': 2, 'projectID': 2, 'projectSerial': '项目编号2', 'projectName': '项目名称2', 'projectBudgetSum': 10000, 'projectStartTime': '2018-07-17', 'projectEndTime': '2018-08-17', 'projectStatus': 2, 'projectComment': '备注222222222222', 'projectDelete': 0, 'budgetID': 1, 'username': 'tong', 'departmentName': '部门1', 'projectDepartmentID': '1'}, {'userID': 2, 'projectID': 3, 'projectSerial': '项目编号3', 'projectName': '项目名称3', 'projectBudgetSum': 10000, 'projectStartTime': '2018-07-16', 'projectEndTime': '2018-08-16', 'projectStatus': 1, 'projectComment': '备注1', 'projectDelete': 0, 'budgetID': 2, 'username': 'tong', 'departmentName': '部门1', 'projectDepartmentID': '1'}]\n"
     ]
    }
   ],
   "source": [
    "# 测试获取项目列表\n",
    "prolist = r.zrange(\"Project:All:Default\", 1, 2)\n",
    "result=[]\n",
    "keys=[]\n",
    "for i in prolist:\n",
    "    key = \"Project:ID:\"+i\n",
    "    result.append(json.loads(r.get(key)))\n",
    "print(result)"
   ]
  },
  {
   "cell_type": "code",
   "execution_count": 6,
   "metadata": {},
   "outputs": [
    {
     "data": {
      "text/plain": [
       "'{\"userID\": 2, \"projectID\": 1, \"projectSerial\": \"\\\\u9879\\\\u76ee\\\\u7f16\\\\u53f71\", \"projectName\": \"\\\\u9879\\\\u76ee\\\\u540d\\\\u79f01\", \"projectBudgetSum\": 10000, \"projectStartTime\": \"2018-07-18\", \"projectEndTime\": \"2018-08-18\", \"projectStatus\": 2, \"projectComment\": \"\\\\u5907\\\\u6ce8111111111111\", \"projectDelete\": 0, \"budgetID\": 1, \"username\": \"tong\", \"departmentName\": \"\\\\u90e8\\\\u95e81\", \"projectDepartmentID\": \"1\"}'"
      ]
     },
     "execution_count": 6,
     "metadata": {},
     "output_type": "execute_result"
    }
   ],
   "source": [
    "r.get(\"Project:ID:1\")"
   ]
  },
  {
   "cell_type": "code",
   "execution_count": 7,
   "metadata": {
    "scrolled": true
   },
   "outputs": [
    {
     "data": {
      "text/plain": [
       "[]"
      ]
     },
     "execution_count": 7,
     "metadata": {},
     "output_type": "execute_result"
    }
   ],
   "source": [
    "# 所有用户列表\n",
    "sql = 'SELECT userID from user'\n",
    "result = db.query(sql)\n",
    "pipe = r.pipeline(transaction=True)\n",
    "for i in result:\n",
    "    value = str(i.get(\"userID\"))\n",
    "    key = \"User:All:Default\"\n",
    "#     print (key+value)\n",
    "    r.zadd(key,value, value)\n",
    "pipe.execute()"
   ]
  },
  {
   "cell_type": "code",
   "execution_count": 8,
   "metadata": {},
   "outputs": [
    {
     "data": {
      "text/plain": [
       "[0, 0, 0, 0]"
      ]
     },
     "execution_count": 8,
     "metadata": {},
     "output_type": "execute_result"
    }
   ],
   "source": [
    "# 用户的项目列表\n",
    "userList = r.zrange(\"User:All:Default\", 0 ,-1)\n",
    "sql = 'SELECT project.projectSerial,project.projectID from project where projectChargerID = %s'\n",
    "pipe = r.pipeline(transaction=True)\n",
    "for j in userList:\n",
    "    result = db.query(sql, j)\n",
    "    for i in result:\n",
    "        value = str(i.get(\"projectSerial\"))\n",
    "        key = \"ProjectSerial:User:\"+j\n",
    "        pipe.zadd(key, value,i.get(\"projectID\") )\n",
    "pipe.execute()"
   ]
  },
  {
   "cell_type": "code",
   "execution_count": 9,
   "metadata": {},
   "outputs": [
    {
     "data": {
      "text/plain": [
       "[0, 0, 0, 0, 0, 0, 0, 0, 0, 0, 0, 0, 0, 0, 0, 0]"
      ]
     },
     "execution_count": 9,
     "metadata": {},
     "output_type": "execute_result"
    }
   ],
   "source": [
    "# 用户的项目下的合同列表\n",
    "userList = r.zrange(\"User:All:Default\", 0 ,-1)\n",
    "sql = 'SELECT contractSerial,contractID FROM contract WHERE projectID= %s'\n",
    "pipe = r.pipeline(transaction=True)\n",
    "for j in userList:\n",
    "    for i in r.zrange(\"Project:User:\"+j,0,-1):\n",
    "        for k in db.query(sql,i):\n",
    "            value = str(k.get(\"contractSerial\"))\n",
    "            key1 = \"ContractSerial:User:\"+j+\":Project:\"+i\n",
    "            key2 = \"ContracSerialt:User:\"+j\n",
    "            pipe.zadd(key1, value, k.get(\"contractID\"), )\n",
    "            pipe.zadd(key2, value, k.get(\"contractID\"))\n",
    "\n",
    "\n",
    "pipe.execute()\n",
    "        \n"
   ]
  },
  {
   "cell_type": "code",
   "execution_count": 10,
   "metadata": {},
   "outputs": [
    {
     "name": "stdout",
     "output_type": "stream",
     "text": [
      "Contract:ID:235{\"contractID\": 235, \"contractSerial\": \"\\u5408\\u540c\\u7f16\\u53f710\", \"contractName\": \"\\u5408\\u540c\\u540d\\u79f010\", \"contractPartner\": \"\\u7532\\u3001\\u4e59\\u3001\\u4e19\\u3001\\u4e01\", \"contractSignedTime\": \"2018-07-18\", \"contractMoney\": 10000, \"contractComment\": \"\\u5907\\u6ce810\", \"projectSerial\": \"\\u9879\\u76ee\\u7f16\\u53f71\", \"contractDelete\": 0, \"contractOwner\": \"\\u674e\\u56db\", \"contractContent\": \"xxx10\"}\n",
      "Contract:ID:236{\"contractID\": 236, \"contractSerial\": \"\\u5408\\u540c\\u7f16\\u53f71\", \"contractName\": \"\\u5408\\u540c\\u540d\\u79f01\", \"contractPartner\": \"\\u7532\\u4e59\\u4e19\", \"contractSignedTime\": \"2018-07-17\", \"contractMoney\": 200, \"contractComment\": \"\\u5907\\u6ce81\", \"projectSerial\": \"\\u9879\\u76ee\\u7f16\\u53f71\", \"contractDelete\": 0, \"contractOwner\": \"\\u8d23\\u4efb\\u4eba1\", \"contractContent\": \"xxx1\"}\n",
      "Contract:ID:237{\"contractID\": 237, \"contractSerial\": \"\\u5408\\u540c\\u7f16\\u53f73\", \"contractName\": \"\\u5408\\u540c\\u540d\\u79f03\", \"contractPartner\": \"\\u7532\\u4e59\\u4e19\", \"contractSignedTime\": \"2018-07-15\", \"contractMoney\": 10000, \"contractComment\": \"\\u5907\\u6ce83\", \"projectSerial\": \"\\u9879\\u76ee\\u7f16\\u53f71\", \"contractDelete\": 0, \"contractOwner\": \"\\u8d23\\u4efb\\u4eba1\", \"contractContent\": \"xxx3\"}\n",
      "Contract:ID:238{\"contractID\": 238, \"contractSerial\": \"\\u5408\\u540c\\u7f16\\u53f75\", \"contractName\": \"\\u5408\\u540c\\u540d\\u79f05\", \"contractPartner\": \"\\u7532\\u4e59\\u4e19\", \"contractSignedTime\": \"1996-11-17\", \"contractMoney\": 10000, \"contractComment\": \"\\u5907\\u6ce85\", \"projectSerial\": \"\\u9879\\u76ee\\u7f16\\u53f71\", \"contractDelete\": 0, \"contractOwner\": \"\\u8d23\\u4efb\\u4eba1\", \"contractContent\": \"xxx5\"}\n",
      "Contract:ID:239{\"contractID\": 239, \"contractSerial\": \"\\u5408\\u540c\\u7f16\\u53f76\", \"contractName\": \"\\u5408\\u540c\\u540d\\u79f06\", \"contractPartner\": \"\\u7532\\u4e59\\u4e19\", \"contractSignedTime\": \"1903-01-14\", \"contractMoney\": 10000, \"contractComment\": \"\\u5907\\u6ce86\", \"projectSerial\": \"\\u9879\\u76ee\\u7f16\\u53f71\", \"contractDelete\": 0, \"contractOwner\": \"\\u8d23\\u4efb\\u4eba1\", \"contractContent\": \"xxx6\"}\n",
      "Contract:ID:240{\"contractID\": 240, \"contractSerial\": \"\\u5408\\u540c\\u7f16\\u53f77\", \"contractName\": \"\\u5408\\u540c\\u540d\\u79f07\", \"contractPartner\": \"\\u7532\\u4e59\\u4e19\", \"contractSignedTime\": \"2018-07-11\", \"contractMoney\": 10000, \"contractComment\": \"\\u5907\\u6ce87\", \"projectSerial\": \"\\u9879\\u76ee\\u7f16\\u53f71\", \"contractDelete\": 0, \"contractOwner\": \"\\u8d23\\u4efb\\u4eba1\", \"contractContent\": \"xxx7\"}\n",
      "Contract:ID:241{\"contractID\": 241, \"contractSerial\": \"\\u5408\\u540c\\u7f16\\u53f78\", \"contractName\": \"\\u5408\\u540c\\u540d\\u79f08\", \"contractPartner\": \"\\u7532\\u4e59\\u4e19\", \"contractSignedTime\": \"2018-07-10\", \"contractMoney\": 10000, \"contractComment\": \"\\u5907\\u6ce88\", \"projectSerial\": \"\\u9879\\u76ee\\u7f16\\u53f71\", \"contractDelete\": 0, \"contractOwner\": \"\\u8d23\\u4efb\\u4eba1\", \"contractContent\": \"xxx8\"}\n",
      "Contract:ID:242{\"contractID\": 242, \"contractSerial\": \"\\u5408\\u540c\\u7f16\\u53f79\", \"contractName\": \"\\u5408\\u540c\\u540d\\u79f09\", \"contractPartner\": \"\\u7532\\u4e59\\u4e19\", \"contractSignedTime\": \"2018-07-09\", \"contractMoney\": 10000, \"contractComment\": \"\\u5907\\u6ce89\", \"projectSerial\": \"\\u9879\\u76ee\\u7f16\\u53f71\", \"contractDelete\": 0, \"contractOwner\": \"\\u8d23\\u4efb\\u4eba1\", \"contractContent\": \"xxx9\"}\n"
     ]
    },
    {
     "data": {
      "text/plain": [
       "[True, True, True, True, True, True, True, True]"
      ]
     },
     "execution_count": 10,
     "metadata": {},
     "output_type": "execute_result"
    }
   ],
   "source": [
    "# 设置合同详情\n",
    "sql = 'SELECT contractID,contractSerial,contractName,contractPartner,contractSignedTime,contractMoney,contractComment,projectSerial,contractDelete,contractOwner,contractContent FROM contract INNER JOIN project ON project.projectID = contract.projectID'\n",
    "result = db.query(sql)\n",
    "pipe = r.pipeline(transaction=True)\n",
    "for i in result:\n",
    "    value = json.dumps(i, default=date_handler)\n",
    "    key = \"Contract:ID:\"+str(i.get(\"contractID\"))\n",
    "    print (key+value)\n",
    "    pipe.set(key, value)\n",
    "pipe.execute()"
   ]
  },
  {
   "cell_type": "code",
   "execution_count": 11,
   "metadata": {},
   "outputs": [
    {
     "name": "stdout",
     "output_type": "stream",
     "text": [
      "Document:ID:1{\"documentID\": 1, \"documentSerial\": \"1\", \"documentName\": \"\\u6587\\u68631\", \"documentUploadTime\": \"2018-07-18\", \"documentOwner\": \"tong\", \"documentComment\": \"xx\", \"documentUrl\": \"\", \"documentType\": 0, \"documentDelete\": 1, \"projectSerial\": \"\\u9879\\u76ee\\u7f16\\u53f71\", \"contractSerial\": \"\\u5408\\u540c\\u7f16\\u53f71\"}\n",
      "Document:ID:2{\"documentID\": 2, \"documentSerial\": \"2\", \"documentName\": \"\\u6587\\u68632\", \"documentUploadTime\": \"2018-07-16\", \"documentOwner\": \"qiang\", \"documentComment\": \"xx\", \"documentUrl\": \"\", \"documentType\": 0, \"documentDelete\": 1, \"projectSerial\": \"\\u9879\\u76ee\\u7f16\\u53f72\", \"contractSerial\": \"\\u5408\\u540c\\u7f16\\u53f73\"}\n",
      "Document:ID:3{\"documentID\": 3, \"documentSerial\": \"3\", \"documentName\": \"\\u6587\\u68633\", \"documentUploadTime\": \"2018-07-17\", \"documentOwner\": \"wan\", \"documentComment\": \"xx\", \"documentUrl\": \"\", \"documentType\": 0, \"documentDelete\": 0, \"projectSerial\": \"\\u9879\\u76ee\\u7f16\\u53f73\", \"contractSerial\": \"\\u5408\\u540c\\u7f16\\u53f75\"}\n",
      "Document:ID:4{\"documentID\": 4, \"documentSerial\": \"4\", \"documentName\": \"\\u6587\\u68634\", \"documentUploadTime\": \"2018-07-15\", \"documentOwner\": \"peng\", \"documentComment\": \"xx\", \"documentUrl\": \"\", \"documentType\": 0, \"documentDelete\": 0, \"projectSerial\": \"\\u9879\\u76ee\\u7f16\\u53f74\", \"contractSerial\": \"\\u5408\\u540c\\u7f16\\u53f76\"}\n"
     ]
    },
    {
     "data": {
      "text/plain": [
       "[True, True, True, True]"
      ]
     },
     "execution_count": 11,
     "metadata": {},
     "output_type": "execute_result"
    }
   ],
   "source": [
    "# 设置文档详情\n",
    "sql = 'SELECT documentID, documentSerial, documentName, documentUploadTime, documentOwner , documentComment, documentUrl, documentType, documentDelete, projectSerial , contractSerial FROM document INNER JOIN project ON document.`projectID` = project.`projectID` INNER JOIN contract ON document.contractID = contract.contractID'\n",
    "result = db.query(sql)\n",
    "pipe = r.pipeline(transaction=True)\n",
    "for i in result:\n",
    "    value = json.dumps(i, default=date_handler)\n",
    "    key = \"Document:ID:\"+str(i.get(\"documentID\"))\n",
    "    print (key+value)\n",
    "    pipe.set(key, value)\n",
    "pipe.execute()"
   ]
  },
  {
   "cell_type": "code",
   "execution_count": 12,
   "metadata": {},
   "outputs": [
    {
     "name": "stdout",
     "output_type": "stream",
     "text": [
      "Document:ID:1{\"documentID\": 1, \"documentSerial\": \"1\", \"documentName\": \"\\u6587\\u68631\", \"documentUploadTime\": \"2018-07-18\", \"documentOwner\": \"tong\", \"documentComment\": \"xx\", \"documentUrl\": \"\", \"documentType\": 0, \"documentDelete\": 1, \"projectSerial\": \"\\u9879\\u76ee\\u7f16\\u53f71\", \"contractSerial\": \"\\u5408\\u540c\\u7f16\\u53f71\"}\n",
      "Document:ID:2{\"documentID\": 2, \"documentSerial\": \"2\", \"documentName\": \"\\u6587\\u68632\", \"documentUploadTime\": \"2018-07-16\", \"documentOwner\": \"qiang\", \"documentComment\": \"xx\", \"documentUrl\": \"\", \"documentType\": 0, \"documentDelete\": 1, \"projectSerial\": \"\\u9879\\u76ee\\u7f16\\u53f72\", \"contractSerial\": \"\\u5408\\u540c\\u7f16\\u53f73\"}\n",
      "Document:ID:3{\"documentID\": 3, \"documentSerial\": \"3\", \"documentName\": \"\\u6587\\u68633\", \"documentUploadTime\": \"2018-07-17\", \"documentOwner\": \"wan\", \"documentComment\": \"xx\", \"documentUrl\": \"\", \"documentType\": 0, \"documentDelete\": 0, \"projectSerial\": \"\\u9879\\u76ee\\u7f16\\u53f73\", \"contractSerial\": \"\\u5408\\u540c\\u7f16\\u53f75\"}\n",
      "Document:ID:4{\"documentID\": 4, \"documentSerial\": \"4\", \"documentName\": \"\\u6587\\u68634\", \"documentUploadTime\": \"2018-07-15\", \"documentOwner\": \"peng\", \"documentComment\": \"xx\", \"documentUrl\": \"\", \"documentType\": 0, \"documentDelete\": 0, \"projectSerial\": \"\\u9879\\u76ee\\u7f16\\u53f74\", \"contractSerial\": \"\\u5408\\u540c\\u7f16\\u53f76\"}\n"
     ]
    },
    {
     "data": {
      "text/plain": [
       "[True, True, True, True]"
      ]
     },
     "execution_count": 12,
     "metadata": {},
     "output_type": "execute_result"
    }
   ],
   "source": [
    "# 设置文档详情\n",
    "sql = 'SELECT documentID, documentSerial, documentName, documentUploadTime, documentOwner , documentComment, documentUrl, documentType, documentDelete, projectSerial , contractSerial FROM document INNER JOIN project ON document.`projectID` = project.`projectID` INNER JOIN contract ON document.contractID = contract.contractID'\n",
    "result = db.query(sql)\n",
    "pipe = r.pipeline(transaction=True)\n",
    "for i in result:\n",
    "    value = json.dumps(i, default=date_handler)\n",
    "    key = \"Document:ID:\"+str(i.get(\"documentID\"))\n",
    "    print (key+value)\n",
    "    pipe.set(key, value)\n",
    "pipe.execute()"
   ]
  },
  {
   "cell_type": "code",
   "execution_count": 13,
   "metadata": {},
   "outputs": [
    {
     "name": "stdout",
     "output_type": "stream",
     "text": [
      "Asset:ID:1{\"assetID\": 1, \"assetSerial\": \"zichanbiaohao1\", \"assetName\": \"zichanname1\", \"assetSpec\": \"guige1\", \"assetModel\": \"xinghao1\", \"assetAmount\": 1000, \"assetMoney\": 100000, \"assetDate\": \"2018-07-25\", \"assetOwner\": \"tong\", \"assetComment\": \"beizhu1\", \"assetStatus\": 0, \"assetDelete\": 1, \"projectSerial\": \"\\u9879\\u76ee\\u7f16\\u53f71\", \"assetDepID\": \"1\"}\n",
      "Asset:ID:2{\"assetID\": 2, \"assetSerial\": \"zichanbiaohao2\", \"assetName\": \"zichanname2\", \"assetSpec\": \"guige2\", \"assetModel\": \"xinghao2\", \"assetAmount\": 200, \"assetMoney\": 20000, \"assetDate\": \"2018-07-24\", \"assetOwner\": \"qiang\", \"assetComment\": \"beizhu2\", \"assetStatus\": 0, \"assetDelete\": 1, \"projectSerial\": \"\\u9879\\u76ee\\u7f16\\u53f72\", \"assetDepID\": \"2\"}\n",
      "Asset:ID:3{\"assetID\": 3, \"assetSerial\": \"zichanbiaohao3\", \"assetName\": \"zichanname3\", \"assetSpec\": \"guige3\", \"assetModel\": \"xinghao3\", \"assetAmount\": 300, \"assetMoney\": 30000, \"assetDate\": \"2018-07-23\", \"assetOwner\": \"wan\", \"assetComment\": \"beizhu3\", \"assetStatus\": 0, \"assetDelete\": 1, \"projectSerial\": \"\\u9879\\u76ee\\u7f16\\u53f73\", \"assetDepID\": \"3\"}\n"
     ]
    },
    {
     "data": {
      "text/plain": [
       "[True, True, True]"
      ]
     },
     "execution_count": 13,
     "metadata": {},
     "output_type": "execute_result"
    }
   ],
   "source": [
    "# 设置资产详情\n",
    "sql = 'SELECT assetID, assetSerial, assetName, assetSpec, assetModel , assetAmount, assetMoney, assetDate, assetOwner, assetComment , assetStatus, assetDelete, projectSerial, assetDepID FROM asset INNER JOIN project ON asset.projectID = project.projectID'\n",
    "result = db.query(sql)\n",
    "pipe = r.pipeline(transaction=True)\n",
    "for i in result:\n",
    "    value = json.dumps(i, default=date_handler)\n",
    "    key = \"Asset:ID:\"+str(i.get(\"assetID\"))\n",
    "    print (key+value)\n",
    "    pipe.set(key, value)\n",
    "pipe.execute()"
   ]
  },
  {
   "cell_type": "code",
   "execution_count": 2,
   "metadata": {
    "scrolled": true
   },
   "outputs": [
    {
     "name": "stdout",
     "output_type": "stream",
     "text": [
      "Finance:ID:1{\"financeID\": 1, \"financeSerials\": \"1\", \"financeDate\": \"2018-07-10\", \"financeName\": \"fiance1\", \"financeMoney\": 10000, \"financeStatus\": 1, \"financeDelete\": 1, \"borrowName\": \"\\u8d22\\u52a17\", \"lendName\": \"\\u8d22\\u52a15\", \"buyOrgFormInfo\": \"buyorgform1\", \"buyMethodInfo\": \"buymethod1\", \"buyTypeInfo\": \"buytype1\", \"payMethodInfo\": \"info1\", \"projectSerial\": \"\\u9879\\u76ee\\u7f16\\u53f71\", \"financeBorrowerID\": \"7\", \"financeLenderID\": \"5\", \"financeTypeID\": \"1\", \"financeBuyOrgID\": \"1\", \"financeBuyMethodID\": \"1\", \"payMethodID\": \"1\", \"contractSerial\": \"\\u5408\\u540c\\u7f16\\u53f76\"}\n",
      "Finance:ID:2{\"financeID\": 2, \"financeSerials\": \"2\", \"financeDate\": \"2018-07-11\", \"financeName\": \"fiance2\", \"financeMoney\": 20000, \"financeStatus\": 0, \"financeDelete\": 0, \"borrowName\": \"\\u8d22\\u52a18\", \"lendName\": \"\\u8d22\\u52a14\", \"buyOrgFormInfo\": \"buyorgform2\", \"buyMethodInfo\": \"buymethod3\", \"buyTypeInfo\": \"buytype1\", \"payMethodInfo\": \"info4\", \"projectSerial\": \"\\u9879\\u76ee\\u7f16\\u53f72\", \"financeBorrowerID\": \"8\", \"financeLenderID\": \"4\", \"financeTypeID\": \"1\", \"financeBuyOrgID\": \"2\", \"financeBuyMethodID\": \"3\", \"payMethodID\": \"4\", \"contractSerial\": \"\\u5408\\u540c\\u7f16\\u53f77\"}\n",
      "Finance:ID:3{\"financeID\": 3, \"financeSerials\": \"3\", \"financeDate\": \"2018-07-12\", \"financeName\": \"fiance3\", \"financeMoney\": 30000, \"financeStatus\": 1, \"financeDelete\": 0, \"borrowName\": \"\\u8d22\\u52a18\", \"lendName\": \"\\u8d22\\u52a14\", \"buyOrgFormInfo\": \"buyorgform3\", \"buyMethodInfo\": \"buymethod2\", \"buyTypeInfo\": \"buytype4\", \"payMethodInfo\": \"info4\", \"projectSerial\": \"\\u9879\\u76ee\\u7f16\\u53f73\", \"financeBorrowerID\": \"8\", \"financeLenderID\": \"4\", \"financeTypeID\": \"4\", \"financeBuyOrgID\": \"3\", \"financeBuyMethodID\": \"2\", \"payMethodID\": \"4\", \"contractSerial\": \"\\u5408\\u540c\\u7f16\\u53f78\"}\n",
      "Finance:ID:4{\"financeID\": 4, \"financeSerials\": \"4\", \"financeDate\": \"2018-07-13\", \"financeName\": \"fiance4\", \"financeMoney\": 40000, \"financeStatus\": 0, \"financeDelete\": 1, \"borrowName\": \"\\u8d22\\u52a14\", \"lendName\": \"\\u8d22\\u52a14\", \"buyOrgFormInfo\": \"buyorgform4\", \"buyMethodInfo\": \"buymethod4\", \"buyTypeInfo\": \"buytype4\", \"payMethodInfo\": \"info4\", \"projectSerial\": \"\\u9879\\u76ee\\u7f16\\u53f74\", \"financeBorrowerID\": \"4\", \"financeLenderID\": \"4\", \"financeTypeID\": \"4\", \"financeBuyOrgID\": \"4\", \"financeBuyMethodID\": \"4\", \"payMethodID\": \"4\", \"contractSerial\": \"\\u5408\\u540c\\u7f16\\u53f79\"}\n",
      "Finance:ID:5{\"financeID\": 5, \"financeSerials\": \"5\", \"financeDate\": \"2018-07-10\", \"financeName\": \"fiance1\", \"financeMoney\": 10000, \"financeStatus\": 1, \"financeDelete\": 1, \"borrowName\": \"\\u8d22\\u52a17\", \"lendName\": \"\\u8d22\\u52a15\", \"buyOrgFormInfo\": \"buyorgform1\", \"buyMethodInfo\": \"buymethod1\", \"buyTypeInfo\": \"buytype1\", \"payMethodInfo\": \"info1\", \"projectSerial\": \"\\u9879\\u76ee\\u7f16\\u53f71\", \"financeBorrowerID\": \"7\", \"financeLenderID\": \"5\", \"financeTypeID\": \"1\", \"financeBuyOrgID\": \"1\", \"financeBuyMethodID\": \"1\", \"payMethodID\": \"1\", \"contractSerial\": \"\\u5408\\u540c\\u7f16\\u53f76\"}\n"
     ]
    },
    {
     "data": {
      "text/plain": [
       "[True, True, True, True, True]"
      ]
     },
     "execution_count": 2,
     "metadata": {},
     "output_type": "execute_result"
    }
   ],
   "source": [
    "# 设置财务详情\n",
    "sql = 'SELECT financeID,financeSerials,financeDate,financeName,financeMoney,financeStatus,financeDelete,borrowName,lendName,buyOrgFormInfo,buyMethodInfo,buyTypeInfo,payMethodInfo,projectSerial,financeBorrowerID,financeLenderID,financeTypeID,financeBuyOrgID,financeBuyMethodID,finance.payMethodID,contractSerial FROM finance INNER JOIN ( SELECT accountantID,accountantName AS borrowName FROM accountant) borrow ON financeBorrowerID=borrow.accountantID INNER JOIN ( SELECT accountantID,accountantName AS lendName FROM accountant) lend ON financeLenderID=lend.accountantID INNER JOIN buyorgform ON financeBuyOrgID=buyOrgFormID INNER JOIN buymethod ON financeBuyMethodID=buyMethodID INNER JOIN buytype ON financeTypeID=buyTypeID INNER JOIN paymethod ON finance.payMethodID=paymethod.`payMethodID` INNER JOIN project ON finance.`projectID`=project.`projectID` INNER JOIN contract ON finance.`contractID`=contract.`contractID`'\n",
    "result = db.query(sql)\n",
    "pipe = r.pipeline(transaction=True)\n",
    "for i in result:\n",
    "    value = json.dumps(i, default=date_handler)\n",
    "    key = \"Finance:ID:\"+str(i.get(\"financeID\"))\n",
    "    print (key+value)\n",
    "    pipe.set(key, value)\n",
    "pipe.execute()"
   ]
  },
  {
   "cell_type": "code",
   "execution_count": 15,
   "metadata": {},
   "outputs": [
    {
     "name": "stdout",
     "output_type": "stream",
     "text": [
      "Budget:ID:1{\"budgetID\": 1, \"budgetSerial\": \"\\u9884\\u7b97\\u7f16\\u53f71\", \"projectBudgetSum\": 10000, \"projectContractsSum\": 100000, \"projectContractsPayed\": 111111, \"projectContractsNotPayed\": 4400, \"projectBudgetLeft\": 14400, \"projectID\": 3, \"projectSerial\": \"\\u9879\\u76ee\\u7f16\\u53f73\", \"projectName\": \"\\u9879\\u76ee\\u540d\\u79f03\", \"projectStartTime\": \"2018-07-16\"}\n",
      "Budget:ID:2{\"budgetID\": 2, \"budgetSerial\": \"\\u9884\\u7b97\\u7f16\\u53f72\", \"projectBudgetSum\": 10000, \"projectContractsSum\": 100000, \"projectContractsPayed\": 22222, \"projectContractsNotPayed\": 4400, \"projectBudgetLeft\": 14400, \"projectID\": 2, \"projectSerial\": \"\\u9879\\u76ee\\u7f16\\u53f72\", \"projectName\": \"\\u9879\\u76ee\\u540d\\u79f02\", \"projectStartTime\": \"2018-07-17\"}\n",
      "Budget:ID:8{\"budgetID\": 8, \"budgetSerial\": \"e64f0c03-90a4-11e8-bac3-5254007b4b25\", \"projectBudgetSum\": 222222, \"projectContractsSum\": 0, \"projectContractsPayed\": 0, \"projectContractsNotPayed\": 0, \"projectBudgetLeft\": 222222, \"projectID\": 57, \"projectSerial\": \"\\u9879\\u76ee\\u7f16\\u53f737\", \"projectName\": null, \"projectStartTime\": null}\n"
     ]
    },
    {
     "data": {
      "text/plain": [
       "[True, True, True]"
      ]
     },
     "execution_count": 15,
     "metadata": {},
     "output_type": "execute_result"
    }
   ],
   "source": [
    "# 设置预算详情\n",
    "sql = 'SELECT budgetdetail.budgetID,budgetSerial,project.projectBudgetSum,projectContractsSum,projectContractsPayed,projectContractsNotPayed,projectBudgetLeft,project.projectID,projectSerial,projectName,projectStartTime FROM budgetdetail INNER JOIN project ON budgetdetail.projectID=project.projectID'\n",
    "result = db.query(sql)\n",
    "pipe = r.pipeline(transaction=True)\n",
    "for i in result:\n",
    "    value = json.dumps(i, default=date_handler)\n",
    "    key = \"Budget:ID:\"+str(i.get(\"budgetID\"))\n",
    "    print (key+value)\n",
    "    pipe.set(key, value)\n",
    "pipe.execute()"
   ]
  },
  {
   "cell_type": "code",
   "execution_count": 16,
   "metadata": {},
   "outputs": [
    {
     "name": "stdout",
     "output_type": "stream",
     "text": [
      "<option value=\"\">请选择贷方信息</option><optgroup label=\"v4.0\"><option value=\"8\">财务8</option></optgroup><optgroup label=\"v3.0（已失效）\"><option value=\"3\">财务3</option></optgroup><optgroup label=\"v2.0（已失效）\"><option value=\"2\">财务2</option></optgroup><optgroup label=\"v1.0（已失效）\"><option value=\"1\">财务1</option><option value=\"7\">财务7</option></optgroup>\n"
     ]
    },
    {
     "data": {
      "text/plain": [
       "True"
      ]
     },
     "execution_count": 16,
     "metadata": {},
     "output_type": "execute_result"
    }
   ],
   "source": [
    "# 查 选择借方信息 version  \n",
    "sql1 = \"select versionBuildNum from version order by verisionID desc \"\n",
    "versionList = []\n",
    "for i in db.query(sql1):\n",
    "    versionList.append(i[\"versionBuildNum\"])\n",
    "    \n",
    "# 查具体的  借方下拉框\n",
    "sql2= \"SELECT accountantID,accountantName,accountantType,versionID FROM accountant inner join version on accountant.versionID = version.verisionID WHERE accountantType = 0 and versionBuildNum = %s\"\n",
    "resultHtml = '<option value=\"\">请选择贷方信息</option>'\n",
    "i=0\n",
    "for versionBuildNum in versionList:\n",
    "    if i==0:\n",
    "        resultHtml += '<optgroup label=\"'+ versionBuildNum +'\">'\n",
    "    else:\n",
    "        resultHtml += '<optgroup label=\"'+ versionBuildNum +'（已失效）\">'\n",
    "\n",
    "\n",
    "    for j in  db.query(sql2, versionBuildNum):\n",
    "        resultHtml += '<option value=\"' + j[\"accountantID\"] +'\">' + j[\"accountantName\"] + '</option>'\n",
    "    resultHtml += '</optgroup>'\n",
    "    i+=1\n",
    "\n",
    "# resultHtml += '</select>'\n",
    "\n",
    "print(resultHtml)\n",
    "\n",
    "\n",
    "# value = json.dumps(resultList)\n",
    "key = \"BorrowType:list\"\n",
    "   \n",
    "r.set(key, resultHtml)\n",
    "    \n",
    "   "
   ]
  },
  {
   "cell_type": "code",
   "execution_count": 17,
   "metadata": {},
   "outputs": [
    {
     "name": "stdout",
     "output_type": "stream",
     "text": [
      "<option value=\"\">请选择贷方信息</option><optgroup label=\"v4.0\"><option value=\"4\">财务4</option></optgroup><optgroup label=\"v3.0（已失效）\"><option value=\"6\">财务6</option></optgroup><optgroup label=\"v2.0（已失效）\"><option value=\"5\">财务5</option></optgroup><optgroup label=\"v1.0（已失效）\"></optgroup>\n"
     ]
    },
    {
     "data": {
      "text/plain": [
       "True"
      ]
     },
     "execution_count": 17,
     "metadata": {},
     "output_type": "execute_result"
    }
   ],
   "source": [
    "# 查 贷方下拉框 version  \n",
    "sql1 = \"select versionBuildNum from version order by verisionID desc \"\n",
    "versionList = []\n",
    "for i in db.query(sql1):\n",
    "    versionList.append(i[\"versionBuildNum\"])\n",
    "    \n",
    "# 查具体的  贷方下拉框\n",
    "sql2= \" SELECT accountantID,accountantName,accountantType,versionID FROM accountant inner join version on accountant.versionID = version.verisionID WHERE accountantType = 1 and versionBuildNum = %s\"\n",
    "resultHtml = '<option value=\"\">请选择贷方信息</option>'\n",
    "i=0\n",
    "for versionBuildNum in versionList:\n",
    "    if i==0:\n",
    "        resultHtml += '<optgroup label=\"'+ versionBuildNum +'\">'\n",
    "    else:\n",
    "        resultHtml += '<optgroup label=\"'+ versionBuildNum +'（已失效）\">'\n",
    "        \n",
    "        \n",
    " \n",
    "    for j in  db.query(sql2, versionBuildNum):\n",
    "        resultHtml += '<option value=\"' + j[\"accountantID\"] +'\">' + j[\"accountantName\"] + '</option>'\n",
    "    resultHtml += '</optgroup>'\n",
    "    i+=1\n",
    "\n",
    "# resultHtml += '</select>'\n",
    "\n",
    "print(resultHtml)\n",
    "\n",
    "\n",
    "# value = json.dumps(resultList)\n",
    "key = \"LendType:list\"\n",
    "   \n",
    "r.set(key, resultHtml)"
   ]
  },
  {
   "cell_type": "code",
   "execution_count": 18,
   "metadata": {},
   "outputs": [
    {
     "name": "stdout",
     "output_type": "stream",
     "text": [
      "<option value=\"\"></option><optgroup label=\"v4.0\"></optgroup><optgroup label=\"v3.0（已失效）\"><option value=\"2\">批复2</option></optgroup><optgroup label=\"v2.0（已失效）\"><option value=\"4\">批复4</option></optgroup><optgroup label=\"v1.0（已失效）\"><option value=\"1\">批复1</option><option value=\"3\">批复3</option></optgroup>\n"
     ]
    },
    {
     "data": {
      "text/plain": [
       "True"
      ]
     },
     "execution_count": 18,
     "metadata": {},
     "output_type": "execute_result"
    }
   ],
   "source": [
    "# 查 version  \n",
    "sql1 = \"select versionBuildNum from version order by verisionID desc \"\n",
    "versionList = []\n",
    "for i in db.query(sql1):\n",
    "    versionList.append(i[\"versionBuildNum\"])\n",
    "    \n",
    "# 查具体的  预算批复下拉框\n",
    "sql2= \" SELECT budgetReplyID,budgetReplyInfo,versionID FROM budgetreply inner join version on budgetreply.versionID = version.verisionID WHERE versionBuildNum = %s\"\n",
    "resultHtml = '<option value=\"\"></option>'\n",
    "i=0\n",
    "for versionBuildNum in versionList:\n",
    "    if i==0:\n",
    "        resultHtml += '<optgroup label=\"'+ versionBuildNum +'\">'\n",
    "    else:\n",
    "        resultHtml += '<optgroup label=\"'+ versionBuildNum +'（已失效）\">'\n",
    "    \n",
    "    for j in  db.query(sql2, versionBuildNum):\n",
    "        resultHtml += '<option value=\"' + j[\"budgetReplyID\"] +'\">' + j[\"budgetReplyInfo\"] + '</option>'\n",
    "    resultHtml += '</optgroup>'\n",
    "    i+=1\n",
    "\n",
    "# resultHtml += '</select>'\n",
    "\n",
    "print(resultHtml)\n",
    "\n",
    "\n",
    "# value = json.dumps(resultList)\n",
    "key = \"BudgetReply:list\"\n",
    "   \n",
    "r.set(key, resultHtml)"
   ]
  },
  {
   "cell_type": "code",
   "execution_count": 6,
   "metadata": {},
   "outputs": [
    {
     "name": "stdout",
     "output_type": "stream",
     "text": [
      "<option value=\"\"></option><optgroup label=\"v4.0\"><option value=\"4\">建设内容4</option></optgroup><optgroup label=\"v3.0（已失效）\"><option value=\"3\">建设内容3</option></optgroup><optgroup label=\"v2.0（已失效）\"><option value=\"2\">建设内容2</option></optgroup><optgroup label=\"v1.0（已失效）\"><option value=\"1\">建设内容1</option></optgroup>\n"
     ]
    },
    {
     "data": {
      "text/plain": [
       "True"
      ]
     },
     "execution_count": 6,
     "metadata": {},
     "output_type": "execute_result"
    }
   ],
   "source": [
    "# 查 version  \n",
    "sql1 = \"select versionBuildNum from version order by verisionID desc \"\n",
    "versionList = []\n",
    "for i in db.query(sql1):\n",
    "    versionList.append(i[\"versionBuildNum\"])\n",
    "    \n",
    "# 查具体的  建设内容下拉框\n",
    "sql2= \" SELECT buildContentID,buildInfo,versionID FROM buildcontent inner join version on buildcontent.versionID = version.verisionID WHERE versionBuildNum = %s\"\n",
    "resultHtml = '<option value=\"\"></option>'\n",
    "i=0\n",
    "for versionBuildNum in versionList:\n",
    "    if i==0:\n",
    "        resultHtml += '<optgroup label=\"'+ versionBuildNum +'\">'\n",
    "    else:\n",
    "        resultHtml += '<optgroup label=\"'+ versionBuildNum +'（已失效）\">'\n",
    "    for j in  db.query(sql2, versionBuildNum):\n",
    "        resultHtml += '<option value=\"' + j[\"buildContentID\"] +'\">' + j[\"buildInfo\"] + '</option>'\n",
    "    resultHtml += '</optgroup>'\n",
    "    i+=1\n",
    "\n",
    "# resultHtml += '</select>'\n",
    "\n",
    "print(resultHtml)\n",
    "\n",
    "\n",
    "# value = json.dumps(resultList)\n",
    "key = \"BuildContent:list\"\n",
    "   \n",
    "r.set(key, resultHtml)"
   ]
  },
  {
   "cell_type": "code",
   "execution_count": 20,
   "metadata": {},
   "outputs": [
    {
     "name": "stdout",
     "output_type": "stream",
     "text": [
      "<option value=\"\"></option><optgroup label=\"v4.0\"></optgroup><optgroup label=\"v3.0（已失效）\"><option value=\"3\">buymethod3</option></optgroup><optgroup label=\"v2.0（已失效）\"><option value=\"2\">buymethod2</option></optgroup><optgroup label=\"v1.0（已失效）\"><option value=\"1\">buymethod1</option></optgroup>\n"
     ]
    },
    {
     "data": {
      "text/plain": [
       "True"
      ]
     },
     "execution_count": 20,
     "metadata": {},
     "output_type": "execute_result"
    }
   ],
   "source": [
    "# 查 version  \n",
    "sql1 = \"select versionBuildNum from version order by verisionID desc \"\n",
    "versionList = []\n",
    "for i in db.query(sql1):\n",
    "    versionList.append(i[\"versionBuildNum\"])\n",
    "    \n",
    "# 查具体的  采购方式下拉框\n",
    "sql2= \" SELECT buyMethodID,buyMethodInfo,versionID FROM buymethod inner join version on buymethod.versionID = version.verisionID WHERE versionBuildNum = %s\"\n",
    "resultHtml = '<option value=\"\"></option>'\n",
    "i=0\n",
    "for versionBuildNum in versionList:\n",
    "    if i==0:\n",
    "        resultHtml += '<optgroup label=\"'+ versionBuildNum +'\">'\n",
    "    else:\n",
    "        resultHtml += '<optgroup label=\"'+ versionBuildNum +'（已失效）\">'\n",
    "    for j in  db.query(sql2, versionBuildNum):\n",
    "        resultHtml += '<option value=\"' + j[\"buyMethodID\"] +'\">' + j[\"buyMethodInfo\"] + '</option>'\n",
    "    resultHtml += '</optgroup>'\n",
    "    i+=1\n",
    "\n",
    "# resultHtml += '</select>'\n",
    "\n",
    "print(resultHtml)\n",
    "\n",
    "\n",
    "# value = json.dumps(resultList)\n",
    "key = \"PurchaseWay:list\"\n",
    "   \n",
    "r.set(key, resultHtml)"
   ]
  },
  {
   "cell_type": "code",
   "execution_count": 21,
   "metadata": {},
   "outputs": [
    {
     "name": "stdout",
     "output_type": "stream",
     "text": [
      "<option value=\"\"></option><optgroup label=\"v4.0\"><option value=\"4\">buyorgform4</option></optgroup><optgroup label=\"v3.0（已失效）\"><option value=\"3\">buyorgform3</option></optgroup><optgroup label=\"v2.0（已失效）\"><option value=\"2\">buyorgform2</option></optgroup><optgroup label=\"v1.0（已失效）\"><option value=\"1\">buyorgform1</option></optgroup>\n"
     ]
    },
    {
     "data": {
      "text/plain": [
       "True"
      ]
     },
     "execution_count": 21,
     "metadata": {},
     "output_type": "execute_result"
    }
   ],
   "source": [
    "# 查 version  \n",
    "sql1 = \"select versionBuildNum from version order by verisionID desc \"\n",
    "versionList = []\n",
    "for i in db.query(sql1):\n",
    "    versionList.append(i[\"versionBuildNum\"])\n",
    "    \n",
    "# 查具体的  采购组织方式下拉框\n",
    "sql2= \" SELECT buyOrgFormID,buyOrgFormInfo,versionID FROM buyorgform inner join version on buyorgform.versionID = version.verisionID  WHERE versionBuildNum = %s\"\n",
    "resultHtml = '<option value=\"\"></option>'\n",
    "i=0\n",
    "for versionBuildNum in versionList:\n",
    "    if i==0:\n",
    "        resultHtml += '<optgroup label=\"'+ versionBuildNum +'\">'\n",
    "    else:\n",
    "        resultHtml += '<optgroup label=\"'+ versionBuildNum +'（已失效）\">'\n",
    "    for j in  db.query(sql2,versionBuildNum):\n",
    "        resultHtml += '<option value=\"' + j[\"buyOrgFormID\"] +'\">' + j[\"buyOrgFormInfo\"] + '</option>'\n",
    "    resultHtml += '</optgroup>'\n",
    "    i+=1\n",
    "\n",
    "# resultHtml += '</select>'\n",
    "\n",
    "print(resultHtml)\n",
    "\n",
    "\n",
    "# value = json.dumps(resultList)\n",
    "key = \"BuyOrgMethod:list\"\n",
    "   \n",
    "r.set(key, resultHtml)"
   ]
  },
  {
   "cell_type": "code",
   "execution_count": 22,
   "metadata": {},
   "outputs": [
    {
     "name": "stdout",
     "output_type": "stream",
     "text": [
      "<option value=\"\"></option><optgroup label=\"v4.0\"><option value=\"4\">buytype4</option></optgroup><optgroup label=\"v3.0（已失效）\"><option value=\"3\">buytype3</option></optgroup><optgroup label=\"v2.0（已失效）\"><option value=\"2\">buytype2</option></optgroup><optgroup label=\"v1.0（已失效）\"><option value=\"1\">buytype1</option></optgroup>\n"
     ]
    },
    {
     "data": {
      "text/plain": [
       "True"
      ]
     },
     "execution_count": 22,
     "metadata": {},
     "output_type": "execute_result"
    }
   ],
   "source": [
    "# 查 version  \n",
    "sql1 = \"select versionBuildNum from version order by verisionID desc \"\n",
    "versionList = []\n",
    "for i in db.query(sql1):\n",
    "    versionList.append(i[\"versionBuildNum\"])\n",
    "    \n",
    "# 查具体的  采购类型下拉框\n",
    "sql2= \" SELECT buyTypeID,buyTypeInfo,versionID FROM buytype inner join version on buytype.versionID = version.verisionID  WHERE versionBuildNum = %s\"\n",
    "resultHtml = '<option value=\"\"></option>'\n",
    "i=0\n",
    "for versionBuildNum in versionList:\n",
    "    if i==0:\n",
    "        resultHtml += '<optgroup label=\"'+ versionBuildNum +'\">'\n",
    "    else:\n",
    "        resultHtml += '<optgroup label=\"'+ versionBuildNum +'（已失效）\">'\n",
    "    for j in  db.query(sql2, versionBuildNum):\n",
    "        resultHtml += '<option value=\"' + j[\"buyTypeID\"] +'\">' + j[\"buyTypeInfo\"] + '</option>'\n",
    "    resultHtml += '</optgroup>'\n",
    "    i+=1\n",
    "\n",
    "# resultHtml += '</select>'\n",
    "\n",
    "print(resultHtml)\n",
    "\n",
    "\n",
    "# value = json.dumps(resultList)\n",
    "key = \"PurchaseType:list\"\n",
    "   \n",
    "r.set(key, resultHtml)"
   ]
  },
  {
   "cell_type": "code",
   "execution_count": 23,
   "metadata": {},
   "outputs": [
    {
     "name": "stdout",
     "output_type": "stream",
     "text": [
      "<option value=\"\"></option><optgroup label=\"v4.0\"></optgroup><optgroup label=\"v3.0（已失效）\"><option value=\"4\">部门4</option></optgroup><optgroup label=\"v2.0（已失效）\"><option value=\"3\">部门3</option></optgroup><optgroup label=\"v1.0（已失效）\"><option value=\"1\">部门1</option><option value=\"2\">部门2</option></optgroup>\n"
     ]
    },
    {
     "data": {
      "text/plain": [
       "True"
      ]
     },
     "execution_count": 23,
     "metadata": {},
     "output_type": "execute_result"
    }
   ],
   "source": [
    "# 查 version  \n",
    "sql1 = \"select versionBuildNum from version order by verisionID desc \"\n",
    "versionList = []\n",
    "for i in db.query(sql1):\n",
    "    versionList.append(i[\"versionBuildNum\"])\n",
    "    \n",
    "# 查具体的  部门下拉框\n",
    "sql2= \" SELECT departmentID,departmentName,versionID FROM department inner join version on department.versionID = version.verisionID  WHERE versionBuildNum = %s\"\n",
    "resultHtml = '<option value=\"\"></option>'\n",
    "i=0\n",
    "for versionBuildNum in versionList:\n",
    "    if i==0:\n",
    "        resultHtml += '<optgroup label=\"'+ versionBuildNum +'\">'\n",
    "    else:\n",
    "        resultHtml += '<optgroup label=\"'+ versionBuildNum +'（已失效）\">'\n",
    "    for j in  db.query(sql2, versionBuildNum):\n",
    "        resultHtml += '<option value=\"' + j[\"departmentID\"] +'\">' + j[\"departmentName\"] + '</option>'\n",
    "    resultHtml += '</optgroup>'\n",
    "    i+=1\n",
    "\n",
    "# resultHtml += '</select>'\n",
    "\n",
    "print(resultHtml)\n",
    "\n",
    "\n",
    "# value = json.dumps(resultList)\n",
    "key = \"Department:list\"\n",
    "   \n",
    "r.set(key, resultHtml)"
   ]
  },
  {
   "cell_type": "code",
   "execution_count": 24,
   "metadata": {},
   "outputs": [
    {
     "name": "stdout",
     "output_type": "stream",
     "text": [
      "<option value=\"\"></option><optgroup label=\"v4.0\"><option value=\"4\">info4</option></optgroup><optgroup label=\"v3.0（已失效）\"><option value=\"3\">info3</option></optgroup><optgroup label=\"v2.0（已失效）\"><option value=\"2\">info2</option></optgroup><optgroup label=\"v1.0（已失效）\"><option value=\"1\">info1</option></optgroup>\n"
     ]
    },
    {
     "data": {
      "text/plain": [
       "True"
      ]
     },
     "execution_count": 24,
     "metadata": {},
     "output_type": "execute_result"
    }
   ],
   "source": [
    "# 查 version  \n",
    "sql1 = \"select versionBuildNum from version order by verisionID desc \"\n",
    "versionList = []\n",
    "for i in db.query(sql1):\n",
    "    versionList.append(i[\"versionBuildNum\"])\n",
    "    \n",
    "# 查具体的  付款方式下拉框\n",
    "sql2= \" SELECT payMethodID,payMethodInfo,versionID FROM paymethod inner join version on paymethod.versionID = version.verisionID  WHERE versionBuildNum = %s\"\n",
    "resultHtml = '<option value=\"\"></option>'\n",
    "i=0\n",
    "for versionBuildNum in versionList:\n",
    "    if i==0:\n",
    "        resultHtml += '<optgroup label=\"'+ versionBuildNum +'\">'\n",
    "    else:\n",
    "        resultHtml += '<optgroup label=\"'+ versionBuildNum +'（已失效）\">'\n",
    "    for j in  db.query(sql2, versionBuildNum):\n",
    "        resultHtml += '<option value=\"' + j[\"payMethodID\"] +'\">' + j[\"payMethodInfo\"] + '</option>'\n",
    "    resultHtml += '</optgroup>'\n",
    "    i+=1\n",
    "\n",
    "# resultHtml += '</select>'\n",
    "\n",
    "print(resultHtml)\n",
    "\n",
    "\n",
    "# value = json.dumps(resultList)\n",
    "key = \"PayMethod:list\"\n",
    "   \n",
    "r.set(key, resultHtml)"
   ]
  },
  {
   "cell_type": "code",
   "execution_count": 25,
   "metadata": {},
   "outputs": [
    {
     "data": {
      "text/plain": [
       "True"
      ]
     },
     "execution_count": 25,
     "metadata": {},
     "output_type": "execute_result"
    }
   ],
   "source": [
    "# 权限下拉框\n",
    "sql = 'SELECT permissionID,url,LEVEL,permissionComment FROM permission'\n",
    "result = db.query(sql)\n",
    "value = json.dumps(i, default=date_handler)\n",
    "key = \"Level:list\"\n",
    "r.set(key, value)"
   ]
  },
  {
   "cell_type": "code",
   "execution_count": 26,
   "metadata": {},
   "outputs": [
    {
     "data": {
      "text/plain": [
       "[True,\n",
       " True,\n",
       " True,\n",
       " True,\n",
       " True,\n",
       " True,\n",
       " True,\n",
       " True,\n",
       " True,\n",
       " True,\n",
       " True,\n",
       " True,\n",
       " True,\n",
       " True,\n",
       " True,\n",
       " True,\n",
       " True,\n",
       " True,\n",
       " True,\n",
       " True,\n",
       " True,\n",
       " True,\n",
       " True,\n",
       " True,\n",
       " True,\n",
       " True,\n",
       " True,\n",
       " True,\n",
       " True,\n",
       " True,\n",
       " True,\n",
       " True,\n",
       " True,\n",
       " True,\n",
       " True,\n",
       " True,\n",
       " True]"
      ]
     },
     "execution_count": 26,
     "metadata": {},
     "output_type": "execute_result"
    }
   ],
   "source": [
    "# 项目钱数相关缓存\n",
    "\n",
    "sql ='select projectID from project'\n",
    "projectList = []\n",
    "for i in db.query(sql):\n",
    "    projectList.append(i[\"projectID\"])\n",
    "sql2 = 'select contractMoney from contract where projectID = %s'\n",
    "\n",
    "pipe = r.pipeline(transaction=True)\n",
    "for projectID in projectList:\n",
    "    contractSum = 0\n",
    "    for contract in db.query(sql2, projectID):\n",
    "        contractSum += contract[\"contractMoney\"]\n",
    "#     print(contractSum, projectID)\n",
    "    key = 'Project:'+str(projectID)+':Contract:Sum'\n",
    "    \n",
    "    pipe.set(key, contractSum)\n",
    "pipe.execute()"
   ]
  },
  {
   "cell_type": "code",
   "execution_count": 27,
   "metadata": {},
   "outputs": [
    {
     "data": {
      "text/plain": [
       "'0'"
      ]
     },
     "execution_count": 27,
     "metadata": {},
     "output_type": "execute_result"
    }
   ],
   "source": [
    "r.get(\"Project:3:Contract:Sum\")"
   ]
  },
  {
   "cell_type": "code",
   "execution_count": 28,
   "metadata": {},
   "outputs": [
    {
     "data": {
      "text/plain": [
       "[True,\n",
       " True,\n",
       " True,\n",
       " True,\n",
       " True,\n",
       " True,\n",
       " True,\n",
       " True,\n",
       " True,\n",
       " True,\n",
       " True,\n",
       " True,\n",
       " True,\n",
       " True,\n",
       " True,\n",
       " True,\n",
       " True,\n",
       " True,\n",
       " True,\n",
       " True,\n",
       " True,\n",
       " True,\n",
       " True,\n",
       " True,\n",
       " True,\n",
       " True,\n",
       " True,\n",
       " True,\n",
       " True,\n",
       " True,\n",
       " True,\n",
       " True]"
      ]
     },
     "execution_count": 28,
     "metadata": {},
     "output_type": "execute_result"
    }
   ],
   "source": [
    "# 项目钱数相关缓存\n",
    "\n",
    "sql ='select contractID, contractMoney from contract'\n",
    "contractList = []\n",
    "pipe = r.pipeline(transaction=True)\n",
    "for i in db.query(sql):\n",
    "    contractList.append(i[\"contractID\"])\n",
    "    pipe.set( 'Contract:ID:'+str(i[\"contractID\"])+\":AllMoney\", i[\"contractMoney\"])\n",
    "#     print(i[\"contractMoney\"])\n",
    "pipe.execute()\n",
    "\n",
    "# contractMoneyList = []\n",
    "sql = 'select sum(financeMoney) as financeMoney from finance where contractID = %s and financeStatus=1 GROUP  BY contractID'\n",
    "sql2 = 'select sum(financeMoney) as financeMoney  from finance where contractID = %s and financeStatus=0 GROUP  BY contractID'\n",
    "\n",
    "\n",
    "pipe = r.pipeline(transaction=True)\n",
    "for i in contractList:\n",
    "#     db.query(sql, i[\"contractID\"])\n",
    "    SumPay = db.query(sql, i)\n",
    "    FinUnPay = db.query(sql2, i)\n",
    "    \n",
    "    if SumPay:\n",
    "        pipe.set(\"Contract:ID:\"+str(i)+\":SumPay\",  SumPay[0]['financeMoney'])\n",
    "        pipe.set(\"Contract:ID:\"+str(i)+\":UnPay\", int(r.get( \"Contract:ID:\"+str(i)+\":AllMoney\")) - int(SumPay[0]['financeMoney']))\n",
    "    else:\n",
    "        pipe.set(\"Contract:ID:\"+str(i)+\":SumPay\",  0)\n",
    "        pipe.set(\"Contract:ID:\"+str(i)+\":UnPay\", r.get( \"Contract:ID:\"+str(i)+\":AllMoney\"))\n",
    "    if FinUnPay:\n",
    "        pipe.set(\"Contract:ID:\"+str(i)+\":FinUnPay\", FinUnPay[0]['financeMoney'])\n",
    "    else:\n",
    "        pipe.set(\"Contract:ID:\"+str(i)+\":FinUnPay\", 0)\n",
    "    if SumPay and FinUnPay:\n",
    "        pipe.set(\"Contract:ID:\"+str(i)+\":Extra\", int(r.get( 'Contract:ID:'+str(i)+\":AllMoney\")) - int(SumPay[0]['financeMoney'] )- int(FinUnPay[0]['financeMoney']))\n",
    "    else:\n",
    "        pipe.set(\"Contract:ID:\"+str(i)+\":Extra\", r.get( 'Contract:ID:'+str(i)+\":AllMoney\"))\n",
    "\n",
    "\n",
    "pipe.execute()"
   ]
  },
  {
   "cell_type": "code",
   "execution_count": 35,
   "metadata": {},
   "outputs": [
    {
     "name": "stdout",
     "output_type": "stream",
     "text": [
      "请输入11\n",
      "<class 'str'>\n"
     ]
    }
   ],
   "source": [
    "print(type(input(\"请输入\")))"
   ]
  },
  {
   "cell_type": "code",
   "execution_count": 30,
   "metadata": {},
   "outputs": [
    {
     "data": {
      "text/plain": [
       "[True, True, True, True]"
      ]
     },
     "execution_count": 30,
     "metadata": {},
     "output_type": "execute_result"
    }
   ],
   "source": [
    "# 设置用户信息缓存\n",
    "\n",
    "sql = 'select * from user '\n",
    "pipe = r.pipeline(transaction=True)\n",
    "\n",
    "\n",
    "for i in db.query(sql):\n",
    "    key = \"User:ID:\"+str(i[\"userID\"])\n",
    "    value = json.dumps(i)\n",
    "    pipe.set(key, value)\n",
    "pipe.execute()"
   ]
  },
  {
   "cell_type": "code",
   "execution_count": 6,
   "metadata": {},
   "outputs": [
    {
     "name": "stdout",
     "output_type": "stream",
     "text": [
      "{'permissionID': 1, 'url': '/getProjectList', 'level': 1, 'permissionComment': '项目列表'}\n",
      "{'permissionID': 2, 'url': '/getProjectDetail', 'level': 1, 'permissionComment': '项目详情'}\n",
      "{'permissionID': 3, 'url': '/addProject', 'level': 1, 'permissionComment': '添加项目'}\n",
      "{'permissionID': 4, 'url': '/deleteProject', 'level': 1, 'permissionComment': '删除项目'}\n",
      "{'permissionID': 5, 'url': '/updateProjectDetail', 'level': 1, 'permissionComment': '编辑项目'}\n",
      "{'permissionID': 6, 'url': '/getProjectList', 'level': 2, 'permissionComment': '项目列表'}\n",
      "{'permissionID': 7, 'url': '/getProjectDetail', 'level': 2, 'permissionComment': '项目详情'}\n",
      "{'permissionID': 8, 'url': '/addProject', 'level': 2, 'permissionComment': '添加项目'}\n",
      "{'permissionID': 9, 'url': '/deleteProject', 'level': 2, 'permissionComment': '删除项目'}\n",
      "{'permissionID': 10, 'url': '/updateProjectDetail', 'level': 2, 'permissionComment': '编辑项目'}\n",
      "{'permissionID': 11, 'url': '/getUserList', 'level': 3, 'permissionComment': '用户列表'}\n",
      "{'permissionID': 12, 'url': '/initUserUpdate', 'level': 3, 'permissionComment': '用户编辑'}\n",
      "{'permissionID': 13, 'url': '/updateUser', 'level': 3, 'permissionComment': '用户编辑'}\n",
      "{'permissionID': 14, 'url': '/updateUserInfo', 'level': 3, 'permissionComment': '用户信息编辑'}\n",
      "{'permissionID': 15, 'url': '/addUser', 'level': 3, 'permissionComment': '添加用户'}\n",
      "{'permissionID': 16, 'url': '/deleteUser', 'level': 3, 'permissionComment': '删除用户'}\n",
      "{'permissionID': 17, 'url': '/getProjectList', 'level': 4, 'permissionComment': '项目列表'}\n",
      "{'permissionID': 18, 'url': '/getProjectDetail', 'level': 4, 'permissionComment': '项目详情 '}\n",
      "{'permissionID': 19, 'url': '/getAssetList', 'level': 4, 'permissionComment': '资产列表'}\n",
      "{'permissionID': 20, 'url': '/getAssetDetail', 'level': 4, 'permissionComment': '资产详情'}\n",
      "{'permissionID': 21, 'url': '/getContractList', 'level': 4, 'permissionComment': '合同列表'}\n",
      "{'permissionID': 22, 'url': '/getContractDetail', 'level': 4, 'permissionComment': '合同详情'}\n",
      "{'permissionID': 23, 'url': '/getDocList', 'level': 4, 'permissionComment': '档案列表'}\n",
      "{'permissionID': 24, 'url': '/getBudgetDetail', 'level': 4, 'permissionComment': '预算详情'}\n",
      "{'permissionID': 25, 'url': '/getFinanceList', 'level': 4, 'permissionComment': '财务列表'}\n",
      "{'permissionID': 26, 'url': '/getFinanceDetail', 'level': 4, 'permissionComment': '财务详情'}\n",
      "{'permissionID': 27, 'url': '/getBudgetDetail', 'level': 4, 'permissionComment': '预算详情'}\n",
      "{'permissionID': 28, 'url': '/getNotification', 'level': 4, 'permissionComment': '通知'}\n",
      "{'permissionID': 29, 'url': '/getAssetList ', 'level': 1, 'permissionComment': None}\n",
      "{'permissionID': 30, 'url': '/getAssetDetail', 'level': 1, 'permissionComment': None}\n",
      "{'permissionID': 31, 'url': '/getAssetUpdate', 'level': 1, 'permissionComment': None}\n",
      "{'permissionID': 32, 'url': '/updateAssetDetail', 'level': 1, 'permissionComment': None}\n",
      "{'permissionID': 33, 'url': '/addAsset', 'level': 1, 'permissionComment': None}\n",
      "{'permissionID': 34, 'url': '/deleteAsset', 'level': 1, 'permissionComment': None}\n",
      "{'permissionID': 35, 'url': '/getContractList', 'level': 1, 'permissionComment': None}\n",
      "{'permissionID': 36, 'url': '/getContractDetail', 'level': 1, 'permissionComment': None}\n",
      "{'permissionID': 37, 'url': '/updateContractDetail', 'level': 1, 'permissionComment': None}\n",
      "{'permissionID': 38, 'url': '/addContract', 'level': 1, 'permissionComment': None}\n",
      "{'permissionID': 39, 'url': '/deleteContract', 'level': 1, 'permissionComment': None}\n",
      "{'permissionID': 40, 'url': '/getDocList', 'level': 1, 'permissionComment': None}\n",
      "{'permissionID': 41, 'url': '/getBudgetDetail', 'level': 1, 'permissionComment': None}\n",
      "{'permissionID': 42, 'url': '/getFinanceList', 'level': 1, 'permissionComment': None}\n",
      "{'permissionID': 43, 'url': '/getFinanceUpdate', 'level': 1, 'permissionComment': None}\n",
      "{'permissionID': 44, 'url': '/getFinanceDetail', 'level': 1, 'permissionComment': None}\n",
      "{'permissionID': 45, 'url': '/deleteFinance', 'level': 1, 'permissionComment': None}\n",
      "{'permissionID': 46, 'url': '/deleteAsset', 'level': 1, 'permissionComment': None}\n",
      "{'permissionID': 47, 'url': '/updateFinance', 'level': 1, 'permissionComment': None}\n",
      "{'permissionID': 48, 'url': '/addFinance', 'level': 1, 'permissionComment': None}\n",
      "{'permissionID': 49, 'url': '/getBudgetDetail', 'level': 1, 'permissionComment': None}\n",
      "{'permissionID': 50, 'url': 'getContractUseMoney', 'level': 1, 'permissionComment': None}\n",
      "{'permissionID': 51, 'url': 'getNotification', 'level': 1, 'permissionComment': None}\n",
      "{'permissionID': 54, 'url': 'getAssetList ', 'level': 2, 'permissionComment': None}\n",
      "{'permissionID': 55, 'url': 'getAssetDetail', 'level': 2, 'permissionComment': None}\n",
      "{'permissionID': 56, 'url': 'getAssetUpdate', 'level': 2, 'permissionComment': None}\n",
      "{'permissionID': 57, 'url': 'updateAssetDetail', 'level': 2, 'permissionComment': None}\n",
      "{'permissionID': 58, 'url': 'addAsset', 'level': 2, 'permissionComment': None}\n",
      "{'permissionID': 59, 'url': 'deleteAsset', 'level': 2, 'permissionComment': None}\n",
      "{'permissionID': 60, 'url': 'getContractList', 'level': 2, 'permissionComment': None}\n",
      "{'permissionID': 61, 'url': 'getContractDetail', 'level': 2, 'permissionComment': None}\n",
      "{'permissionID': 62, 'url': 'updateContractDetail', 'level': 2, 'permissionComment': None}\n",
      "{'permissionID': 63, 'url': 'addContract', 'level': 2, 'permissionComment': None}\n",
      "{'permissionID': 64, 'url': 'deleteContract', 'level': 2, 'permissionComment': None}\n",
      "{'permissionID': 65, 'url': 'getDocList', 'level': 2, 'permissionComment': None}\n",
      "{'permissionID': 66, 'url': 'getBudgetDetail', 'level': 2, 'permissionComment': None}\n",
      "{'permissionID': 67, 'url': 'getFinanceList', 'level': 2, 'permissionComment': None}\n",
      "{'permissionID': 68, 'url': 'getFinanceUpdate', 'level': 2, 'permissionComment': None}\n",
      "{'permissionID': 69, 'url': 'getFinanceDetail', 'level': 2, 'permissionComment': None}\n",
      "{'permissionID': 70, 'url': 'deleteFinance', 'level': 2, 'permissionComment': None}\n",
      "{'permissionID': 71, 'url': 'deleteAsset', 'level': 2, 'permissionComment': None}\n",
      "{'permissionID': 72, 'url': 'updateFinance', 'level': 2, 'permissionComment': None}\n",
      "{'permissionID': 73, 'url': 'addFinance', 'level': 2, 'permissionComment': None}\n",
      "{'permissionID': 74, 'url': 'getBudgetDetail', 'level': 2, 'permissionComment': None}\n",
      "{'permissionID': 75, 'url': 'getContractUseMoney', 'level': 2, 'permissionComment': None}\n",
      "{'permissionID': 76, 'url': 'getNotification', 'level': 2, 'permissionComment': None}\n"
     ]
    },
    {
     "ename": "ResponseError",
     "evalue": "Command # 1 (ZADD Permission /getProjectList:1 1) of pipeline caused error: value is not a valid float",
     "output_type": "error",
     "traceback": [
      "\u001b[1;31m---------------------------------------------------------------------------\u001b[0m",
      "\u001b[1;31mResponseError\u001b[0m                             Traceback (most recent call last)",
      "\u001b[1;32m<ipython-input-6-1f19741b750b>\u001b[0m in \u001b[0;36m<module>\u001b[1;34m()\u001b[0m\n\u001b[0;32m      5\u001b[0m     \u001b[0mprint\u001b[0m\u001b[1;33m(\u001b[0m\u001b[0mi\u001b[0m\u001b[1;33m)\u001b[0m\u001b[1;33m\u001b[0m\u001b[0m\n\u001b[0;32m      6\u001b[0m     \u001b[0mpipe\u001b[0m\u001b[1;33m.\u001b[0m\u001b[0mzadd\u001b[0m\u001b[1;33m(\u001b[0m\u001b[1;34m\"Permission\"\u001b[0m\u001b[1;33m,\u001b[0m \u001b[1;36m1\u001b[0m\u001b[1;33m,\u001b[0m \u001b[0mi\u001b[0m\u001b[1;33m[\u001b[0m\u001b[1;34m\"url\"\u001b[0m\u001b[1;33m]\u001b[0m\u001b[1;33m+\u001b[0m\u001b[1;34m\":\"\u001b[0m\u001b[1;33m+\u001b[0m\u001b[0mstr\u001b[0m\u001b[1;33m(\u001b[0m\u001b[0mi\u001b[0m\u001b[1;33m[\u001b[0m\u001b[1;34m\"level\"\u001b[0m\u001b[1;33m]\u001b[0m\u001b[1;33m)\u001b[0m\u001b[1;33m)\u001b[0m\u001b[1;33m\u001b[0m\u001b[0m\n\u001b[1;32m----> 7\u001b[1;33m \u001b[0mpipe\u001b[0m\u001b[1;33m.\u001b[0m\u001b[0mexecute\u001b[0m\u001b[1;33m(\u001b[0m\u001b[1;33m)\u001b[0m\u001b[1;33m\u001b[0m\u001b[0m\n\u001b[0m",
      "\u001b[1;32mC:\\ProgramData\\Anaconda3\\lib\\site-packages\\redis\\client.py\u001b[0m in \u001b[0;36mexecute\u001b[1;34m(self, raise_on_error)\u001b[0m\n\u001b[0;32m   2877\u001b[0m \u001b[1;33m\u001b[0m\u001b[0m\n\u001b[0;32m   2878\u001b[0m         \u001b[1;32mtry\u001b[0m\u001b[1;33m:\u001b[0m\u001b[1;33m\u001b[0m\u001b[0m\n\u001b[1;32m-> 2879\u001b[1;33m             \u001b[1;32mreturn\u001b[0m \u001b[0mexecute\u001b[0m\u001b[1;33m(\u001b[0m\u001b[0mconn\u001b[0m\u001b[1;33m,\u001b[0m \u001b[0mstack\u001b[0m\u001b[1;33m,\u001b[0m \u001b[0mraise_on_error\u001b[0m\u001b[1;33m)\u001b[0m\u001b[1;33m\u001b[0m\u001b[0m\n\u001b[0m\u001b[0;32m   2880\u001b[0m         \u001b[1;32mexcept\u001b[0m \u001b[1;33m(\u001b[0m\u001b[0mConnectionError\u001b[0m\u001b[1;33m,\u001b[0m \u001b[0mTimeoutError\u001b[0m\u001b[1;33m)\u001b[0m \u001b[1;32mas\u001b[0m \u001b[0me\u001b[0m\u001b[1;33m:\u001b[0m\u001b[1;33m\u001b[0m\u001b[0m\n\u001b[0;32m   2881\u001b[0m             \u001b[0mconn\u001b[0m\u001b[1;33m.\u001b[0m\u001b[0mdisconnect\u001b[0m\u001b[1;33m(\u001b[0m\u001b[1;33m)\u001b[0m\u001b[1;33m\u001b[0m\u001b[0m\n",
      "\u001b[1;32mC:\\ProgramData\\Anaconda3\\lib\\site-packages\\redis\\client.py\u001b[0m in \u001b[0;36m_execute_transaction\u001b[1;34m(self, connection, commands, raise_on_error)\u001b[0m\n\u001b[0;32m   2792\u001b[0m         \u001b[1;31m# find any errors in the response and raise if necessary\u001b[0m\u001b[1;33m\u001b[0m\u001b[1;33m\u001b[0m\u001b[0m\n\u001b[0;32m   2793\u001b[0m         \u001b[1;32mif\u001b[0m \u001b[0mraise_on_error\u001b[0m\u001b[1;33m:\u001b[0m\u001b[1;33m\u001b[0m\u001b[0m\n\u001b[1;32m-> 2794\u001b[1;33m             \u001b[0mself\u001b[0m\u001b[1;33m.\u001b[0m\u001b[0mraise_first_error\u001b[0m\u001b[1;33m(\u001b[0m\u001b[0mcommands\u001b[0m\u001b[1;33m,\u001b[0m \u001b[0mresponse\u001b[0m\u001b[1;33m)\u001b[0m\u001b[1;33m\u001b[0m\u001b[0m\n\u001b[0m\u001b[0;32m   2795\u001b[0m \u001b[1;33m\u001b[0m\u001b[0m\n\u001b[0;32m   2796\u001b[0m         \u001b[1;31m# We have to run response callbacks manually\u001b[0m\u001b[1;33m\u001b[0m\u001b[1;33m\u001b[0m\u001b[0m\n",
      "\u001b[1;32mC:\\ProgramData\\Anaconda3\\lib\\site-packages\\redis\\client.py\u001b[0m in \u001b[0;36mraise_first_error\u001b[1;34m(self, commands, response)\u001b[0m\n\u001b[0;32m   2826\u001b[0m             \u001b[1;32mif\u001b[0m \u001b[0misinstance\u001b[0m\u001b[1;33m(\u001b[0m\u001b[0mr\u001b[0m\u001b[1;33m,\u001b[0m \u001b[0mResponseError\u001b[0m\u001b[1;33m)\u001b[0m\u001b[1;33m:\u001b[0m\u001b[1;33m\u001b[0m\u001b[0m\n\u001b[0;32m   2827\u001b[0m                 \u001b[0mself\u001b[0m\u001b[1;33m.\u001b[0m\u001b[0mannotate_exception\u001b[0m\u001b[1;33m(\u001b[0m\u001b[0mr\u001b[0m\u001b[1;33m,\u001b[0m \u001b[0mi\u001b[0m \u001b[1;33m+\u001b[0m \u001b[1;36m1\u001b[0m\u001b[1;33m,\u001b[0m \u001b[0mcommands\u001b[0m\u001b[1;33m[\u001b[0m\u001b[0mi\u001b[0m\u001b[1;33m]\u001b[0m\u001b[1;33m[\u001b[0m\u001b[1;36m0\u001b[0m\u001b[1;33m]\u001b[0m\u001b[1;33m)\u001b[0m\u001b[1;33m\u001b[0m\u001b[0m\n\u001b[1;32m-> 2828\u001b[1;33m                 \u001b[1;32mraise\u001b[0m \u001b[0mr\u001b[0m\u001b[1;33m\u001b[0m\u001b[0m\n\u001b[0m\u001b[0;32m   2829\u001b[0m \u001b[1;33m\u001b[0m\u001b[0m\n\u001b[0;32m   2830\u001b[0m     \u001b[1;32mdef\u001b[0m \u001b[0mannotate_exception\u001b[0m\u001b[1;33m(\u001b[0m\u001b[0mself\u001b[0m\u001b[1;33m,\u001b[0m \u001b[0mexception\u001b[0m\u001b[1;33m,\u001b[0m \u001b[0mnumber\u001b[0m\u001b[1;33m,\u001b[0m \u001b[0mcommand\u001b[0m\u001b[1;33m)\u001b[0m\u001b[1;33m:\u001b[0m\u001b[1;33m\u001b[0m\u001b[0m\n",
      "\u001b[1;31mResponseError\u001b[0m: Command # 1 (ZADD Permission /getProjectList:1 1) of pipeline caused error: value is not a valid float"
     ]
    }
   ],
   "source": [
    "# 设置权限缓存\n",
    "sql = \" select * from permission\"\n",
    "pipe = r.pipeline(transaction=True)\n",
    "for i in db.query(sql):\n",
    "    pipe.zadd(\"Permission\", 1, i[\"url\"]+\":\"+str(i[\"level\"]))\n",
    "pipe.execute()"
   ]
  },
  {
   "cell_type": "code",
   "execution_count": 12,
   "metadata": {},
   "outputs": [
    {
     "name": "stdout",
     "output_type": "stream",
     "text": [
      "[]\n"
     ]
    }
   ],
   "source": [
    "sql = 'select * from user where userID = null'\n",
    "print(db.query(sql))"
   ]
  },
  {
   "cell_type": "code",
   "execution_count": null,
   "metadata": {},
   "outputs": [],
   "source": []
  }
 ],
 "metadata": {
  "kernelspec": {
   "display_name": "Python 3",
   "language": "python",
   "name": "python3"
  },
  "language_info": {
   "codemirror_mode": {
    "name": "ipython",
    "version": 3
   },
   "file_extension": ".py",
   "mimetype": "text/x-python",
   "name": "python",
   "nbconvert_exporter": "python",
   "pygments_lexer": "ipython3",
   "version": "3.6.5"
  }
 },
 "nbformat": 4,
 "nbformat_minor": 2
}
